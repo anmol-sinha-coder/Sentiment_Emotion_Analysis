{
  "nbformat": 4,
  "nbformat_minor": 0,
  "metadata": {
    "colab": {
      "name": "Emotion detection from text using PyTorch.ipynb",
      "provenance": [],
      "collapsed_sections": [],
      "machine_shape": "hm",
      "include_colab_link": true
    },
    "kernelspec": {
      "name": "python3",
      "display_name": "Python 3"
    },
    "accelerator": "GPU"
  },
  "cells": [
    {
      "cell_type": "markdown",
      "metadata": {
        "id": "view-in-github",
        "colab_type": "text"
      },
      "source": [
        "<a href=\"https://colab.research.google.com/github/anmol-sinha-coder/Sentiment_Emotion_Analysis/blob/main/Multi_Emotion_Analyzer/Emotion_detection_from_text_using_PyTorch.ipynb\" target=\"_parent\"><img src=\"https://colab.research.google.com/assets/colab-badge.svg\" alt=\"Open In Colab\"/></a>"
      ]
    },
    {
      "cell_type": "markdown",
      "metadata": {
        "id": "rufFNufqDmUO"
      },
      "source": [
        "# Emotion detection from text using PyTorch and Federated Learning\n",
        "\n",
        "For this project, we are going to implement an NLP task of creating a model to detect the emotion from text. We will develop this using the PyTorch library and the Federated Learning framework for decentralized training. \n",
        "\n",
        "We will create an emotion detection for the following 5 emotions:\n",
        "\n",
        "| Emotion | Emoji   | Label   |\n",
        "|------|------|------|\n",
        "|Loving| ❤️| 0|\n",
        "|Playful| ⚽️| 1|\n",
        "|Happy| 😄| 2|\n",
        "|Annoyed| 😞| 3|\n",
        "|Foodie| 🍽| 4|\n",
        "\n",
        "## Dataset\n",
        "\n",
        "We will work with a dataset (X, Y) where we have:\n",
        "*   X contains 132 sentences\n",
        "*   Y contains a label between [0, 4] corresponding to the five emotions.\n",
        "\n",
        "For example:\n",
        "\n",
        "| Sentence | Emotion   |\n",
        "|----------|-----------|\n",
        "|food is life|  🍽 Foodie|\n",
        "|I love you mum|  ❤️ Loving|\n",
        "|Stop saying bullshit|  😞 Annoyed|\n",
        "|congratulations on your acceptance|  😄 Happy|\n",
        "|The assignment is too long|    😞 Annoyed|\n",
        "|I want to go play| ⚽️ Playful|\n",
        "|she did not answer my text| 😞 Annoyed|\n",
        "|Your stupidity has no limit| 😞 Annoyed|\n",
        "|how many points did he score|  ⚽️ Playful|\n",
        "|my algorithm performs poorly| 😞 Annoyed|\n",
        "|I got approved|  😄 Happy|\n",
        "\n",
        "## The Model\n",
        "We will build an LSTM model that takes as input word sequences that will take word ordering into account. We will use 50-dimensional [GloVe](https://nlp.stanford.edu/projects/glove/) pre-trained word embeddings to represent words. We will then feed those as an input into an LSTM that will predict the most appropiate emotion for the text. \n",
        "\n",
        "![alt text](https://drive.google.com/uc?id=1s-KYhU5JWF-jvAlZ2MIKKugxLLDdhpQP)\n"
      ]
    },
    {
      "cell_type": "code",
      "metadata": {
        "id": "gwaKRXyaoyNS",
        "outputId": "18ab3017-34f6-41cb-e1b5-3b4d74137981",
        "colab": {
          "base_uri": "https://localhost:8080/",
          "height": 373
        }
      },
      "source": [
        "! git clone https://github.com/anmol-sinha-coder/Sentiment_Emotion_Analysis/\n",
        "! mkdir data/\n",
        "! cp -r Sentiment_Emotion_Analysis/Multi_Emotion_Analyzer/datasets/* data/\n",
        "! wget https://worksheets.codalab.org/rest/bundles/0x97c870dd60eb4f0fa53f257978851c60/contents/blob/glove.6B.50d.txt -P data/"
      ],
      "execution_count": 1,
      "outputs": [
        {
          "output_type": "stream",
          "text": [
            "Cloning into 'Sentiment_Emotion_Analysis'...\n",
            "remote: Enumerating objects: 54, done.\u001b[K\n",
            "remote: Counting objects: 100% (54/54), done.\u001b[K\n",
            "remote: Compressing objects: 100% (50/50), done.\u001b[K\n",
            "remote: Total 98551 (delta 4), reused 52 (delta 4), pack-reused 98497\u001b[K\n",
            "Receiving objects: 100% (98551/98551), 99.32 MiB | 23.53 MiB/s, done.\n",
            "Resolving deltas: 100% (9/9), done.\n",
            "Checking out files: 100% (100057/100057), done.\n",
            "--2020-10-25 22:47:38--  https://worksheets.codalab.org/rest/bundles/0x97c870dd60eb4f0fa53f257978851c60/contents/blob/glove.6B.50d.txt\n",
            "Resolving worksheets.codalab.org (worksheets.codalab.org)... 40.114.41.203\n",
            "Connecting to worksheets.codalab.org (worksheets.codalab.org)|40.114.41.203|:443... connected.\n",
            "HTTP request sent, awaiting response... 200 OK\n",
            "Syntax error in Set-Cookie: codalab_session=\"\"; expires=Thu, 01 Jan 1970 00:00:00 GMT; Max-Age=-1; Path=/ at position 70.\n",
            "Length: unspecified [text/plain]\n",
            "Saving to: ‘data/glove.6B.50d.txt’\n",
            "\n",
            "glove.6B.50d.txt        [           <=>      ] 163.41M  76.4MB/s    in 2.1s    \n",
            "\n",
            "2020-10-25 22:47:40 (76.4 MB/s) - ‘data/glove.6B.50d.txt’ saved [171350079]\n",
            "\n"
          ],
          "name": "stdout"
        }
      ]
    },
    {
      "cell_type": "code",
      "metadata": {
        "id": "GQn1wO2qr01C"
      },
      "source": [
        "import numpy as np\n",
        "import pandas as pd\n",
        "import matplotlib.pyplot as plt\n",
        "import csv\n",
        "import torch\n",
        "import torch.nn as nn\n",
        "import torch.nn.functional as F\n",
        "import torch.optim as optim"
      ],
      "execution_count": 2,
      "outputs": []
    },
    {
      "cell_type": "code",
      "metadata": {
        "id": "d04n5XXyf5Cj"
      },
      "source": [
        "# HELPER FUNCTIONS\n",
        "\n",
        "def read_glove_vecs(glove_file):\n",
        "    with open(glove_file, 'r') as f:\n",
        "        words = set()\n",
        "        word_to_vec_map = {}\n",
        "        for line in f:\n",
        "            line = line.strip().split()\n",
        "            curr_word = line[0]\n",
        "            words.add(curr_word)\n",
        "            word_to_vec_map[curr_word] = np.array(line[1:], dtype=np.float64)\n",
        "        \n",
        "        i = 1\n",
        "        words_to_index = {}\n",
        "        index_to_words = {}\n",
        "        for w in sorted(words):\n",
        "            words_to_index[w] = i\n",
        "            index_to_words[i] = w\n",
        "            i = i + 1\n",
        "    return words_to_index, index_to_words, word_to_vec_map\n",
        "\n",
        "def convert_to_one_hot(Y, C):\n",
        "    Y = np.eye(C)[Y.reshape(-1)]\n",
        "    return Y\n",
        "\n",
        "def read_csv(filename):\n",
        "    phrase = []\n",
        "    emoji = []\n",
        "\n",
        "    with open (filename) as csvDataFile:\n",
        "        csvReader = csv.reader(csvDataFile)\n",
        "\n",
        "        for row in csvReader:\n",
        "            phrase.append(row[0])\n",
        "            emoji.append(row[1])\n",
        "\n",
        "    X = np.asarray(phrase)\n",
        "    Y = np.asarray(emoji, dtype=int)\n",
        "\n",
        "    return X, Y"
      ],
      "execution_count": 3,
      "outputs": []
    },
    {
      "cell_type": "code",
      "metadata": {
        "id": "RmqjSlwofS_i"
      },
      "source": [
        "X_train, Y_train = read_csv('/content/data/train.csv')\n",
        "X_test, Y_test = read_csv('/content/data/test.csv')"
      ],
      "execution_count": 4,
      "outputs": []
    },
    {
      "cell_type": "code",
      "metadata": {
        "id": "Gt5z5eqVih4i"
      },
      "source": [
        "Y_oh_train = convert_to_one_hot(Y_train, C = 5)\n",
        "Y_oh_test = convert_to_one_hot(Y_test, C = 5)"
      ],
      "execution_count": 5,
      "outputs": []
    },
    {
      "cell_type": "code",
      "metadata": {
        "id": "jDe5vX3qiYcB"
      },
      "source": [
        "word_to_index, index_to_word, word_to_vec_map = read_glove_vecs('/content/data/glove.6B.50d.txt')"
      ],
      "execution_count": 6,
      "outputs": []
    },
    {
      "cell_type": "code",
      "metadata": {
        "id": "fh0iyxn_jDCR"
      },
      "source": [
        "def sentences_to_indices(X, word_to_index, max_len):\n",
        "    \"\"\"\n",
        "    Converts an array of sentences (strings) into an array of indices corresponding to words in the sentences.\n",
        "    \"\"\"\n",
        "    \n",
        "    m = X.shape[0]  # number of training examples\n",
        "    \n",
        "    # Initialize X_indices as a numpy matrix of zeros and the correct shape\n",
        "    X_indices = np.zeros((m,max_len))\n",
        "    \n",
        "    for i in range(m):  # loop over training examples\n",
        "        \n",
        "        # Convert the ith sentence in lower case and split into a list of words\n",
        "        sentence_words = X[i].lower().split()\n",
        "        \n",
        "        # Initialize j to 0\n",
        "        j = 0\n",
        "        \n",
        "        # Loop over the words of sentence_words\n",
        "        for w in sentence_words:\n",
        "            # Set the (i,j)th entry of X_indices to the index of the correct word.\n",
        "            X_indices[i, j] = word_to_index[w]\n",
        "            # Increment j to j + 1\n",
        "            j = j + 1\n",
        "    \n",
        "    return X_indices"
      ],
      "execution_count": 7,
      "outputs": []
    },
    {
      "cell_type": "code",
      "metadata": {
        "id": "LLyIs_aFjdfl",
        "outputId": "bf543b7c-1553-486f-b5ec-2c75bac13bfd",
        "colab": {
          "base_uri": "https://localhost:8080/",
          "height": 84
        }
      },
      "source": [
        "X1 = np.array([\"lol\", \"I love you\", \"this is very yummy\"])\n",
        "X1_indices = sentences_to_indices(X1,word_to_index, max_len = 5)\n",
        "print(\"X1 =\", X1)\n",
        "print(\"X1_indices =\", X1_indices)"
      ],
      "execution_count": 8,
      "outputs": [
        {
          "output_type": "stream",
          "text": [
            "X1 = ['lol' 'I love you' 'this is very yummy']\n",
            "X1_indices = [[225122.      0.      0.      0.      0.]\n",
            " [185457. 226278. 394475.      0.      0.]\n",
            " [358160. 192973. 377946. 394957.      0.]]\n"
          ],
          "name": "stdout"
        }
      ]
    },
    {
      "cell_type": "markdown",
      "metadata": {
        "id": "UMKHhghrWcNn"
      },
      "source": [
        "## Defining the Network using Pretrained Embedding Layer using GloVe Word Embeddings"
      ]
    },
    {
      "cell_type": "code",
      "metadata": {
        "id": "JZDWRfRkWhwB"
      },
      "source": [
        "class NN(nn.Module):\n",
        "  def __init__(self, embedding, embedding_dim, hidden_dim, vocab_size, output_dim, batch_size):\n",
        "      super(NN, self).__init__()\n",
        "\n",
        "      self.batch_size = batch_size\n",
        "\n",
        "      self.hidden_dim = hidden_dim\n",
        "\n",
        "      self.word_embeddings = embedding\n",
        "\n",
        "      # The LSTM takes word embeddings as inputs, and outputs hidden states\n",
        "      # with dimensionality hidden_dim.\n",
        "      self.lstm = nn.LSTM(embedding_dim, \n",
        "                          hidden_dim, \n",
        "                          num_layers=2,\n",
        "                          dropout = 0.5,\n",
        "                          batch_first = True)\n",
        "\n",
        "      # The linear layer that maps from hidden state space to output space\n",
        "      self.fc = nn.Linear(hidden_dim, output_dim)\n",
        "\n",
        "  def forward(self, sentence):\n",
        "      \n",
        "      #sentence = sentence.type(torch.LongTensor)\n",
        "      #print ('Shape of sentence is:', sentence.shape)\n",
        "\n",
        "      sentence = sentence.to(device)\n",
        "\n",
        "      embeds = self.word_embeddings(sentence)\n",
        "      #print ('Embedding layer output shape', embeds.shape)\n",
        "\n",
        "      # initializing the hidden state to 0\n",
        "      #hidden=None\n",
        "      \n",
        "      h0 = torch.zeros(2, sentence.size(0), hidden_dim).requires_grad_().to(device)\n",
        "      c0 = torch.zeros(2, sentence.size(0), hidden_dim).requires_grad_().to(device)\n",
        "      \n",
        "      lstm_out, h = self.lstm(embeds, (h0, c0))\n",
        "      # get info from last timestep only\n",
        "      lstm_out = lstm_out[:, -1, :]\n",
        "      #print ('LSTM layer output shape', lstm_out.shape)\n",
        "      #print ('LSTM layer output ', lstm_out)\n",
        "\n",
        "      # Dropout\n",
        "      lstm_out = F.dropout(lstm_out, 0.5)\n",
        "\n",
        "      fc_out = self.fc(lstm_out)\n",
        "      #print ('FC layer output shape', fc_out.shape)\n",
        "      #print ('FC layer output ', fc_out)\n",
        "      \n",
        "      out = fc_out\n",
        "      out = F.softmax(out, dim=1)\n",
        "      #print ('Output layer output shape', out.shape)\n",
        "      #print ('Output layer output ', out)\n",
        "      return out\n",
        "  "
      ],
      "execution_count": 9,
      "outputs": []
    },
    {
      "cell_type": "markdown",
      "metadata": {
        "id": "QK1Bty6f5yQ3"
      },
      "source": [
        "## Creating the Glove Embedding Layer"
      ]
    },
    {
      "cell_type": "code",
      "metadata": {
        "id": "g-UcwaXPgZyj"
      },
      "source": [
        "def pretrained_embedding_layer(word_to_vec_map, word_to_index, non_trainable=True):\n",
        "    num_embeddings = len(word_to_index) + 1                   \n",
        "    embedding_dim = word_to_vec_map[\"cucumber\"].shape[0]  #  dimensionality of GloVe word vectors (= 50)\n",
        "\n",
        "    # Initialize the embedding matrix as a numpy array of zeros of shape (num_embeddings, embedding_dim)\n",
        "    weights_matrix = np.zeros((num_embeddings, embedding_dim))\n",
        "\n",
        "    # Set each row \"index\" of the embedding matrix to be the word vector representation of the \"index\"th word of the vocabulary\n",
        "    for word, index in word_to_index.items():\n",
        "        weights_matrix[index, :] = word_to_vec_map[word]\n",
        "\n",
        "    embed = nn.Embedding.from_pretrained(torch.from_numpy(weights_matrix).type(torch.FloatTensor), freeze=non_trainable)\n",
        "\n",
        "    return embed, num_embeddings, embedding_dim\n"
      ],
      "execution_count": 10,
      "outputs": []
    },
    {
      "cell_type": "markdown",
      "metadata": {
        "id": "C7urFqpr5ntp"
      },
      "source": [
        "## Training the model"
      ]
    },
    {
      "cell_type": "code",
      "metadata": {
        "id": "BEkK7S6v8dVk"
      },
      "source": [
        "device = torch.device(\"cuda:0\" if torch.cuda.is_available() else \"cpu\")\n",
        "\n",
        "def train(model, trainloader, criterion, optimizer, epochs=10):\n",
        "    \n",
        "    model.to(device)\n",
        "    running_loss = 0\n",
        "    \n",
        "    train_losses, test_losses, accuracies = [], [], []\n",
        "    for e in range(epochs):\n",
        "\n",
        "        running_loss = 0\n",
        "        \n",
        "        model.train()\n",
        "        \n",
        "        for sentences, labels in trainloader:\n",
        "\n",
        "            sentences, labels = sentences.to(device), labels.to(device)\n",
        "\n",
        "            # 1) erase previous gradients (if they exist)\n",
        "            optimizer.zero_grad()\n",
        "\n",
        "            # 2) make a prediction\n",
        "            pred = model.forward(sentences)\n",
        "\n",
        "            # 3) calculate how much we missed\n",
        "            loss = criterion(pred, labels)\n",
        "\n",
        "            # 4) figure out which weights caused us to miss\n",
        "            loss.backward()\n",
        "\n",
        "            # 5) change those weights\n",
        "            optimizer.step()\n",
        "\n",
        "            # 6) log our progress\n",
        "            running_loss += loss.item()\n",
        "        \n",
        "        \n",
        "        else:\n",
        "\n",
        "          model.eval()\n",
        "\n",
        "          test_loss = 0\n",
        "          accuracy = 0\n",
        "          \n",
        "          # Turn off gradients for validation, saves memory and computations\n",
        "          with torch.no_grad():\n",
        "              for sentences, labels in test_loader:\n",
        "                  sentences, labels = sentences.to(device), labels.to(device)\n",
        "                  log_ps = model(sentences)\n",
        "                  test_loss += criterion(log_ps, labels)\n",
        "                  \n",
        "                  ps = torch.exp(log_ps)\n",
        "                  top_p, top_class = ps.topk(1, dim=1)\n",
        "                  equals = top_class == labels.view(*top_class.shape)\n",
        "                  accuracy += torch.mean(equals.type(torch.FloatTensor))\n",
        "                  \n",
        "          train_losses.append(running_loss/len(train_loader))\n",
        "          test_losses.append(test_loss/len(test_loader))\n",
        "          accuracies.append(accuracy / len(test_loader) * 100)\n",
        "          if accuracy/len(test_loader)>=0.90:\n",
        "            epochs=e\n",
        "            break\n",
        "          print(\"Epoch: {}/{}.. \".format(e+1, epochs),\n",
        "                \"Training Loss: {:.3f}.. \".format(running_loss/len(train_loader)),\n",
        "                \"Test Loss: {:.3f}.. \".format(test_loss/len(test_loader)),\n",
        "                \"Test Accuracy: {:.3f}\".format(accuracy/len(test_loader)))\n",
        "        \n",
        "    # Plot\n",
        "    plt.figure(figsize=(20, 5))\n",
        "    plt.plot(train_losses, c='b', label='Training loss')\n",
        "    plt.plot(test_losses, c='r', label='Testing loss')\n",
        "    plt.xticks(np.arange(0, epochs))\n",
        "    plt.title('Losses')\n",
        "    plt.legend(loc='upper right')\n",
        "    plt.show()\n",
        "    plt.figure(figsize=(20, 5))\n",
        "    plt.plot(accuracies)\n",
        "    plt.xticks(np.arange(0, epochs))\n",
        "    plt.title('Accuracy')\n",
        "    plt.show()\n",
        "         \n",
        "\n"
      ],
      "execution_count": 11,
      "outputs": []
    },
    {
      "cell_type": "code",
      "metadata": {
        "id": "Fgb8si4s9Jb9",
        "outputId": "c0616cb9-fe5c-423c-ed0e-0a7504d74ba3",
        "colab": {
          "base_uri": "https://localhost:8080/",
          "height": 1000
        }
      },
      "source": [
        "import torch.utils.data\n",
        "\n",
        "maxLen = len(max(X_train, key=len).split())\n",
        "X_train_indices = sentences_to_indices(X_train, word_to_index, maxLen)\n",
        "Y_train_oh = convert_to_one_hot(Y_train, C = 5)\n",
        "\n",
        "X_test_indices = sentences_to_indices(X_test, word_to_index, maxLen)\n",
        "Y_test_oh = convert_to_one_hot(Y_test, C = 5)\n",
        "\n",
        "embedding, vocab_size, embedding_dim = pretrained_embedding_layer(word_to_vec_map, word_to_index, non_trainable=True)\n",
        "\n",
        "hidden_dim=128\n",
        "output_size=5\n",
        "batch_size = 32\n",
        "\n",
        "#print ('Embedding layer is ', embedding)\n",
        "#print ('Embedding layer weights ', embedding.weight.shape)\n",
        "\n",
        "model = NN(embedding, embedding_dim, hidden_dim, vocab_size, output_size, batch_size)\n",
        "criterion = nn.CrossEntropyLoss()\n",
        "optimizer = optim.Adam(model.parameters(), lr=0.002)\n",
        "epochs = 1000000 # A Million\n",
        "train_dataset = torch.utils.data.TensorDataset(torch.tensor(X_train_indices).type(torch.LongTensor), torch.tensor(Y_train).type(torch.LongTensor))\n",
        "train_loader = torch.utils.data.DataLoader(train_dataset, batch_size=batch_size)\n",
        "\n",
        "test_dataset = torch.utils.data.TensorDataset(torch.tensor(X_test_indices).type(torch.LongTensor), torch.tensor(Y_test).type(torch.LongTensor))\n",
        "test_loader = torch.utils.data.DataLoader(test_dataset, batch_size=batch_size)\n",
        "\n",
        "train(model, train_loader, criterion, optimizer, epochs)"
      ],
      "execution_count": 12,
      "outputs": [
        {
          "output_type": "stream",
          "text": [
            "Epoch: 1/100..  Training Loss: 1.609..  Test Loss: 1.598..  Test Accuracy: 0.359\n",
            "Epoch: 2/100..  Training Loss: 1.593..  Test Loss: 1.556..  Test Accuracy: 0.250\n",
            "Epoch: 3/100..  Training Loss: 1.559..  Test Loss: 1.556..  Test Accuracy: 0.302\n",
            "Epoch: 4/100..  Training Loss: 1.565..  Test Loss: 1.549..  Test Accuracy: 0.286\n",
            "Epoch: 5/100..  Training Loss: 1.550..  Test Loss: 1.549..  Test Accuracy: 0.307\n",
            "Epoch: 6/100..  Training Loss: 1.517..  Test Loss: 1.498..  Test Accuracy: 0.396\n",
            "Epoch: 7/100..  Training Loss: 1.472..  Test Loss: 1.471..  Test Accuracy: 0.417\n",
            "Epoch: 8/100..  Training Loss: 1.409..  Test Loss: 1.431..  Test Accuracy: 0.443\n",
            "Epoch: 9/100..  Training Loss: 1.375..  Test Loss: 1.415..  Test Accuracy: 0.464\n",
            "Epoch: 10/100..  Training Loss: 1.335..  Test Loss: 1.442..  Test Accuracy: 0.432\n",
            "Epoch: 11/100..  Training Loss: 1.319..  Test Loss: 1.385..  Test Accuracy: 0.505\n",
            "Epoch: 12/100..  Training Loss: 1.346..  Test Loss: 1.442..  Test Accuracy: 0.464\n",
            "Epoch: 13/100..  Training Loss: 1.352..  Test Loss: 1.433..  Test Accuracy: 0.438\n",
            "Epoch: 14/100..  Training Loss: 1.428..  Test Loss: 1.596..  Test Accuracy: 0.276\n",
            "Epoch: 15/100..  Training Loss: 1.455..  Test Loss: 1.452..  Test Accuracy: 0.411\n",
            "Epoch: 16/100..  Training Loss: 1.354..  Test Loss: 1.391..  Test Accuracy: 0.542\n",
            "Epoch: 17/100..  Training Loss: 1.332..  Test Loss: 1.322..  Test Accuracy: 0.578\n",
            "Epoch: 18/100..  Training Loss: 1.258..  Test Loss: 1.329..  Test Accuracy: 0.562\n",
            "Epoch: 19/100..  Training Loss: 1.252..  Test Loss: 1.303..  Test Accuracy: 0.573\n",
            "Epoch: 20/100..  Training Loss: 1.219..  Test Loss: 1.283..  Test Accuracy: 0.599\n",
            "Epoch: 21/100..  Training Loss: 1.199..  Test Loss: 1.261..  Test Accuracy: 0.651\n",
            "Epoch: 22/100..  Training Loss: 1.157..  Test Loss: 1.246..  Test Accuracy: 0.667\n",
            "Epoch: 23/100..  Training Loss: 1.109..  Test Loss: 1.202..  Test Accuracy: 0.724\n",
            "Epoch: 24/100..  Training Loss: 1.102..  Test Loss: 1.198..  Test Accuracy: 0.719\n",
            "Epoch: 25/100..  Training Loss: 1.085..  Test Loss: 1.232..  Test Accuracy: 0.682\n",
            "Epoch: 26/100..  Training Loss: 1.081..  Test Loss: 1.264..  Test Accuracy: 0.609\n",
            "Epoch: 27/100..  Training Loss: 1.146..  Test Loss: 1.238..  Test Accuracy: 0.656\n",
            "Epoch: 28/100..  Training Loss: 1.129..  Test Loss: 1.174..  Test Accuracy: 0.745\n",
            "Epoch: 29/100..  Training Loss: 1.082..  Test Loss: 1.258..  Test Accuracy: 0.646\n",
            "Epoch: 30/100..  Training Loss: 1.064..  Test Loss: 1.148..  Test Accuracy: 0.755\n",
            "Epoch: 31/100..  Training Loss: 1.153..  Test Loss: 1.272..  Test Accuracy: 0.635\n",
            "Epoch: 32/100..  Training Loss: 1.308..  Test Loss: 1.379..  Test Accuracy: 0.521\n",
            "Epoch: 33/100..  Training Loss: 1.315..  Test Loss: 1.303..  Test Accuracy: 0.583\n",
            "Epoch: 34/100..  Training Loss: 1.379..  Test Loss: 1.363..  Test Accuracy: 0.531\n",
            "Epoch: 35/100..  Training Loss: 1.273..  Test Loss: 1.372..  Test Accuracy: 0.505\n",
            "Epoch: 36/100..  Training Loss: 1.323..  Test Loss: 1.278..  Test Accuracy: 0.615\n",
            "Epoch: 37/100..  Training Loss: 1.292..  Test Loss: 1.452..  Test Accuracy: 0.448\n",
            "Epoch: 38/100..  Training Loss: 1.419..  Test Loss: 1.501..  Test Accuracy: 0.396\n",
            "Epoch: 39/100..  Training Loss: 1.429..  Test Loss: 1.496..  Test Accuracy: 0.396\n",
            "Epoch: 40/100..  Training Loss: 1.425..  Test Loss: 1.474..  Test Accuracy: 0.417\n",
            "Epoch: 41/100..  Training Loss: 1.405..  Test Loss: 1.424..  Test Accuracy: 0.458\n",
            "Epoch: 42/100..  Training Loss: 1.378..  Test Loss: 1.358..  Test Accuracy: 0.526\n",
            "Epoch: 43/100..  Training Loss: 1.283..  Test Loss: 1.309..  Test Accuracy: 0.583\n",
            "Epoch: 44/100..  Training Loss: 1.183..  Test Loss: 1.225..  Test Accuracy: 0.714\n",
            "Epoch: 45/100..  Training Loss: 1.080..  Test Loss: 1.229..  Test Accuracy: 0.682\n",
            "Epoch: 46/100..  Training Loss: 1.044..  Test Loss: 1.139..  Test Accuracy: 0.771\n",
            "Epoch: 47/100..  Training Loss: 1.020..  Test Loss: 1.121..  Test Accuracy: 0.792\n",
            "Epoch: 48/100..  Training Loss: 0.994..  Test Loss: 1.169..  Test Accuracy: 0.719\n",
            "Epoch: 49/100..  Training Loss: 0.991..  Test Loss: 1.095..  Test Accuracy: 0.823\n",
            "Epoch: 50/100..  Training Loss: 0.992..  Test Loss: 1.101..  Test Accuracy: 0.807\n",
            "Epoch: 51/100..  Training Loss: 0.987..  Test Loss: 1.090..  Test Accuracy: 0.802\n",
            "Epoch: 52/100..  Training Loss: 0.986..  Test Loss: 1.111..  Test Accuracy: 0.797\n",
            "Epoch: 53/100..  Training Loss: 0.985..  Test Loss: 1.120..  Test Accuracy: 0.792\n",
            "Epoch: 54/100..  Training Loss: 0.983..  Test Loss: 1.135..  Test Accuracy: 0.771\n",
            "Epoch: 55/100..  Training Loss: 0.976..  Test Loss: 1.110..  Test Accuracy: 0.771\n",
            "Epoch: 56/100..  Training Loss: 0.976..  Test Loss: 1.092..  Test Accuracy: 0.812\n",
            "Epoch: 57/100..  Training Loss: 0.974..  Test Loss: 1.098..  Test Accuracy: 0.792\n",
            "Epoch: 58/100..  Training Loss: 0.974..  Test Loss: 1.085..  Test Accuracy: 0.828\n",
            "Epoch: 59/100..  Training Loss: 0.973..  Test Loss: 1.074..  Test Accuracy: 0.849\n",
            "Epoch: 60/100..  Training Loss: 0.973..  Test Loss: 1.092..  Test Accuracy: 0.812\n",
            "Epoch: 61/100..  Training Loss: 0.973..  Test Loss: 1.079..  Test Accuracy: 0.828\n",
            "Epoch: 62/100..  Training Loss: 0.974..  Test Loss: 1.091..  Test Accuracy: 0.812\n",
            "Epoch: 63/100..  Training Loss: 0.971..  Test Loss: 1.085..  Test Accuracy: 0.812\n",
            "Epoch: 64/100..  Training Loss: 0.969..  Test Loss: 1.075..  Test Accuracy: 0.828\n",
            "Epoch: 65/100..  Training Loss: 0.967..  Test Loss: 1.068..  Test Accuracy: 0.849\n",
            "Epoch: 66/100..  Training Loss: 0.966..  Test Loss: 1.062..  Test Accuracy: 0.828\n",
            "Epoch: 67/100..  Training Loss: 0.966..  Test Loss: 1.034..  Test Accuracy: 0.870\n",
            "Epoch: 68/100..  Training Loss: 0.963..  Test Loss: 1.061..  Test Accuracy: 0.828\n",
            "Epoch: 69/100..  Training Loss: 0.979..  Test Loss: 1.088..  Test Accuracy: 0.818\n",
            "Epoch: 70/100..  Training Loss: 0.992..  Test Loss: 1.093..  Test Accuracy: 0.812\n",
            "Epoch: 71/100..  Training Loss: 0.973..  Test Loss: 1.073..  Test Accuracy: 0.823\n",
            "Epoch: 72/100..  Training Loss: 0.974..  Test Loss: 1.045..  Test Accuracy: 0.865\n",
            "Epoch: 73/100..  Training Loss: 0.971..  Test Loss: 1.091..  Test Accuracy: 0.802\n",
            "Epoch: 74/100..  Training Loss: 0.970..  Test Loss: 1.088..  Test Accuracy: 0.828\n",
            "Epoch: 75/100..  Training Loss: 0.981..  Test Loss: 1.040..  Test Accuracy: 0.880\n",
            "Epoch: 76/100..  Training Loss: 0.969..  Test Loss: 1.107..  Test Accuracy: 0.786\n",
            "Epoch: 77/100..  Training Loss: 0.973..  Test Loss: 1.097..  Test Accuracy: 0.802\n",
            "Epoch: 78/100..  Training Loss: 0.960..  Test Loss: 1.180..  Test Accuracy: 0.724\n",
            "Epoch: 79/100..  Training Loss: 0.982..  Test Loss: 1.093..  Test Accuracy: 0.823\n",
            "Epoch: 80/100..  Training Loss: 0.957..  Test Loss: 1.052..  Test Accuracy: 0.859\n",
            "Epoch: 81/100..  Training Loss: 0.966..  Test Loss: 1.067..  Test Accuracy: 0.828\n",
            "Epoch: 82/100..  Training Loss: 0.968..  Test Loss: 1.131..  Test Accuracy: 0.771\n",
            "Epoch: 83/100..  Training Loss: 0.986..  Test Loss: 1.176..  Test Accuracy: 0.729\n",
            "Epoch: 84/100..  Training Loss: 1.003..  Test Loss: 1.166..  Test Accuracy: 0.724\n",
            "Epoch: 85/100..  Training Loss: 0.992..  Test Loss: 1.076..  Test Accuracy: 0.839\n",
            "Epoch: 86/100..  Training Loss: 0.985..  Test Loss: 1.075..  Test Accuracy: 0.828\n",
            "Epoch: 87/100..  Training Loss: 0.970..  Test Loss: 1.161..  Test Accuracy: 0.745\n",
            "Epoch: 88/100..  Training Loss: 1.054..  Test Loss: 1.169..  Test Accuracy: 0.740\n",
            "Epoch: 89/100..  Training Loss: 1.074..  Test Loss: 1.345..  Test Accuracy: 0.568\n",
            "Epoch: 90/100..  Training Loss: 1.221..  Test Loss: 1.372..  Test Accuracy: 0.531\n",
            "Epoch: 91/100..  Training Loss: 1.190..  Test Loss: 1.305..  Test Accuracy: 0.599\n",
            "Epoch: 92/100..  Training Loss: 1.124..  Test Loss: 1.228..  Test Accuracy: 0.667\n",
            "Epoch: 93/100..  Training Loss: 1.215..  Test Loss: 1.217..  Test Accuracy: 0.698\n",
            "Epoch: 94/100..  Training Loss: 1.100..  Test Loss: 1.193..  Test Accuracy: 0.693\n",
            "Epoch: 95/100..  Training Loss: 1.071..  Test Loss: 1.223..  Test Accuracy: 0.677\n",
            "Epoch: 96/100..  Training Loss: 1.093..  Test Loss: 1.233..  Test Accuracy: 0.656\n",
            "Epoch: 97/100..  Training Loss: 1.085..  Test Loss: 1.175..  Test Accuracy: 0.724\n",
            "Epoch: 98/100..  Training Loss: 1.010..  Test Loss: 1.102..  Test Accuracy: 0.802\n",
            "Epoch: 99/100..  Training Loss: 1.001..  Test Loss: 1.131..  Test Accuracy: 0.771\n",
            "Epoch: 100/100..  Training Loss: 1.044..  Test Loss: 1.120..  Test Accuracy: 0.771\n"
          ],
          "name": "stdout"
        },
        {
          "output_type": "display_data",
          "data": {
            "image/png": "[encoded data removed]",
            "text/plain": [
              "<Figure size 1440x360 with 1 Axes>"
            ]
          },
          "metadata": {
            "tags": [],
            "needs_background": "light"
          }
        },
        {
          "output_type": "display_data",
          "data": {
            "image/png": "[encoded data removed]",
            "text/plain": [
              "<Figure size 1440x360 with 1 Axes>"
            ]
          },
          "metadata": {
            "tags": [],
            "needs_background": "light"
          }
        }
      ]
    },
    {
      "cell_type": "markdown",
      "metadata": {
        "id": "9HHVnZ6m5_qV"
      },
      "source": [
        "## Testing the Model Accuracy"
      ]
    },
    {
      "cell_type": "code",
      "metadata": {
        "id": "Vo9z4JBWARDf",
        "outputId": "79e44774-b5d8-416c-9b38-073ecfab11bf",
        "colab": {
          "base_uri": "https://localhost:8080/",
          "height": 34
        }
      },
      "source": [
        "test_loss = 0\n",
        "accuracy = 0\n",
        "model.eval()\n",
        "with torch.no_grad():\n",
        "    for sentences, labels in test_loader:\n",
        "        sentences, labels = sentences.to(device), labels.to(device)\n",
        "        ps = model(sentences)\n",
        "        test_loss += criterion(ps, labels).item()\n",
        "\n",
        "        # Accuracy\n",
        "        top_p, top_class = ps.topk(1, dim=1)\n",
        "        equals = top_class == labels.view(*top_class.shape)\n",
        "        accuracy += torch.mean(equals.type(torch.FloatTensor))\n",
        "model.train()\n",
        "print(\"Test Loss: {:.3f}.. \".format(test_loss/len(test_loader)),\n",
        "      \"Test Accuracy: {:.3f}\".format(accuracy/len(test_loader)))\n",
        "running_loss = 0"
      ],
      "execution_count": 13,
      "outputs": [
        {
          "output_type": "stream",
          "text": [
            "Test Loss: 1.127..  Test Accuracy: 0.786\n"
          ],
          "name": "stdout"
        }
      ]
    },
    {
      "cell_type": "markdown",
      "metadata": {
        "id": "egc4D90I6C6b"
      },
      "source": [
        "## Testing the model with any sentence"
      ]
    },
    {
      "cell_type": "code",
      "metadata": {
        "id": "i_xF0rcL6FRP"
      },
      "source": [
        "def predict(input_text, print_sentence=True):\n",
        "  labels_dict = {\n",
        "\t\t0 : \"❤️ Loving\",\n",
        "\t\t1 : \"⚽️ Playful/Excited\",\n",
        "\t\t2 : \"😄 Happy\",\n",
        "\t\t3 : \"😞 Annoyed\",\n",
        "\t\t4 : \"🍽 Foodie\",\n",
        "\t}\n",
        "\n",
        "  # Convert the input to the model\n",
        "  x_test = np.array([input_text])\n",
        "  X_test_indices = sentences_to_indices(x_test, word_to_index, maxLen)\n",
        "  sentences = torch.tensor(X_test_indices).type(torch.LongTensor)\n",
        "\n",
        "  # Get the class label\n",
        "  ps = model(sentences)\n",
        "  top_p, top_class = ps.topk(1, dim=1)\n",
        "  label = int(top_class[0][0])\n",
        "\n",
        "  if print_sentence:\n",
        "    print(\"\\nInput Text: \\t\"+ input_text +'\\nEmotion: \\t'+  labels_dict[label])\n",
        "\n",
        "  return label"
      ],
      "execution_count": 14,
      "outputs": []
    },
    {
      "cell_type": "code",
      "metadata": {
        "id": "07i1a-R06J2n",
        "outputId": "b9fb183d-50c1-4e79-e353-d2320eb84780",
        "colab": {
          "base_uri": "https://localhost:8080/",
          "height": 420
        }
      },
      "source": [
        "# Change the sentence below to see your prediction. Make sure all the words are in the Glove embeddings.  \n",
        "print(\"------------------------------------\")\n",
        "predict(\"I hate you\")\n",
        "predict(\"I want a pizza\")\n",
        "predict(\"Lets see the game\")\n",
        "predict(\"I love you Lisa\")\n",
        "predict(\"This is the best day of my life\")\n",
        "predict(\"What the hell are you doing ?\")\n",
        "predict(\"Vishwanathan Anand won in chess !\")\n",
        "print(\"\\n------------------------------------\")"
      ],
      "execution_count": 15,
      "outputs": [
        {
          "output_type": "stream",
          "text": [
            "------------------------------------\n",
            "\n",
            "Input Text: \tI hate you\n",
            "Emotion: \t😞 Annoyed\n",
            "\n",
            "Input Text: \tI want a pizza\n",
            "Emotion: \t🍽 Foodie\n",
            "\n",
            "Input Text: \tLets see the game\n",
            "Emotion: \t⚽️ Playful/Excited\n",
            "\n",
            "Input Text: \tI love you Lisa\n",
            "Emotion: \t❤️ Loving\n",
            "\n",
            "Input Text: \tThis is the best day of my life\n",
            "Emotion: \t😄 Happy\n",
            "\n",
            "Input Text: \tWhat the hell are you doing ?\n",
            "Emotion: \t😞 Annoyed\n",
            "\n",
            "Input Text: \tVishwanathan Anand won in chess !\n",
            "Emotion: \t😄 Happy\n",
            "\n",
            "------------------------------------\n"
          ],
          "name": "stdout"
        }
      ]
    },
    {
      "cell_type": "code",
      "metadata": {
        "id": "12H2UBAx4QUj"
      },
      "source": [
        ""
      ],
      "execution_count": 15,
      "outputs": []
    }
  ]
}