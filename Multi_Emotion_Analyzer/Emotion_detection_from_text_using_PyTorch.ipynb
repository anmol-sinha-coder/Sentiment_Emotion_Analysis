{
  "nbformat": 4,
  "nbformat_minor": 0,
  "metadata": {
    "colab": {
      "name": "Emotion detection from text using PyTorch.ipynb",
      "provenance": [],
      "collapsed_sections": [],
      "machine_shape": "hm",
      "include_colab_link": true
    },
    "kernelspec": {
      "name": "python3",
      "display_name": "Python 3"
    },
    "accelerator": "GPU"
  },
  "cells": [
    {
      "cell_type": "markdown",
      "metadata": {
        "id": "view-in-github",
        "colab_type": "text"
      },
      "source": [
        "<a href=\"https://colab.research.google.com/github/anmol-sinha-coder/Sentiment_Emotion_Analysis/blob/main/Multi_Emotion_Analyzer/Emotion_detection_from_text_using_PyTorch.ipynb\" target=\"_parent\"><img src=\"https://colab.research.google.com/assets/colab-badge.svg\" alt=\"Open In Colab\"/></a>"
      ]
    },
    {
      "cell_type": "markdown",
      "metadata": {
        "id": "rufFNufqDmUO"
      },
      "source": [
        "# Emotion detection from text using PyTorch and Federated Learning\n",
        "\n",
        "For this project, we are going to implement an NLP task of creating a model to detect the emotion from text. We will develop this using the PyTorch library and the Federated Learning framework for decentralized training. \n",
        "\n",
        "We will create an emotion detection for the following 5 emotions:\n",
        "\n",
        "| Emotion | Emoji   | Label   |\n",
        "|------|------|------|\n",
        "|Loving| ❤️| 0|\n",
        "|Playful| ⚽️| 1|\n",
        "|Happy| 😄| 2|\n",
        "|Annoyed| 😞| 3|\n",
        "|Foodie| 🍽| 4|\n",
        "\n",
        "## Dataset\n",
        "\n",
        "We will work with a dataset (X, Y) where we have:\n",
        "*   X contains 132 sentences\n",
        "*   Y contains a label between [0, 4] corresponding to the five emotions.\n",
        "\n",
        "For example:\n",
        "\n",
        "| Sentence | Emotion   |\n",
        "|----------|-----------|\n",
        "|food is life|  🍽 Foodie|\n",
        "|I love you mum|  ❤️ Loving|\n",
        "|Stop saying bullshit|  😞 Annoyed|\n",
        "|congratulations on your acceptance|  😄 Happy|\n",
        "|The assignment is too long|    😞 Annoyed|\n",
        "|I want to go play| ⚽️ Playful|\n",
        "|she did not answer my text| 😞 Annoyed|\n",
        "|Your stupidity has no limit| 😞 Annoyed|\n",
        "|how many points did he score|  ⚽️ Playful|\n",
        "|my algorithm performs poorly| 😞 Annoyed|\n",
        "|I got approved|  😄 Happy|\n",
        "\n",
        "## The Model\n",
        "We will build an LSTM model that takes as input word sequences that will take word ordering into account. We will use 50-dimensional [GloVe](https://nlp.stanford.edu/projects/glove/) pre-trained word embeddings to represent words. We will then feed those as an input into an LSTM that will predict the most appropiate emotion for the text. \n",
        "\n",
        "![alt text](https://drive.google.com/uc?id=1s-KYhU5JWF-jvAlZ2MIKKugxLLDdhpQP)\n"
      ]
    },
    {
      "cell_type": "code",
      "metadata": {
        "id": "gwaKRXyaoyNS",
        "colab": {
          "base_uri": "https://localhost:8080/"
        },
        "outputId": "95a0783f-e4cc-45af-d84b-ba52bd171bd2"
      },
      "source": [
        "! git clone https://github.com/anmol-sinha-coder/Sentiment_Emotion_Analysis/\n",
        "! mkdir data/\n",
        "! cp -r Sentiment_Emotion_Analysis/Multi_Emotion_Analyzer/datasets/* data/\n",
        "# ! wget https://worksheets.codalab.org/rest/bundles/0x97c870dd60eb4f0fa53f257978851c60/contents/blob/glove.6B.50d.txt -P data/\n",
        "! wget http://nlp.stanford.edu/data/glove.6B.zip -P data/\n",
        "# ! unzip 'Sentiment_Emotion_Analysis/Multi_Emotion_Analyzer/glove.6B.zip' -d data/\n",
        "! unzip data/glove.6B.zip -d data/"
      ],
      "execution_count": null,
      "outputs": [
        {
          "output_type": "stream",
          "text": [
            "Cloning into 'Sentiment_Emotion_Analysis'...\n",
            "remote: Enumerating objects: 15, done.\u001b[K\n",
            "remote: Counting objects: 100% (15/15), done.\u001b[K\n",
            "remote: Compressing objects: 100% (13/13), done.\u001b[K\n",
            "remote: Total 98611 (delta 6), reused 5 (delta 2), pack-reused 98596\u001b[K\n",
            "Receiving objects: 100% (98611/98611), 170.51 MiB | 24.78 MiB/s, done.\n",
            "Resolving deltas: 100% (46/46), done.\n",
            "Checking out files: 100% (100059/100059), done.\n",
            "--2020-12-12 08:31:12--  http://nlp.stanford.edu/data/glove.6B.zip\n",
            "Resolving nlp.stanford.edu (nlp.stanford.edu)... 171.64.67.140\n",
            "Connecting to nlp.stanford.edu (nlp.stanford.edu)|171.64.67.140|:80... connected.\n",
            "HTTP request sent, awaiting response... 302 Found\n",
            "Location: https://nlp.stanford.edu/data/glove.6B.zip [following]\n",
            "--2020-12-12 08:31:12--  https://nlp.stanford.edu/data/glove.6B.zip\n",
            "Connecting to nlp.stanford.edu (nlp.stanford.edu)|171.64.67.140|:443... connected.\n",
            "HTTP request sent, awaiting response... 301 Moved Permanently\n",
            "Location: http://downloads.cs.stanford.edu/nlp/data/glove.6B.zip [following]\n",
            "--2020-12-12 08:31:13--  http://downloads.cs.stanford.edu/nlp/data/glove.6B.zip\n",
            "Resolving downloads.cs.stanford.edu (downloads.cs.stanford.edu)... 171.64.64.22\n",
            "Connecting to downloads.cs.stanford.edu (downloads.cs.stanford.edu)|171.64.64.22|:80... connected.\n",
            "HTTP request sent, awaiting response... 200 OK\n",
            "Length: 862182613 (822M) [application/zip]\n",
            "Saving to: ‘data/glove.6B.zip’\n",
            "\n",
            "glove.6B.zip        100%[===================>] 822.24M  2.11MB/s    in 6m 30s  \n",
            "\n",
            "2020-12-12 08:37:43 (2.11 MB/s) - ‘data/glove.6B.zip’ saved [862182613/862182613]\n",
            "\n",
            "Archive:  data/glove.6B.zip\n",
            "  inflating: data/glove.6B.50d.txt   \n",
            "  inflating: data/glove.6B.100d.txt  \n",
            "  inflating: data/glove.6B.200d.txt  \n",
            "  inflating: data/glove.6B.300d.txt  \n"
          ],
          "name": "stdout"
        }
      ]
    },
    {
      "cell_type": "code",
      "metadata": {
        "id": "GQn1wO2qr01C"
      },
      "source": [
        "import numpy as np\n",
        "import pandas as pd\n",
        "import matplotlib.pyplot as plt\n",
        "import csv\n",
        "import torch\n",
        "import torch.nn as nn\n",
        "import torch.nn.functional as F\n",
        "import torch.optim as optim"
      ],
      "execution_count": null,
      "outputs": []
    },
    {
      "cell_type": "code",
      "metadata": {
        "id": "d04n5XXyf5Cj"
      },
      "source": [
        "# HELPER FUNCTIONS\n",
        "\n",
        "def read_glove_vecs(glove_file):\n",
        "    with open(glove_file, 'r') as f:\n",
        "        words = set()\n",
        "        word_to_vec_map = {}\n",
        "        for line in f:\n",
        "            line = line.strip().split()\n",
        "            curr_word = line[0]\n",
        "            words.add(curr_word)\n",
        "            word_to_vec_map[curr_word] = np.array(line[1:], dtype=np.float64)\n",
        "        \n",
        "        i = 1\n",
        "        words_to_index = {}\n",
        "        index_to_words = {}\n",
        "        for w in sorted(words):\n",
        "            words_to_index[w] = i\n",
        "            index_to_words[i] = w\n",
        "            i = i + 1\n",
        "    return words_to_index, index_to_words, word_to_vec_map\n",
        "\n",
        "def convert_to_one_hot(Y, C):\n",
        "    Y = np.eye(C)[Y.reshape(-1)]\n",
        "    return Y\n",
        "\n",
        "def read_csv(filename):\n",
        "    phrase = []\n",
        "    emoji = []\n",
        "\n",
        "    with open (filename) as csvDataFile:\n",
        "        csvReader = csv.reader(csvDataFile)\n",
        "\n",
        "        for row in csvReader:\n",
        "            phrase.append(row[0])\n",
        "            emoji.append(row[1])\n",
        "\n",
        "    X = np.asarray(phrase)\n",
        "    Y = np.asarray(emoji, dtype=int)\n",
        "\n",
        "    return X, Y"
      ],
      "execution_count": null,
      "outputs": []
    },
    {
      "cell_type": "code",
      "metadata": {
        "id": "RmqjSlwofS_i"
      },
      "source": [
        "X_train, Y_train = read_csv('/content/data/train.csv')\n",
        "X_test, Y_test = read_csv('/content/data/test.csv')"
      ],
      "execution_count": null,
      "outputs": []
    },
    {
      "cell_type": "code",
      "metadata": {
        "id": "Gt5z5eqVih4i"
      },
      "source": [
        "Y_oh_train = convert_to_one_hot(Y_train, C = 5)\n",
        "Y_oh_test = convert_to_one_hot(Y_test, C = 5)"
      ],
      "execution_count": null,
      "outputs": []
    },
    {
      "cell_type": "code",
      "metadata": {
        "id": "jDe5vX3qiYcB"
      },
      "source": [
        "# word_to_index, index_to_word, word_to_vec_map = read_glove_vecs('/content/data/glove.6B.50d.txt')\n",
        "word_to_index, index_to_word, word_to_vec_map = read_glove_vecs('/content/data/glove.6B.200d.txt')"
      ],
      "execution_count": null,
      "outputs": []
    },
    {
      "cell_type": "code",
      "metadata": {
        "id": "fh0iyxn_jDCR"
      },
      "source": [
        "def sentences_to_indices(X, word_to_index, max_len):\n",
        "    \"\"\"\n",
        "    Converts an array of sentences (strings) into an array of indices corresponding to words in the sentences.\n",
        "    \"\"\"\n",
        "    \n",
        "    m = X.shape[0]  # number of training examples\n",
        "    \n",
        "    # Initialize X_indices as a numpy matrix of zeros and the correct shape\n",
        "    X_indices = np.zeros((m,max_len))\n",
        "    \n",
        "    for i in range(m):  # loop over training examples\n",
        "        \n",
        "        # Convert the ith sentence in lower case and split into a list of words\n",
        "        sentence_words = X[i].lower().split()\n",
        "        \n",
        "        # Initialize j to 0\n",
        "        j = 0\n",
        "        \n",
        "        # Loop over the words of sentence_words\n",
        "        for w in sentence_words:\n",
        "            # Set the (i,j)th entry of X_indices to the index of the correct word.\n",
        "            X_indices[i, j] = word_to_index[w]\n",
        "            # Increment j to j + 1\n",
        "            j = j + 1\n",
        "    \n",
        "    return X_indices"
      ],
      "execution_count": null,
      "outputs": []
    },
    {
      "cell_type": "code",
      "metadata": {
        "id": "LLyIs_aFjdfl",
        "colab": {
          "base_uri": "https://localhost:8080/"
        },
        "outputId": "c496cf29-42a9-487a-cd18-bd44326154c8"
      },
      "source": [
        "X1 = np.array([\"lol\", \"I love you\", \"this is very yummy\"])\n",
        "X1_indices = sentences_to_indices(X1,word_to_index, max_len = 5)\n",
        "print(\"X1 =\", X1)\n",
        "print(\"X1_indices =\", X1_indices)"
      ],
      "execution_count": null,
      "outputs": [
        {
          "output_type": "stream",
          "text": [
            "X1 = ['lol' 'I love you' 'this is very yummy']\n",
            "X1_indices = [[225122.      0.      0.      0.      0.]\n",
            " [185457. 226278. 394475.      0.      0.]\n",
            " [358160. 192973. 377946. 394957.      0.]]\n"
          ],
          "name": "stdout"
        }
      ]
    },
    {
      "cell_type": "markdown",
      "metadata": {
        "id": "UMKHhghrWcNn"
      },
      "source": [
        "## Defining the Network using Pretrained Embedding Layer using GloVe Word Embeddings"
      ]
    },
    {
      "cell_type": "code",
      "metadata": {
        "id": "JZDWRfRkWhwB"
      },
      "source": [
        "class NN(nn.Module):\n",
        "  def __init__(self, embedding, embedding_dim, hidden_dim, vocab_size, output_dim, batch_size):\n",
        "      super(NN, self).__init__()\n",
        "\n",
        "      self.batch_size = batch_size\n",
        "\n",
        "      self.hidden_dim = hidden_dim\n",
        "\n",
        "      self.word_embeddings = embedding\n",
        "\n",
        "      # The LSTM takes word embeddings as inputs, and outputs hidden states\n",
        "      # with dimensionality hidden_dim.\n",
        "      self.lstm = nn.LSTM(embedding_dim, \n",
        "                          hidden_dim, \n",
        "                          num_layers=2,\n",
        "                          dropout = 0.5,\n",
        "                          batch_first = True)\n",
        "\n",
        "      # The linear layer that maps from hidden state space to output space\n",
        "      self.fc = nn.Linear(hidden_dim, output_dim)\n",
        "\n",
        "  def forward(self, sentence):\n",
        "      \n",
        "      #sentence = sentence.type(torch.LongTensor)\n",
        "      #print ('Shape of sentence is:', sentence.shape)\n",
        "\n",
        "      sentence = sentence.to(device)\n",
        "\n",
        "      embeds = self.word_embeddings(sentence)\n",
        "      #print ('Embedding layer output shape', embeds.shape)\n",
        "\n",
        "      # initializing the hidden state to 0\n",
        "      #hidden=None\n",
        "      \n",
        "      h0 = torch.zeros(2, sentence.size(0), hidden_dim).requires_grad_().to(device)\n",
        "      c0 = torch.zeros(2, sentence.size(0), hidden_dim).requires_grad_().to(device)\n",
        "      \n",
        "      lstm_out, h = self.lstm(embeds, (h0, c0))\n",
        "      # get info from last timestep only\n",
        "      lstm_out = lstm_out[:, -1, :]\n",
        "      #print ('LSTM layer output shape', lstm_out.shape)\n",
        "      #print ('LSTM layer output ', lstm_out)\n",
        "\n",
        "      # Dropout\n",
        "      lstm_out = F.dropout(lstm_out, 0.5)\n",
        "\n",
        "      fc_out = self.fc(lstm_out)\n",
        "      #print ('FC layer output shape', fc_out.shape)\n",
        "      #print ('FC layer output ', fc_out)\n",
        "      \n",
        "      out = fc_out\n",
        "      out = F.softmax(out, dim=1)\n",
        "      #print ('Output layer output shape', out.shape)\n",
        "      #print ('Output layer output ', out)\n",
        "      return out\n",
        "  "
      ],
      "execution_count": null,
      "outputs": []
    },
    {
      "cell_type": "markdown",
      "metadata": {
        "id": "QK1Bty6f5yQ3"
      },
      "source": [
        "## Creating the Glove Embedding Layer"
      ]
    },
    {
      "cell_type": "code",
      "metadata": {
        "id": "g-UcwaXPgZyj"
      },
      "source": [
        "def pretrained_embedding_layer(word_to_vec_map, word_to_index, non_trainable=True):\n",
        "    num_embeddings = len(word_to_index) + 1                   \n",
        "    embedding_dim = word_to_vec_map[\"cucumber\"].shape[0]  #  dimensionality of GloVe word vectors (= 50)\n",
        "\n",
        "    # Initialize the embedding matrix as a numpy array of zeros of shape (num_embeddings, embedding_dim)\n",
        "    weights_matrix = np.zeros((num_embeddings, embedding_dim))\n",
        "\n",
        "    # Set each row \"index\" of the embedding matrix to be the word vector representation of the \"index\"th word of the vocabulary\n",
        "    for word, index in word_to_index.items():\n",
        "        weights_matrix[index, :] = word_to_vec_map[word]\n",
        "\n",
        "    embed = nn.Embedding.from_pretrained(torch.from_numpy(weights_matrix).type(torch.FloatTensor), freeze=non_trainable)\n",
        "\n",
        "    return embed, num_embeddings, embedding_dim\n"
      ],
      "execution_count": null,
      "outputs": []
    },
    {
      "cell_type": "markdown",
      "metadata": {
        "id": "C7urFqpr5ntp"
      },
      "source": [
        "## Training the model"
      ]
    },
    {
      "cell_type": "code",
      "metadata": {
        "id": "BEkK7S6v8dVk"
      },
      "source": [
        "device = torch.device(\"cuda:0\" if torch.cuda.is_available() else \"cpu\")\n",
        "\n",
        "def train(model, trainloader, criterion, optimizer, epochs=10):\n",
        "    \n",
        "    model.to(device)\n",
        "    running_loss = 0\n",
        "    \n",
        "    train_losses, test_losses, accuracies = [], [], []\n",
        "    for e in range(epochs):\n",
        "\n",
        "        running_loss = 0\n",
        "        \n",
        "        model.train()\n",
        "        \n",
        "        for sentences, labels in trainloader:\n",
        "\n",
        "            sentences, labels = sentences.to(device), labels.to(device)\n",
        "\n",
        "            # 1) erase previous gradients (if they exist)\n",
        "            optimizer.zero_grad()\n",
        "\n",
        "            # 2) make a prediction\n",
        "            pred = model.forward(sentences)\n",
        "\n",
        "            # 3) calculate how much we missed\n",
        "            loss = criterion(pred, labels)\n",
        "\n",
        "            # 4) figure out which weights caused us to miss\n",
        "            loss.backward()\n",
        "\n",
        "            # 5) change those weights\n",
        "            optimizer.step()\n",
        "\n",
        "            # 6) log our progress\n",
        "            running_loss += loss.item()\n",
        "        \n",
        "        \n",
        "        else:\n",
        "\n",
        "          model.eval()\n",
        "\n",
        "          test_loss = 0\n",
        "          accuracy = 0\n",
        "          \n",
        "          # Turn off gradients for validation, saves memory and computations\n",
        "          with torch.no_grad():\n",
        "              for sentences, labels in test_loader:\n",
        "                  sentences, labels = sentences.to(device), labels.to(device)\n",
        "                  log_ps = model(sentences)\n",
        "                  test_loss += criterion(log_ps, labels)\n",
        "                  \n",
        "                  ps = torch.exp(log_ps)\n",
        "                  top_p, top_class = ps.topk(1, dim=1)\n",
        "                  equals = top_class == labels.view(*top_class.shape)\n",
        "                  accuracy += torch.mean(equals.type(torch.FloatTensor))\n",
        "                  \n",
        "          train_losses.append(running_loss/len(train_loader))\n",
        "          test_losses.append(test_loss/len(test_loader))\n",
        "          accuracies.append(accuracy / len(test_loader) * 100)\n",
        "          \n",
        "          print(\"Epoch: {}/{}.. \".format(e+1, epochs),\n",
        "                \"Training Loss: {:.3f}.. \".format(running_loss/len(train_loader)),\n",
        "                \"Test Loss: {:.3f}.. \".format(test_loss/len(test_loader)),\n",
        "                \"Test Accuracy: {:.3f}\".format(accuracy/len(test_loader)))\n",
        "        \n",
        "          if accuracy/len(test_loader)>=0.90 and e>200:\n",
        "            epochs=e+1\n",
        "            break\n",
        "          \n",
        "        \n",
        "    # Plot\n",
        "    plt.figure(figsize=(20, 5))\n",
        "    plt.plot(train_losses, c='b', label='Training loss')\n",
        "    plt.plot(test_losses, c='r', label='Testing loss')\n",
        "    plt.xticks(np.arange(0, epochs))\n",
        "    plt.title('Losses')\n",
        "    plt.legend(loc='upper right')\n",
        "    plt.show()\n",
        "    plt.figure(figsize=(20, 5))\n",
        "    plt.plot(accuracies)\n",
        "    plt.xticks(np.arange(0, epochs))\n",
        "    plt.title('Accuracy')\n",
        "    plt.show()\n",
        "    "
      ],
      "execution_count": 21,
      "outputs": []
    },
    {
      "cell_type": "code",
      "metadata": {
        "id": "Fgb8si4s9Jb9",
        "colab": {
          "base_uri": "https://localhost:8080/",
          "height": 1000
        },
        "outputId": "0906c4a6-a97d-4890-cd54-017ab7f77ef2"
      },
      "source": [
        "import torch.utils.data\n",
        "\n",
        "maxLen = len(max(X_train, key=len).split())\n",
        "X_train_indices = sentences_to_indices(X_train, word_to_index, maxLen)\n",
        "Y_train_oh = convert_to_one_hot(Y_train, C = 5)\n",
        "\n",
        "X_test_indices = sentences_to_indices(X_test, word_to_index, maxLen)\n",
        "Y_test_oh = convert_to_one_hot(Y_test, C = 5)\n",
        "\n",
        "embedding, vocab_size, embedding_dim = pretrained_embedding_layer(word_to_vec_map, word_to_index, non_trainable=True)\n",
        "\n",
        "hidden_dim=128\n",
        "output_size=5\n",
        "batch_size = 32\n",
        "\n",
        "#print ('Embedding layer is ', embedding)\n",
        "#print ('Embedding layer weights ', embedding.weight.shape)\n",
        "\n",
        "model = NN(embedding, embedding_dim, hidden_dim, vocab_size, output_size, batch_size)\n",
        "criterion = nn.CrossEntropyLoss() # loss function\n",
        "# optimizer = optim. RMSprop (model.parameters(), lr=0.002, alpha=0.99, eps=1e-08, weight_decay=0, momentum=0, centered=False)\n",
        "optimizer = optim.Adam(model.parameters(), lr=0.002, amsgrad=True)\n",
        "epochs = 10000\n",
        "train_dataset = torch.utils.data.TensorDataset(torch.tensor(X_train_indices).type(torch.LongTensor), torch.tensor(Y_train).type(torch.LongTensor))\n",
        "train_loader = torch.utils.data.DataLoader(train_dataset, batch_size=batch_size)\n",
        "\n",
        "test_dataset = torch.utils.data.TensorDataset(torch.tensor(X_test_indices).type(torch.LongTensor), torch.tensor(Y_test).type(torch.LongTensor))\n",
        "test_loader = torch.utils.data.DataLoader(test_dataset, batch_size=batch_size)\n",
        "\n",
        "train(model, train_loader, criterion, optimizer, epochs)"
      ],
      "execution_count": 23,
      "outputs": [
        {
          "output_type": "stream",
          "name": "stdout",
          "text": [
            "Epoch: 1/10000..  Training Loss: 1.607..  Test Loss: 1.597..  Test Accuracy: 0.333\n",
            "Epoch: 2/10000..  Training Loss: 1.589..  Test Loss: 1.559..  Test Accuracy: 0.250\n",
            "Epoch: 3/10000..  Training Loss: 1.565..  Test Loss: 1.546..  Test Accuracy: 0.339\n",
            "Epoch: 4/10000..  Training Loss: 1.538..  Test Loss: 1.520..  Test Accuracy: 0.370\n",
            "Epoch: 5/10000..  Training Loss: 1.445..  Test Loss: 1.471..  Test Accuracy: 0.396\n",
            "Epoch: 6/10000..  Training Loss: 1.391..  Test Loss: 1.450..  Test Accuracy: 0.469\n",
            "Epoch: 7/10000..  Training Loss: 1.320..  Test Loss: 1.378..  Test Accuracy: 0.495\n",
            "Epoch: 8/10000..  Training Loss: 1.281..  Test Loss: 1.372..  Test Accuracy: 0.516\n",
            "Epoch: 9/10000..  Training Loss: 1.265..  Test Loss: 1.388..  Test Accuracy: 0.505\n",
            "Epoch: 10/10000..  Training Loss: 1.270..  Test Loss: 1.349..  Test Accuracy: 0.557\n",
            "Epoch: 11/10000..  Training Loss: 1.259..  Test Loss: 1.465..  Test Accuracy: 0.438\n",
            "Epoch: 12/10000..  Training Loss: 1.284..  Test Loss: 1.363..  Test Accuracy: 0.516\n",
            "Epoch: 13/10000..  Training Loss: 1.273..  Test Loss: 1.419..  Test Accuracy: 0.479\n",
            "Epoch: 14/10000..  Training Loss: 1.340..  Test Loss: 1.257..  Test Accuracy: 0.693\n",
            "Epoch: 15/10000..  Training Loss: 1.206..  Test Loss: 1.253..  Test Accuracy: 0.740\n",
            "Epoch: 16/10000..  Training Loss: 1.178..  Test Loss: 1.179..  Test Accuracy: 0.802\n",
            "Epoch: 17/10000..  Training Loss: 1.138..  Test Loss: 1.175..  Test Accuracy: 0.781\n",
            "Epoch: 18/10000..  Training Loss: 1.111..  Test Loss: 1.104..  Test Accuracy: 0.818\n",
            "Epoch: 19/10000..  Training Loss: 1.096..  Test Loss: 1.085..  Test Accuracy: 0.833\n",
            "Epoch: 20/10000..  Training Loss: 1.060..  Test Loss: 1.084..  Test Accuracy: 0.833\n",
            "Epoch: 21/10000..  Training Loss: 1.040..  Test Loss: 1.077..  Test Accuracy: 0.818\n",
            "Epoch: 22/10000..  Training Loss: 0.999..  Test Loss: 1.024..  Test Accuracy: 0.922\n",
            "Epoch: 23/10000..  Training Loss: 0.969..  Test Loss: 1.180..  Test Accuracy: 0.724\n",
            "Epoch: 24/10000..  Training Loss: 0.987..  Test Loss: 1.142..  Test Accuracy: 0.750\n",
            "Epoch: 25/10000..  Training Loss: 0.936..  Test Loss: 1.093..  Test Accuracy: 0.802\n",
            "Epoch: 26/10000..  Training Loss: 0.927..  Test Loss: 1.070..  Test Accuracy: 0.839\n",
            "Epoch: 27/10000..  Training Loss: 0.911..  Test Loss: 1.138..  Test Accuracy: 0.771\n",
            "Epoch: 28/10000..  Training Loss: 0.949..  Test Loss: 1.177..  Test Accuracy: 0.729\n",
            "Epoch: 29/10000..  Training Loss: 0.998..  Test Loss: 1.134..  Test Accuracy: 0.760\n",
            "Epoch: 30/10000..  Training Loss: 1.017..  Test Loss: 1.175..  Test Accuracy: 0.729\n",
            "Epoch: 31/10000..  Training Loss: 1.047..  Test Loss: 1.183..  Test Accuracy: 0.729\n",
            "Epoch: 32/10000..  Training Loss: 1.040..  Test Loss: 1.200..  Test Accuracy: 0.698\n",
            "Epoch: 33/10000..  Training Loss: 1.059..  Test Loss: 1.140..  Test Accuracy: 0.745\n",
            "Epoch: 34/10000..  Training Loss: 0.990..  Test Loss: 1.083..  Test Accuracy: 0.833\n",
            "Epoch: 35/10000..  Training Loss: 1.021..  Test Loss: 1.113..  Test Accuracy: 0.792\n",
            "Epoch: 36/10000..  Training Loss: 0.967..  Test Loss: 1.098..  Test Accuracy: 0.807\n",
            "Epoch: 37/10000..  Training Loss: 0.936..  Test Loss: 1.060..  Test Accuracy: 0.839\n",
            "Epoch: 38/10000..  Training Loss: 0.954..  Test Loss: 0.969..  Test Accuracy: 0.964\n",
            "Epoch: 39/10000..  Training Loss: 0.954..  Test Loss: 1.018..  Test Accuracy: 0.891\n",
            "Epoch: 40/10000..  Training Loss: 0.951..  Test Loss: 1.022..  Test Accuracy: 0.891\n",
            "Epoch: 41/10000..  Training Loss: 0.935..  Test Loss: 1.031..  Test Accuracy: 0.859\n",
            "Epoch: 42/10000..  Training Loss: 0.925..  Test Loss: 1.009..  Test Accuracy: 0.917\n",
            "Epoch: 43/10000..  Training Loss: 0.917..  Test Loss: 1.035..  Test Accuracy: 0.859\n",
            "Epoch: 44/10000..  Training Loss: 0.914..  Test Loss: 1.044..  Test Accuracy: 0.859\n",
            "Epoch: 45/10000..  Training Loss: 0.913..  Test Loss: 1.024..  Test Accuracy: 0.901\n",
            "Epoch: 46/10000..  Training Loss: 0.912..  Test Loss: 1.019..  Test Accuracy: 0.885\n",
            "Epoch: 47/10000..  Training Loss: 0.912..  Test Loss: 1.033..  Test Accuracy: 0.865\n",
            "Epoch: 48/10000..  Training Loss: 0.912..  Test Loss: 1.029..  Test Accuracy: 0.865\n",
            "Epoch: 49/10000..  Training Loss: 0.912..  Test Loss: 1.015..  Test Accuracy: 0.880\n",
            "Epoch: 50/10000..  Training Loss: 0.912..  Test Loss: 1.023..  Test Accuracy: 0.880\n",
            "Epoch: 51/10000..  Training Loss: 0.912..  Test Loss: 1.007..  Test Accuracy: 0.901\n",
            "Epoch: 52/10000..  Training Loss: 0.912..  Test Loss: 1.007..  Test Accuracy: 0.901\n",
            "Epoch: 53/10000..  Training Loss: 0.912..  Test Loss: 1.003..  Test Accuracy: 0.901\n",
            "Epoch: 54/10000..  Training Loss: 0.912..  Test Loss: 1.003..  Test Accuracy: 0.901\n",
            "Epoch: 55/10000..  Training Loss: 0.912..  Test Loss: 0.996..  Test Accuracy: 0.922\n",
            "Epoch: 56/10000..  Training Loss: 0.912..  Test Loss: 0.994..  Test Accuracy: 0.922\n",
            "Epoch: 57/10000..  Training Loss: 0.912..  Test Loss: 1.003..  Test Accuracy: 0.922\n",
            "Epoch: 58/10000..  Training Loss: 0.912..  Test Loss: 0.996..  Test Accuracy: 0.922\n",
            "Epoch: 59/10000..  Training Loss: 0.912..  Test Loss: 0.991..  Test Accuracy: 0.922\n",
            "Epoch: 60/10000..  Training Loss: 0.912..  Test Loss: 0.993..  Test Accuracy: 0.922\n",
            "Epoch: 61/10000..  Training Loss: 0.911..  Test Loss: 0.995..  Test Accuracy: 0.922\n",
            "Epoch: 62/10000..  Training Loss: 0.911..  Test Loss: 0.992..  Test Accuracy: 0.922\n",
            "Epoch: 63/10000..  Training Loss: 0.911..  Test Loss: 0.993..  Test Accuracy: 0.922\n",
            "Epoch: 64/10000..  Training Loss: 0.911..  Test Loss: 0.989..  Test Accuracy: 0.922\n",
            "Epoch: 65/10000..  Training Loss: 0.911..  Test Loss: 0.994..  Test Accuracy: 0.922\n",
            "Epoch: 66/10000..  Training Loss: 0.911..  Test Loss: 0.993..  Test Accuracy: 0.922\n",
            "Epoch: 67/10000..  Training Loss: 0.911..  Test Loss: 0.994..  Test Accuracy: 0.922\n",
            "Epoch: 68/10000..  Training Loss: 0.911..  Test Loss: 0.987..  Test Accuracy: 0.922\n",
            "Epoch: 69/10000..  Training Loss: 0.911..  Test Loss: 0.989..  Test Accuracy: 0.922\n",
            "Epoch: 70/10000..  Training Loss: 0.911..  Test Loss: 0.995..  Test Accuracy: 0.901\n",
            "Epoch: 71/10000..  Training Loss: 0.911..  Test Loss: 0.993..  Test Accuracy: 0.922\n",
            "Epoch: 72/10000..  Training Loss: 0.911..  Test Loss: 0.996..  Test Accuracy: 0.922\n",
            "Epoch: 73/10000..  Training Loss: 0.911..  Test Loss: 0.992..  Test Accuracy: 0.922\n",
            "Epoch: 74/10000..  Training Loss: 0.911..  Test Loss: 0.995..  Test Accuracy: 0.922\n",
            "Epoch: 75/10000..  Training Loss: 0.911..  Test Loss: 0.989..  Test Accuracy: 0.922\n",
            "Epoch: 76/10000..  Training Loss: 0.911..  Test Loss: 0.994..  Test Accuracy: 0.901\n",
            "Epoch: 77/10000..  Training Loss: 0.911..  Test Loss: 0.988..  Test Accuracy: 0.922\n",
            "Epoch: 78/10000..  Training Loss: 0.911..  Test Loss: 0.989..  Test Accuracy: 0.922\n",
            "Epoch: 79/10000..  Training Loss: 0.911..  Test Loss: 0.992..  Test Accuracy: 0.922\n",
            "Epoch: 80/10000..  Training Loss: 0.911..  Test Loss: 0.991..  Test Accuracy: 0.922\n",
            "Epoch: 81/10000..  Training Loss: 0.911..  Test Loss: 0.986..  Test Accuracy: 0.922\n",
            "Epoch: 82/10000..  Training Loss: 0.911..  Test Loss: 0.990..  Test Accuracy: 0.922\n",
            "Epoch: 83/10000..  Training Loss: 0.911..  Test Loss: 0.996..  Test Accuracy: 0.901\n",
            "Epoch: 84/10000..  Training Loss: 0.911..  Test Loss: 0.990..  Test Accuracy: 0.922\n",
            "Epoch: 85/10000..  Training Loss: 0.911..  Test Loss: 0.990..  Test Accuracy: 0.922\n",
            "Epoch: 86/10000..  Training Loss: 0.911..  Test Loss: 0.989..  Test Accuracy: 0.922\n",
            "Epoch: 87/10000..  Training Loss: 0.911..  Test Loss: 0.993..  Test Accuracy: 0.901\n",
            "Epoch: 88/10000..  Training Loss: 0.911..  Test Loss: 0.991..  Test Accuracy: 0.922\n",
            "Epoch: 89/10000..  Training Loss: 0.911..  Test Loss: 0.987..  Test Accuracy: 0.922\n",
            "Epoch: 90/10000..  Training Loss: 0.911..  Test Loss: 0.995..  Test Accuracy: 0.901\n",
            "Epoch: 91/10000..  Training Loss: 0.911..  Test Loss: 0.989..  Test Accuracy: 0.922\n",
            "Epoch: 92/10000..  Training Loss: 0.911..  Test Loss: 0.988..  Test Accuracy: 0.922\n",
            "Epoch: 93/10000..  Training Loss: 0.911..  Test Loss: 0.991..  Test Accuracy: 0.922\n",
            "Epoch: 94/10000..  Training Loss: 0.911..  Test Loss: 0.993..  Test Accuracy: 0.922\n",
            "Epoch: 95/10000..  Training Loss: 0.911..  Test Loss: 0.994..  Test Accuracy: 0.901\n",
            "Epoch: 96/10000..  Training Loss: 0.911..  Test Loss: 0.989..  Test Accuracy: 0.922\n",
            "Epoch: 97/10000..  Training Loss: 0.911..  Test Loss: 0.992..  Test Accuracy: 0.922\n",
            "Epoch: 98/10000..  Training Loss: 0.911..  Test Loss: 0.989..  Test Accuracy: 0.922\n",
            "Epoch: 99/10000..  Training Loss: 0.911..  Test Loss: 0.990..  Test Accuracy: 0.922\n",
            "Epoch: 100/10000..  Training Loss: 0.911..  Test Loss: 0.991..  Test Accuracy: 0.922\n",
            "Epoch: 101/10000..  Training Loss: 0.911..  Test Loss: 0.988..  Test Accuracy: 0.922\n",
            "Epoch: 102/10000..  Training Loss: 0.911..  Test Loss: 0.990..  Test Accuracy: 0.922\n",
            "Epoch: 103/10000..  Training Loss: 0.911..  Test Loss: 0.988..  Test Accuracy: 0.922\n",
            "Epoch: 104/10000..  Training Loss: 0.911..  Test Loss: 0.989..  Test Accuracy: 0.922\n",
            "Epoch: 105/10000..  Training Loss: 0.911..  Test Loss: 0.988..  Test Accuracy: 0.922\n",
            "Epoch: 106/10000..  Training Loss: 0.911..  Test Loss: 0.994..  Test Accuracy: 0.901\n",
            "Epoch: 107/10000..  Training Loss: 0.911..  Test Loss: 0.991..  Test Accuracy: 0.922\n",
            "Epoch: 108/10000..  Training Loss: 0.911..  Test Loss: 0.990..  Test Accuracy: 0.922\n",
            "Epoch: 109/10000..  Training Loss: 0.911..  Test Loss: 0.988..  Test Accuracy: 0.922\n",
            "Epoch: 110/10000..  Training Loss: 0.911..  Test Loss: 0.990..  Test Accuracy: 0.922\n",
            "Epoch: 111/10000..  Training Loss: 0.911..  Test Loss: 0.989..  Test Accuracy: 0.922\n",
            "Epoch: 112/10000..  Training Loss: 0.911..  Test Loss: 0.986..  Test Accuracy: 0.922\n",
            "Epoch: 113/10000..  Training Loss: 0.911..  Test Loss: 0.993..  Test Accuracy: 0.922\n",
            "Epoch: 114/10000..  Training Loss: 0.911..  Test Loss: 0.997..  Test Accuracy: 0.901\n",
            "Epoch: 115/10000..  Training Loss: 0.911..  Test Loss: 0.986..  Test Accuracy: 0.922\n",
            "Epoch: 116/10000..  Training Loss: 0.911..  Test Loss: 0.993..  Test Accuracy: 0.901\n",
            "Epoch: 117/10000..  Training Loss: 0.911..  Test Loss: 0.989..  Test Accuracy: 0.922\n",
            "Epoch: 118/10000..  Training Loss: 0.911..  Test Loss: 0.990..  Test Accuracy: 0.922\n",
            "Epoch: 119/10000..  Training Loss: 0.911..  Test Loss: 0.993..  Test Accuracy: 0.901\n",
            "Epoch: 120/10000..  Training Loss: 0.911..  Test Loss: 0.989..  Test Accuracy: 0.922\n",
            "Epoch: 121/10000..  Training Loss: 0.911..  Test Loss: 0.992..  Test Accuracy: 0.922\n",
            "Epoch: 122/10000..  Training Loss: 0.911..  Test Loss: 0.991..  Test Accuracy: 0.922\n",
            "Epoch: 123/10000..  Training Loss: 0.911..  Test Loss: 0.992..  Test Accuracy: 0.922\n",
            "Epoch: 124/10000..  Training Loss: 0.911..  Test Loss: 0.995..  Test Accuracy: 0.901\n",
            "Epoch: 125/10000..  Training Loss: 0.911..  Test Loss: 0.990..  Test Accuracy: 0.922\n",
            "Epoch: 126/10000..  Training Loss: 0.911..  Test Loss: 0.994..  Test Accuracy: 0.901\n",
            "Epoch: 127/10000..  Training Loss: 0.911..  Test Loss: 0.993..  Test Accuracy: 0.901\n",
            "Epoch: 128/10000..  Training Loss: 0.911..  Test Loss: 0.995..  Test Accuracy: 0.901\n",
            "Epoch: 129/10000..  Training Loss: 0.911..  Test Loss: 0.989..  Test Accuracy: 0.922\n",
            "Epoch: 130/10000..  Training Loss: 0.911..  Test Loss: 0.990..  Test Accuracy: 0.922\n",
            "Epoch: 131/10000..  Training Loss: 0.911..  Test Loss: 0.989..  Test Accuracy: 0.922\n",
            "Epoch: 132/10000..  Training Loss: 0.911..  Test Loss: 0.990..  Test Accuracy: 0.922\n",
            "Epoch: 133/10000..  Training Loss: 0.911..  Test Loss: 0.993..  Test Accuracy: 0.922\n",
            "Epoch: 134/10000..  Training Loss: 0.911..  Test Loss: 0.992..  Test Accuracy: 0.922\n",
            "Epoch: 135/10000..  Training Loss: 0.911..  Test Loss: 0.996..  Test Accuracy: 0.901\n",
            "Epoch: 136/10000..  Training Loss: 0.911..  Test Loss: 0.989..  Test Accuracy: 0.922\n",
            "Epoch: 137/10000..  Training Loss: 0.911..  Test Loss: 0.994..  Test Accuracy: 0.901\n",
            "Epoch: 138/10000..  Training Loss: 0.911..  Test Loss: 0.992..  Test Accuracy: 0.922\n",
            "Epoch: 139/10000..  Training Loss: 0.911..  Test Loss: 0.994..  Test Accuracy: 0.901\n",
            "Epoch: 140/10000..  Training Loss: 0.911..  Test Loss: 0.992..  Test Accuracy: 0.922\n",
            "Epoch: 141/10000..  Training Loss: 0.911..  Test Loss: 0.989..  Test Accuracy: 0.922\n",
            "Epoch: 142/10000..  Training Loss: 0.911..  Test Loss: 0.987..  Test Accuracy: 0.922\n",
            "Epoch: 143/10000..  Training Loss: 0.911..  Test Loss: 0.996..  Test Accuracy: 0.901\n",
            "Epoch: 144/10000..  Training Loss: 0.911..  Test Loss: 0.994..  Test Accuracy: 0.901\n",
            "Epoch: 145/10000..  Training Loss: 0.911..  Test Loss: 0.987..  Test Accuracy: 0.922\n",
            "Epoch: 146/10000..  Training Loss: 0.911..  Test Loss: 0.993..  Test Accuracy: 0.901\n",
            "Epoch: 147/10000..  Training Loss: 0.911..  Test Loss: 0.988..  Test Accuracy: 0.922\n",
            "Epoch: 148/10000..  Training Loss: 0.911..  Test Loss: 0.990..  Test Accuracy: 0.901\n",
            "Epoch: 149/10000..  Training Loss: 0.911..  Test Loss: 0.991..  Test Accuracy: 0.922\n",
            "Epoch: 150/10000..  Training Loss: 0.911..  Test Loss: 0.993..  Test Accuracy: 0.922\n",
            "Epoch: 151/10000..  Training Loss: 0.911..  Test Loss: 0.988..  Test Accuracy: 0.922\n",
            "Epoch: 152/10000..  Training Loss: 0.911..  Test Loss: 0.988..  Test Accuracy: 0.922\n",
            "Epoch: 153/10000..  Training Loss: 0.911..  Test Loss: 0.994..  Test Accuracy: 0.901\n",
            "Epoch: 154/10000..  Training Loss: 0.911..  Test Loss: 0.991..  Test Accuracy: 0.922\n",
            "Epoch: 155/10000..  Training Loss: 0.911..  Test Loss: 0.992..  Test Accuracy: 0.922\n",
            "Epoch: 156/10000..  Training Loss: 0.911..  Test Loss: 0.993..  Test Accuracy: 0.901\n",
            "Epoch: 157/10000..  Training Loss: 0.911..  Test Loss: 0.995..  Test Accuracy: 0.901\n",
            "Epoch: 158/10000..  Training Loss: 0.911..  Test Loss: 0.995..  Test Accuracy: 0.901\n",
            "Epoch: 159/10000..  Training Loss: 0.911..  Test Loss: 0.996..  Test Accuracy: 0.901\n",
            "Epoch: 160/10000..  Training Loss: 0.911..  Test Loss: 0.992..  Test Accuracy: 0.922\n",
            "Epoch: 161/10000..  Training Loss: 0.911..  Test Loss: 0.993..  Test Accuracy: 0.901\n",
            "Epoch: 162/10000..  Training Loss: 0.911..  Test Loss: 0.993..  Test Accuracy: 0.901\n",
            "Epoch: 163/10000..  Training Loss: 0.911..  Test Loss: 0.991..  Test Accuracy: 0.901\n",
            "Epoch: 164/10000..  Training Loss: 0.911..  Test Loss: 0.990..  Test Accuracy: 0.922\n",
            "Epoch: 165/10000..  Training Loss: 0.911..  Test Loss: 0.990..  Test Accuracy: 0.922\n",
            "Epoch: 166/10000..  Training Loss: 0.911..  Test Loss: 0.989..  Test Accuracy: 0.922\n",
            "Epoch: 167/10000..  Training Loss: 0.911..  Test Loss: 0.989..  Test Accuracy: 0.922\n",
            "Epoch: 168/10000..  Training Loss: 0.911..  Test Loss: 0.991..  Test Accuracy: 0.922\n",
            "Epoch: 169/10000..  Training Loss: 0.911..  Test Loss: 0.994..  Test Accuracy: 0.901\n",
            "Epoch: 170/10000..  Training Loss: 0.911..  Test Loss: 0.990..  Test Accuracy: 0.922\n",
            "Epoch: 171/10000..  Training Loss: 0.911..  Test Loss: 0.991..  Test Accuracy: 0.922\n",
            "Epoch: 172/10000..  Training Loss: 0.911..  Test Loss: 0.991..  Test Accuracy: 0.901\n",
            "Epoch: 173/10000..  Training Loss: 0.911..  Test Loss: 0.991..  Test Accuracy: 0.922\n",
            "Epoch: 174/10000..  Training Loss: 0.911..  Test Loss: 0.995..  Test Accuracy: 0.901\n",
            "Epoch: 175/10000..  Training Loss: 0.911..  Test Loss: 0.993..  Test Accuracy: 0.901\n",
            "Epoch: 176/10000..  Training Loss: 0.911..  Test Loss: 0.996..  Test Accuracy: 0.901\n",
            "Epoch: 177/10000..  Training Loss: 0.911..  Test Loss: 0.995..  Test Accuracy: 0.901\n",
            "Epoch: 178/10000..  Training Loss: 0.911..  Test Loss: 0.994..  Test Accuracy: 0.901\n",
            "Epoch: 179/10000..  Training Loss: 0.911..  Test Loss: 0.991..  Test Accuracy: 0.922\n",
            "Epoch: 180/10000..  Training Loss: 0.911..  Test Loss: 0.986..  Test Accuracy: 0.922\n",
            "Epoch: 181/10000..  Training Loss: 0.911..  Test Loss: 0.990..  Test Accuracy: 0.922\n",
            "Epoch: 182/10000..  Training Loss: 0.911..  Test Loss: 0.992..  Test Accuracy: 0.922\n",
            "Epoch: 183/10000..  Training Loss: 0.911..  Test Loss: 0.993..  Test Accuracy: 0.901\n",
            "Epoch: 184/10000..  Training Loss: 0.911..  Test Loss: 0.998..  Test Accuracy: 0.901\n",
            "Epoch: 185/10000..  Training Loss: 0.911..  Test Loss: 0.992..  Test Accuracy: 0.922\n",
            "Epoch: 186/10000..  Training Loss: 0.911..  Test Loss: 0.998..  Test Accuracy: 0.901\n",
            "Epoch: 187/10000..  Training Loss: 0.911..  Test Loss: 0.996..  Test Accuracy: 0.901\n",
            "Epoch: 188/10000..  Training Loss: 0.911..  Test Loss: 0.990..  Test Accuracy: 0.922\n",
            "Epoch: 189/10000..  Training Loss: 0.911..  Test Loss: 0.987..  Test Accuracy: 0.922\n",
            "Epoch: 190/10000..  Training Loss: 0.911..  Test Loss: 0.990..  Test Accuracy: 0.922\n",
            "Epoch: 191/10000..  Training Loss: 0.911..  Test Loss: 0.988..  Test Accuracy: 0.922\n",
            "Epoch: 192/10000..  Training Loss: 0.911..  Test Loss: 0.993..  Test Accuracy: 0.901\n",
            "Epoch: 193/10000..  Training Loss: 0.911..  Test Loss: 0.996..  Test Accuracy: 0.901\n",
            "Epoch: 194/10000..  Training Loss: 0.911..  Test Loss: 0.990..  Test Accuracy: 0.922\n",
            "Epoch: 195/10000..  Training Loss: 0.911..  Test Loss: 0.990..  Test Accuracy: 0.922\n",
            "Epoch: 196/10000..  Training Loss: 0.911..  Test Loss: 0.990..  Test Accuracy: 0.922\n",
            "Epoch: 197/10000..  Training Loss: 0.911..  Test Loss: 0.989..  Test Accuracy: 0.922\n",
            "Epoch: 198/10000..  Training Loss: 0.911..  Test Loss: 0.992..  Test Accuracy: 0.922\n",
            "Epoch: 199/10000..  Training Loss: 0.911..  Test Loss: 0.991..  Test Accuracy: 0.922\n",
            "Epoch: 200/10000..  Training Loss: 0.911..  Test Loss: 0.993..  Test Accuracy: 0.901\n",
            "Epoch: 201/10000..  Training Loss: 0.911..  Test Loss: 0.994..  Test Accuracy: 0.901\n",
            "Epoch: 202/10000..  Training Loss: 0.911..  Test Loss: 0.993..  Test Accuracy: 0.901\n"
          ]
        },
        {
          "output_type": "display_data",
          "data": {
            "image/png": "[encoded data removed]",
            "text/plain": [
              "<Figure size 1440x360 with 1 Axes>"
            ]
          },
          "metadata": {
            "needs_background": "light"
          }
        },
        {
          "output_type": "display_data",
          "data": {
            "image/png": "[encoded data removed]",
            "text/plain": [
              "<Figure size 1440x360 with 1 Axes>"
            ]
          },
          "metadata": {
            "needs_background": "light"
          }
        }
      ]
    },
    {
      "cell_type": "markdown",
      "metadata": {
        "id": "9HHVnZ6m5_qV"
      },
      "source": [
        "## Testing the Model Accuracy"
      ]
    },
    {
      "cell_type": "code",
      "metadata": {
        "id": "Vo9z4JBWARDf",
        "colab": {
          "base_uri": "https://localhost:8080/"
        },
        "outputId": "4d4535c3-5b8c-4e9c-811f-6352a7cf158f"
      },
      "source": [
        "test_loss = 0\n",
        "accuracy = 0\n",
        "model.eval()\n",
        "with torch.no_grad():\n",
        "    for sentences, labels in test_loader:\n",
        "        sentences, labels = sentences.to(device), labels.to(device)\n",
        "        ps = model(sentences)\n",
        "        test_loss += criterion(ps, labels).item()\n",
        "\n",
        "        # Accuracy\n",
        "        top_p, top_class = ps.topk(1, dim=1)\n",
        "        equals = top_class == labels.view(*top_class.shape)\n",
        "        accuracy += torch.mean(equals.type(torch.FloatTensor))\n",
        "model.train()\n",
        "print(\"Test Loss: {:.3f}.. \".format(test_loss/len(test_loader)),\n",
        "      \"Test Accuracy: {:.3f}\".format(accuracy/len(test_loader)))\n",
        "running_loss = 0"
      ],
      "execution_count": 24,
      "outputs": [
        {
          "output_type": "stream",
          "name": "stdout",
          "text": [
            "Test Loss: 0.989..  Test Accuracy: 0.922\n"
          ]
        }
      ]
    },
    {
      "cell_type": "markdown",
      "metadata": {
        "id": "egc4D90I6C6b"
      },
      "source": [
        "## Testing the model with any sentence"
      ]
    },
    {
      "cell_type": "code",
      "metadata": {
        "id": "i_xF0rcL6FRP"
      },
      "source": [
        "def predict(input_text, print_sentence=True):\n",
        "  labels_dict = {\n",
        "\t\t0 : \"❤️ Loving\",\n",
        "\t\t1 : \"⚽️ Playful/Excited\",\n",
        "\t\t2 : \"😄 Happy\",\n",
        "\t\t3 : \"😞 Annoyed/Sad\",\n",
        "\t\t4 : \"🍽 Foodie\",\n",
        "\t}\n",
        "\n",
        "  # Convert the input to the model\n",
        "  x_test = np.array([input_text])\n",
        "  X_test_indices = sentences_to_indices(x_test, word_to_index, maxLen)\n",
        "  sentences = torch.tensor(X_test_indices).type(torch.LongTensor)\n",
        "\n",
        "  # Get the class label\n",
        "  ps = model(sentences)\n",
        "  top_p, top_class = ps.topk(1, dim=1)\n",
        "  label = int(top_class[0][0])\n",
        "\n",
        "  if print_sentence:\n",
        "    print(\"\\nInput Text: \\t\"+ input_text +'\\nEmotion: \\t'+  labels_dict[label])\n",
        "\n",
        "  return label"
      ],
      "execution_count": 25,
      "outputs": []
    },
    {
      "cell_type": "code",
      "metadata": {
        "id": "07i1a-R06J2n",
        "colab": {
          "base_uri": "https://localhost:8080/"
        },
        "outputId": "76274ea2-6764-4e48-94bd-7cc2ed9e38b8"
      },
      "source": [
        "print(\"------------------------------------\")\n",
        "predict(\"You are awesome !\")\n",
        "predict(\"I want a pizza\")\n",
        "predict(\"Lets see the game\")\n",
        "predict(\"I love you Lisa\")\n",
        "predict(\"This is the best day of my life\")\n",
        "predict(\"What the hell are you doing ?\")\n",
        "predict(\"Vishwanathan Anand won in chess !\")\n",
        "predict(\"She really likes you now\")\n",
        "predict(\"Kundu has won the table tennis championship\")\n",
        "predict(\"Donald Trump is a fool !\")\n",
        "\n",
        "predict(\"They are eating at the restaurant\")\n",
        "print(\"\\n------------------------------------\\n\")\n",
        "predict(\"He is reading the book \")\n",
        "predict(\"I cannot swim across the lake\")\n",
        "predict(\"The girlfriend of Ankit hates him\")"
      ],
      "execution_count": 29,
      "outputs": [
        {
          "output_type": "stream",
          "name": "stdout",
          "text": [
            "------------------------------------\n",
            "\n",
            "Input Text: \tYou are awesome !\n",
            "Emotion: \t😄 Happy\n",
            "\n",
            "Input Text: \tI want a pizza\n",
            "Emotion: \t🍽 Foodie\n",
            "\n",
            "Input Text: \tLets see the game\n",
            "Emotion: \t⚽️ Playful/Excited\n",
            "\n",
            "Input Text: \tI love you Lisa\n",
            "Emotion: \t❤️ Loving\n",
            "\n",
            "Input Text: \tThis is the best day of my life\n",
            "Emotion: \t😄 Happy\n",
            "\n",
            "Input Text: \tWhat the hell are you doing ?\n",
            "Emotion: \t😞 Annoyed/Sad\n",
            "\n",
            "Input Text: \tVishwanathan Anand won in chess !\n",
            "Emotion: \t⚽️ Playful/Excited\n",
            "\n",
            "Input Text: \tShe really likes you now\n",
            "Emotion: \t❤️ Loving\n",
            "\n",
            "Input Text: \tKundu has won the table tennis championship\n",
            "Emotion: \t⚽️ Playful/Excited\n",
            "\n",
            "Input Text: \tDonald Trump is a fool !\n",
            "Emotion: \t😄 Happy\n",
            "\n",
            "Input Text: \tThey are eating at the restaurant\n",
            "Emotion: \t🍽 Foodie\n",
            "\n",
            "------------------------------------\n",
            "\n",
            "\n",
            "Input Text: \tHe is reading the book \n",
            "Emotion: \t😄 Happy\n",
            "\n",
            "Input Text: \tI cannot swim across the lake\n",
            "Emotion: \t⚽️ Playful/Excited\n",
            "\n",
            "Input Text: \tThe girlfriend of Ankit hates him\n",
            "Emotion: \t😞 Annoyed/Sad\n"
          ]
        },
        {
          "output_type": "execute_result",
          "data": {
            "text/plain": [
              "3"
            ]
          },
          "metadata": {},
          "execution_count": 29
        }
      ]
    },
    {
      "cell_type": "markdown",
      "metadata": {
        "id": "F1Hz6nQXKv4V"
      },
      "source": [
        "# <font color=blue>This is an excellent model classification with obtained accuracy >90%, but this model being an emotion classifier, rather than a sentiment analyzer is not able to differentitate between Neutral sentiment and happy emotion, or even between a negative statement and a General opinion, as seen in the last 2 examples above, below the dashes.</font><br>\n",
        "# So as per current requirement, the Neutral/General type statement or sentences need to be filtered out before anything else. This is also the best option for the Psychometric Analysis, because the test expects a biased opinion or response from the user. If a neutral opton is given, not considering the question is the best possible option.\n",
        "# <font color=red>Another advantage of this model is that it is able to consider the punctuations in the sentence (which must be given after a white space as per the grammar/vocabulary trained in LSTM [RNN] in the above code) also affects the sentence to convey the emotions of the person. Combined with a face recognition and audio recognition frameworks to detect emotion, we can predict a person's set up of mind with about 100% accuracy❗</font>"
      ]
    },
    {
      "cell_type": "code",
      "metadata": {
        "id": "NXbTsNYRNY71"
      },
      "source": [
        "# Print model's state_dict\n",
        "print(\"Model's state_dict:\")\n",
        "for param_tensor in model.state_dict():\n",
        "    print(param_tensor, \"\\t\", model.state_dict()[param_tensor].size())\n",
        "\n",
        "# Print optimizer's state_dict\n",
        "print(\"Optimizer's state_dict:\")\n",
        "for var_name in optimizer.state_dict():\n",
        "    print(var_name, \"\\t\", optimizer.state_dict()[var_name])"
      ],
      "execution_count": null,
      "outputs": []
    },
    {
      "cell_type": "code",
      "metadata": {
        "id": "PLqJq6oczZIh"
      },
      "source": [
        "torch.save(model.state_dict(),'emotion_model')"
      ],
      "execution_count": null,
      "outputs": []
    },
    {
      "cell_type": "code",
      "metadata": {
        "id": "XH_smhDGz2ip"
      },
      "source": [
        ""
      ],
      "execution_count": null,
      "outputs": []
    }
  ]
}