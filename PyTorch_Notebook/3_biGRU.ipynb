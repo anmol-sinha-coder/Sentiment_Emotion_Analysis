{
 "cells": [
  {
   "cell_type": "markdown",
   "metadata": {},
   "source": [
    "# Build a biGRU neural network model\n",
    "\n",
    "In this notebook, we are going to build a bidirectional Gated Recurrent Unit neural network model, in which we will implement and use the following architectures and tools:\n",
    "- Bidirectional GRU\n",
    "- Multi-layer (stacked) GRU\n",
    "- Dropout\n",
    "- Spatial Dropout after embedding layer\n",
    "- Max-pooling\n",
    "- Average-pooling\n",
    "- pack_padded_sequence\n",
    "\n",
    "The model is going to be trained on the clean_review column from the training dataset, other features will be used in the next notebook. In the end, the model will be evaluated on the test set to determine the generalization error.\n",
    "\n",
    "We will perform the hyperparameter fine-tuning and visualize model's learning curves to compare the model's performance while working on different set of parameters. "
   ]
  },
  {
   "attachments": {},
   "cell_type": "markdown",
   "metadata": {},
   "source": [
    "#### Gated Recurrent Unit\n",
    "Gated Recurrent Unit is the simpler variation of the LSTM (Long-Short Term Memory). Both these architectures were proposed as the remedy for the RNN's vanishing gradient problems. GRU comprised of only two gates, while its ancestor - LSTM had 3 gates in its unit, thus the GRU unit that was firstly introduced by the Kyunghyun Cho in the following paper:\n",
    "https://arxiv.org/pdf/1406.1078v3.pdf, is much simpler to compute and implement.\n",
    "<br><br>\n",
    "The GRU consists of two gates:\n",
    "- Update  gate *z* that selects whether  the  hidden  state  is  to  be  updated  with a  new  hidden  state ̃*h*.\n",
    "- Reset  gate *r* that decides whether the previous hidden state is ignored.\n",
    "\n",
    "<div>\n",
    "<img src=\"assets/GRU_shema.png\" width=\"400\" />\n",
    "</div>\n",
    "\n",
    "<p style='text-align: center;'>GRU shema [By Jeblad - Own work, CC BY-SA 4.0, https://commons.wikimedia.org/w/index.php?curid=66225938]</p>\n",
    "\n",
    "For each element in the input sequence, each layer computes the following function:<br><br>\n",
    "$ r_t = sigma(W_{ir} x_t + b_{ir} + W_{hr} h_{(t-1)} + b_{hr})$<br>\n",
    "$ z_t = sigma(W_{iz} x_t + b_{iz} + W_{hz} h_{(t-1)} + b_{hz})$<br>\n",
    "$ `h_t = tanh(W_{in} x_t + b_{in} + r_t * (W_{hn} h_{(t-1)}+ b_{hn}))$<br>\n",
    "$ h_t = (1 - z_t) * `h_t + z_t * h_{(t-1)}$\n",
    "<br>\n",
    "\n",
    "#### Bidirectional RNN\n",
    "Bidirectional Recurrent Neural Network consists of two recurrent hidden layers, that have opposite direction, in other words, one layer reads the sequence from the beginning to the end, while the other one reads it in reverse order. This architecture provides the model with much more information, as it includes both past and future context.<br>\n",
    "<div>\n",
    "<img src=\"assets/RNN-bidirectional.png\" width=\"400\" />\n",
    "</div>\n",
    "\n",
    "<p style='text-align: center;'>Bidirectional RNN schema [http://colah.github.io/posts/2015-09-NN-Types-FP/]</p>\n",
    "<br>\n",
    "Another concept that is worth to mention is the <b>stacked RNN</b> that simply consists of two or more hidden layers stacked together.\n",
    "\n",
    "<br>\n",
    "\n",
    "#### Spatial dropout\n",
    "\n",
    "Spatial dropout is another method of using dropout regularization that is applied most commonly in Convolutional Neural Networks. In contrast to the traditional dropout, the spatial dropout zeroes out the entire 1D feature map from the embedding feature vector of each word. "
   ]
  },
  {
   "cell_type": "markdown",
   "metadata": {},
   "source": [
    "#### Model's architecture\n",
    "\n",
    "The graph of the model created using tensorboardX is depicted below.<br>\n",
    "\n",
    "<div>\n",
    "<img src=\"assets/BiGRU_model_graph.png\" width=\"700\"/>\n",
    "</div>"
   ]
  },
  {
   "attachments": {},
   "cell_type": "markdown",
   "metadata": {},
   "source": [
    "A lot is going on the above plot, so for the sake of simplicity, I have created an additional schema that shows the layout of the model.\n",
    "<br>\n",
    "<br>\n",
    "<div>\n",
    "<img src=\"assets/BiGRU_schema.png\" width=\"750\" />\n",
    "</div>"
   ]
  },
  {
   "cell_type": "markdown",
   "metadata": {},
   "source": [
    "After the GRU layer we will concatenate both, the average pooling and max pooling of the hidden representation and the last hidden state of GRU in order to prevent our model from forgetting infromations. This architecture is described in the following paper: https://arxiv.org/pdf/1801.06146.pdf. There is also the possibility to get rid of the last hidden state from our model at all, this kind of architecture, that uses max-pooling or avg-pooling is depicted in the paper: https://arxiv.org/pdf/1705.02364.pdf."
   ]
  },
  {
   "cell_type": "markdown",
   "metadata": {},
   "source": [
    "### Building and training the model\n",
    "\n",
    "Let's start with importing all indispensable libraries."
   ]
  },
  {
   "cell_type": "code",
   "execution_count": 3,
   "metadata": {},
   "outputs": [],
   "source": [
    "from batch_iterator import BatchIterator\n",
    "from early_stopping import EarlyStopping\n",
    "import pandas as pd\n",
    "import torch\n",
    "import torch.nn as nn\n",
    "import torch.nn.functional as F\n",
    "from torch import device\n",
    "from tqdm import tqdm_notebook\n",
    "import numpy as np\n",
    "import matplotlib.pyplot as plt\n",
    "import seaborn as sns\n",
    "from sklearn.metrics import confusion_matrix\n",
    "from tensorboardX import SummaryWriter"
   ]
  },
  {
   "cell_type": "markdown",
   "metadata": {},
   "source": [
    "Now, we are going to load the tarining and validation sets, but we will use only the clean_review column and label column."
   ]
  },
  {
   "cell_type": "code",
   "execution_count": 2,
   "metadata": {},
   "outputs": [],
   "source": [
    "# Import the dataset. Use clean_review and label columns\n",
    "train_dataset = pd.read_csv('dataset/datasets_feat_clean/train_feat_clean.csv', \n",
    "                            usecols=['clean_review', 'label'])\n",
    "\n",
    "# Change columns order\n",
    "train_dataset = train_dataset[['clean_review', 'label']]"
   ]
  },
  {
   "cell_type": "code",
   "execution_count": 3,
   "metadata": {},
   "outputs": [
    {
     "data": {
      "text/html": [
       "<div>\n",
       "<style scoped>\n",
       "    .dataframe tbody tr th:only-of-type {\n",
       "        vertical-align: middle;\n",
       "    }\n",
       "\n",
       "    .dataframe tbody tr th {\n",
       "        vertical-align: top;\n",
       "    }\n",
       "\n",
       "    .dataframe thead th {\n",
       "        text-align: right;\n",
       "    }\n",
       "</style>\n",
       "<table border=\"1\" class=\"dataframe\">\n",
       "  <thead>\n",
       "    <tr style=\"text-align: right;\">\n",
       "      <th></th>\n",
       "      <th>clean_review</th>\n",
       "      <th>label</th>\n",
       "    </tr>\n",
       "  </thead>\n",
       "  <tbody>\n",
       "    <tr>\n",
       "      <td>0</td>\n",
       "      <td>amaze good wonderful film early ninety franchi...</td>\n",
       "      <td>1</td>\n",
       "    </tr>\n",
       "    <tr>\n",
       "      <td>1</td>\n",
       "      <td>wrong end see tell chick go crazy eat old woma...</td>\n",
       "      <td>0</td>\n",
       "    </tr>\n",
       "    <tr>\n",
       "      <td>2</td>\n",
       "      <td>guess emperor clothe see list pbs night hopefu...</td>\n",
       "      <td>0</td>\n",
       "    </tr>\n",
       "    <tr>\n",
       "      <td>3</td>\n",
       "      <td>earth well movie funny sweet good plot unique ...</td>\n",
       "      <td>1</td>\n",
       "    </tr>\n",
       "    <tr>\n",
       "      <td>4</td>\n",
       "      <td>doe eye high school student kathleen beller fi...</td>\n",
       "      <td>1</td>\n",
       "    </tr>\n",
       "  </tbody>\n",
       "</table>\n",
       "</div>"
      ],
      "text/plain": [
       "                                        clean_review  label\n",
       "0  amaze good wonderful film early ninety franchi...      1\n",
       "1  wrong end see tell chick go crazy eat old woma...      0\n",
       "2  guess emperor clothe see list pbs night hopefu...      0\n",
       "3  earth well movie funny sweet good plot unique ...      1\n",
       "4  doe eye high school student kathleen beller fi...      1"
      ]
     },
     "execution_count": 3,
     "metadata": {},
     "output_type": "execute_result"
    }
   ],
   "source": [
    "# Depict the first 5 rows of the training set\n",
    "train_dataset.head()"
   ]
  },
  {
   "cell_type": "code",
   "execution_count": 4,
   "metadata": {},
   "outputs": [],
   "source": [
    "# Import the dataset. Use clean_review and label columns\n",
    "val_dataset = pd.read_csv('dataset/datasets_feat_clean/val_feat_clean.csv',\n",
    "                          usecols=['clean_review', 'label'])\n",
    "\n",
    "# Change columns order\n",
    "val_dataset = val_dataset[['clean_review', 'label']]"
   ]
  },
  {
   "cell_type": "code",
   "execution_count": 5,
   "metadata": {},
   "outputs": [
    {
     "data": {
      "text/html": [
       "<div>\n",
       "<style scoped>\n",
       "    .dataframe tbody tr th:only-of-type {\n",
       "        vertical-align: middle;\n",
       "    }\n",
       "\n",
       "    .dataframe tbody tr th {\n",
       "        vertical-align: top;\n",
       "    }\n",
       "\n",
       "    .dataframe thead th {\n",
       "        text-align: right;\n",
       "    }\n",
       "</style>\n",
       "<table border=\"1\" class=\"dataframe\">\n",
       "  <thead>\n",
       "    <tr style=\"text-align: right;\">\n",
       "      <th></th>\n",
       "      <th>clean_review</th>\n",
       "      <th>label</th>\n",
       "    </tr>\n",
       "  </thead>\n",
       "  <tbody>\n",
       "    <tr>\n",
       "      <td>0</td>\n",
       "      <td>go movie twice week sum word normally use ligh...</td>\n",
       "      <td>1</td>\n",
       "    </tr>\n",
       "    <tr>\n",
       "      <td>1</td>\n",
       "      <td>year big fan park work old boy time favorite.w...</td>\n",
       "      <td>0</td>\n",
       "    </tr>\n",
       "    <tr>\n",
       "      <td>2</td>\n",
       "      <td>movie potential handle differently need differ...</td>\n",
       "      <td>0</td>\n",
       "    </tr>\n",
       "    <tr>\n",
       "      <td>3</td>\n",
       "      <td>movie difficult review give away plot suffice ...</td>\n",
       "      <td>1</td>\n",
       "    </tr>\n",
       "    <tr>\n",
       "      <td>4</td>\n",
       "      <td>plot worth discussion hint corruption murder p...</td>\n",
       "      <td>0</td>\n",
       "    </tr>\n",
       "  </tbody>\n",
       "</table>\n",
       "</div>"
      ],
      "text/plain": [
       "                                        clean_review  label\n",
       "0  go movie twice week sum word normally use ligh...      1\n",
       "1  year big fan park work old boy time favorite.w...      0\n",
       "2  movie potential handle differently need differ...      0\n",
       "3  movie difficult review give away plot suffice ...      1\n",
       "4  plot worth discussion hint corruption murder p...      0"
      ]
     },
     "execution_count": 5,
     "metadata": {},
     "output_type": "execute_result"
    }
   ],
   "source": [
    "# Depict the first 5 rows of the validation set\n",
    "val_dataset.head()"
   ]
  },
  {
   "cell_type": "markdown",
   "metadata": {},
   "source": [
    "Below we will use the BatchIterator class defined in the previous notebook to create the vocabulary, trim sequences in terms of the rare word occurrence and the length, map words to their numerical representation (word2index), furthermore BatchIterator sorts dataset examples, generates batches, performs sequence padding and enables to use it instance to iterate through all batches."
   ]
  },
  {
   "cell_type": "code",
   "execution_count": 6,
   "metadata": {},
   "outputs": [
    {
     "name": "stdout",
     "output_type": "stream",
     "text": [
      "Trimmed vocabulary using as minimum count threashold: count = 3.00\n",
      "35371/130416 tokens has been retained\n",
      "Trimmed input strings vocabulary\n",
      "Trimmed input sequences lengths to the length of: 198\n",
      "Mapped words to indices\n",
      "Batches created\n"
     ]
    }
   ],
   "source": [
    "train_iterator = BatchIterator(train_dataset, batch_size=256, vocab_created=False, vocab=None, target_col=None,\n",
    "                               word2index=None, sos_token='<SOS>', eos_token='<EOS>', unk_token='<UNK>',\n",
    "                               pad_token='<PAD>', min_word_count=3, max_vocab_size=None, max_seq_len=0.9,\n",
    "                               use_pretrained_vectors=False, glove_path='glove/', glove_name='glove.6B.100d.txt',\n",
    "                               weights_file_name='glove/weights.npy')"
   ]
  },
  {
   "cell_type": "code",
   "execution_count": 7,
   "metadata": {},
   "outputs": [
    {
     "name": "stdout",
     "output_type": "stream",
     "text": [
      "Trimmed vocabulary using as minimum count threashold: count = 3.00\n",
      "19357/59089 tokens has been retained\n",
      "Trimmed input strings vocabulary\n",
      "Trimmed input sequences lengths to the length of: 195\n",
      "Mapped words to indices\n",
      "Batches created\n"
     ]
    }
   ],
   "source": [
    "val_iterator = BatchIterator(val_dataset, batch_size=256, vocab_created=False, vocab=None, target_col=None,\n",
    "                             word2index=train_iterator.word2index, sos_token='<SOS>', eos_token='<EOS>',\n",
    "                             unk_token='<UNK>', pad_token='<PAD>', min_word_count=3, max_vocab_size=None,\n",
    "                             max_seq_len=0.9, use_pretrained_vectors=False, glove_path='glove/',\n",
    "                             glove_name='glove.6B.100d.txt', weights_file_name='glove/weights.npy')"
   ]
  },
  {
   "cell_type": "markdown",
   "metadata": {},
   "source": [
    "We have to check out how batches that we created look like before we pass them into the model. For the record, the set of batches for input and output variables is returned as a dictionary, thus we will just look at the dictionary keys to find out how to extract particular variables."
   ]
  },
  {
   "cell_type": "code",
   "execution_count": 8,
   "metadata": {},
   "outputs": [
    {
     "name": "stdout",
     "output_type": "stream",
     "text": [
      "dict_keys(['input_seq', 'target', 'x_lengths'])\n"
     ]
    }
   ],
   "source": [
    "for batches in train_iterator:\n",
    "    print(batches.keys())\n",
    "    break"
   ]
  },
  {
   "cell_type": "markdown",
   "metadata": {},
   "source": [
    "Notice that the output batch has the dimensions: (batch_size, seq_len)"
   ]
  },
  {
   "cell_type": "code",
   "execution_count": 23,
   "metadata": {},
   "outputs": [
    {
     "name": "stdout",
     "output_type": "stream",
     "text": [
      "input_seq shape:  torch.Size([256, 199])\n",
      "target shape:  torch.Size([256])\n",
      "x_lengths shape:  torch.Size([256])\n"
     ]
    }
   ],
   "source": [
    "for batches in train_iterator:\n",
    "    # Unpack the dictionary of batches\n",
    "    input_seq, target, x_lengths = batches['input_seq'], batches['target'], batches['x_lengths']\n",
    "    print('input_seq shape: ', input_seq.size())\n",
    "    print('target shape: ', target.size())\n",
    "    print('x_lengths shape: ', x_lengths.size())\n",
    "    break"
   ]
  },
  {
   "cell_type": "code",
   "execution_count": 24,
   "metadata": {},
   "outputs": [
    {
     "name": "stdout",
     "output_type": "stream",
     "text": [
      "input_seq shape:  torch.Size([256, 55])\n",
      "target shape:  torch.Size([256])\n",
      "x_lengths shape:  torch.Size([256])\n"
     ]
    }
   ],
   "source": [
    "for batches in val_iterator:\n",
    "    # Unpack the dictionary of batches\n",
    "    input_seq, target, x_lengths = batches['input_seq'], batches['target'], batches['x_lengths']\n",
    "    print('input_seq shape: ', input_seq.size())\n",
    "    print('target shape: ', target.size())\n",
    "    print('x_lengths shape: ', x_lengths.size())\n",
    "    break"
   ]
  },
  {
   "cell_type": "markdown",
   "metadata": {},
   "source": [
    "Next step is to build the biGRU model."
   ]
  },
  {
   "cell_type": "code",
   "execution_count": 8,
   "metadata": {},
   "outputs": [],
   "source": [
    "class BiGRU(nn.Module):\n",
    "    \"\"\"BiDirectional GRU neural network model.\n",
    "        \n",
    "    Parameters\n",
    "    ----------\n",
    "    hidden_size: int\n",
    "        Number of features in the hidden state.\n",
    "    vocab_size: int\n",
    "        The size of the vocabulary.\n",
    "    embedding_dim: int\n",
    "        The size of each embedding vector.\n",
    "    output_size: int\n",
    "        Number of classes.\n",
    "    n_layers: int, optional (default=1)\n",
    "        Number of stacked recurrent layers.\n",
    "    dropout: float, optional (default=0.2)\n",
    "        Probability of an element of the tensor to be zeroed.\n",
    "    spatial_dropout: boolean, optional (default=True)\n",
    "        Whether to use the spatial dropout.\n",
    "    bidirectional: boolean, optional (default=True)\n",
    "        Whether to use the bidirectional GRU.\n",
    "\n",
    "    \"\"\"\n",
    "    \n",
    "    def __init__(self, hidden_size, vocab_size, embedding_dim, output_size, n_layers=1, dropout=0.2,\n",
    "                 spatial_dropout=True, bidirectional=True):\n",
    "        \n",
    "        # Inherit everything from the nn.Module\n",
    "        super(BiGRU, self).__init__()\n",
    "        \n",
    "        # Initialize attributes\n",
    "        self.hidden_size = hidden_size\n",
    "        self.vocab_size = vocab_size\n",
    "        self.embedding_dim = embedding_dim\n",
    "        self.output_size = output_size\n",
    "        self.n_layers = n_layers\n",
    "        self.dropout_p = dropout\n",
    "        self.spatial_dropout = spatial_dropout\n",
    "        self.bidirectional = bidirectional\n",
    "        self.n_directions = 2 if self.bidirectional else 1\n",
    "        \n",
    "        # Initialize layers\n",
    "        self.embedding = nn.Embedding(self.vocab_size, self.embedding_dim)\n",
    "        self.dropout = nn.Dropout(self.dropout_p)\n",
    "        if self.spatial_dropout:\n",
    "            self.spatial_dropout1d = nn.Dropout2d(self.dropout_p)\n",
    "        self.gru = nn.GRU(self.embedding_dim, self.hidden_size, num_layers=self.n_layers, \n",
    "                          dropout=(0 if n_layers == 1 else self.dropout_p), batch_first=True,\n",
    "                          bidirectional=self.bidirectional)\n",
    "        # Linear layer input size is equal to hidden_size * 3, becuase\n",
    "        # we will concatenate max_pooling ,avg_pooling and last hidden state\n",
    "        self.linear = nn.Linear(self.hidden_size * 3, self.output_size)\n",
    "\n",
    "        \n",
    "    def forward(self, input_seq, input_lengths, hidden=None):\n",
    "        \"\"\"Forward propagate through the neural network model.\n",
    "        \n",
    "        Parameters\n",
    "        ----------\n",
    "        input_seq: torch.Tensor\n",
    "            Batch of input sequences.\n",
    "        input_lengths: torch.LongTensor\n",
    "            Batch containing sequences lengths.\n",
    "        hidden: torch.FloatTensor, optional (default=None)\n",
    "            Tensor containing initial hidden state.\n",
    "            \n",
    "        Returns\n",
    "        -------\n",
    "        torch.Tensor\n",
    "            Logarithm of softmaxed input tensor.\n",
    "        \n",
    "        \"\"\"\n",
    "        # Extract batch_size\n",
    "        self.batch_size = input_seq.size(0)\n",
    "        \n",
    "        # Embeddings shapes\n",
    "        # Input: (batch_size,  seq_length)\n",
    "        # Output: (batch_size, seq_length, embedding_dim)\n",
    "        emb_out = self.embedding(input_seq)\n",
    "        \n",
    "        if self.spatial_dropout:\n",
    "            # Convert to (batch_size, embedding_dim, seq_length)\n",
    "            emb_out = emb_out.permute(0, 2, 1)\n",
    "            emb_out = self.spatial_dropout1d(emb_out)\n",
    "            # Convert back to (batch_size, seq_length, embedding_dim)\n",
    "            emb_out = emb_out.permute(0, 2, 1)\n",
    "        else:\n",
    "            emb_out = self.dropout(emb_out)\n",
    "        \n",
    "        # Pack padded batch of sequences for RNN module\n",
    "        packed_emb = nn.utils.rnn.pack_padded_sequence(emb_out, input_lengths, batch_first=True)\n",
    "                \n",
    "        # GRU input/output shapes, if batch_first=True\n",
    "        # Input: (batch_size, seq_len, embedding_dim)\n",
    "        # Output: (batch_size, seq_len, hidden_size*num_directions)\n",
    "        # Number of directions = 2 when used bidirectional, otherwise 1\n",
    "        # shape of hidden: (n_layers x num_directions, batch_size, hidden_size)\n",
    "        # Hidden state defaults to zero if not provided\n",
    "        gru_out, hidden = self.gru(packed_emb, hidden)\n",
    "        # gru_out: tensor containing the output features h_t from the last layer of the GRU\n",
    "        # gru_out comprises all the hidden states in the last layer (\"last\" depth-wise, not time-wise)\n",
    "        # For biGRu gru_out is the concatenation of a forward GRU representation and a backward GRU representation\n",
    "        # hidden (h_n) comprises the hidden states after the last timestep\n",
    "        \n",
    "        # Extract and sum last hidden state\n",
    "        # Input hidden shape: (n_layers x num_directions, batch_size, hidden_size)\n",
    "        # Separate hidden state layers\n",
    "        hidden = hidden.view(self.n_layers, self.n_directions, self.batch_size, self.hidden_size)\n",
    "        last_hidden = hidden[-1]\n",
    "        # last hidden shape (num_directions, batch_size, hidden_size)\n",
    "        # Sum the last hidden state of forward and backward layer\n",
    "        last_hidden = torch.sum(last_hidden, dim=0)\n",
    "        # Summed last hidden shape (batch_size, hidden_size)\n",
    "        \n",
    "        # Pad a packed batch\n",
    "        # gru_out output shape: (batch_size, seq_len, hidden_size*num_directions)\n",
    "        gru_out, lengths = nn.utils.rnn.pad_packed_sequence(gru_out, batch_first=True)\n",
    "              \n",
    "        # Sum the gru_out along the num_directions\n",
    "        if self.bidirectional:\n",
    "            gru_out = gru_out[:,:,:self.hidden_size] + gru_out[:,:,self.hidden_size:]\n",
    "        \n",
    "        # Select the maximum value over each dimension of the hidden representation (max pooling)\n",
    "        # Permute the input tensor to dimensions: (batch_size, hidden, seq_len)\n",
    "        # Output dimensions: (batch_size, hidden_size)\n",
    "        max_pool = F.adaptive_max_pool1d(gru_out.permute(0,2,1), (1,)).view(self.batch_size,-1)\n",
    "        \n",
    "        # Consider the average of the representations (mean pooling)\n",
    "        # Sum along the batch axis and divide by the corresponding lengths (FloatTensor)\n",
    "        # Output shape: (batch_size, hidden_size)\n",
    "        avg_pool = torch.sum(gru_out, dim=1) / lengths.view(-1,1).type(torch.FloatTensor) \n",
    "\n",
    "        # Concatenate max_pooling, avg_pooling and last hidden state tensors\n",
    "        concat_out = torch.cat([last_hidden, max_pool, avg_pool], dim=1)\n",
    "\n",
    "        #concat_out = self.dropout(concat_out)\n",
    "        out = self.linear(concat_out)\n",
    "        return F.log_softmax(out, dim=-1)\n",
    "    \n",
    "    \n",
    "    def add_loss_fn(self, loss_fn):\n",
    "        \"\"\"Add loss function to the model.\n",
    "        \n",
    "        \"\"\"\n",
    "        self.loss_fn = loss_fn\n",
    "        \n",
    "\n",
    "    def add_optimizer(self, optimizer):\n",
    "        \"\"\"Add optimizer to the model.\n",
    "        \n",
    "        \"\"\"\n",
    "        self.optimizer = optimizer\n",
    "        \n",
    "        \n",
    "    def add_device(self, device=torch.device('cpu')):\n",
    "        \"\"\"Specify the device.\n",
    "        \n",
    "        \"\"\"\n",
    "        self.device = device\n",
    "    \n",
    "    \n",
    "    def train_model(self, train_iterator):\n",
    "        \"\"\"Perform single training epoch.\n",
    "        \n",
    "        Parameters\n",
    "        ----------\n",
    "        train_iterator: BatchIterator\n",
    "            BatchIterator class object containing training batches.\n",
    "            \n",
    "        Returns\n",
    "        -------\n",
    "        train_losses: list\n",
    "            List of the training average batch losses.\n",
    "        avg_loss: float\n",
    "            Average loss on the entire training set.\n",
    "        accuracy: float\n",
    "            Models accuracy on the entire training set.\n",
    "            \n",
    "        \"\"\"\n",
    "        self.train()\n",
    "        \n",
    "        train_losses = []\n",
    "        losses = []\n",
    "        losses_list = []\n",
    "        num_seq = 0\n",
    "        batch_correct = 0\n",
    "            \n",
    "        for i, batches in tqdm_notebook(enumerate(train_iterator, 1), total=len(train_iterator), desc='Training'):\n",
    "            input_seq, target, x_lengths = batches['input_seq'], batches['target'], batches['x_lengths']\n",
    "            \n",
    "            input_seq.to(self.device)\n",
    "            target.to(self.device)\n",
    "            x_lengths.to(self.device)\n",
    "            \n",
    "            self.optimizer.zero_grad()\n",
    "\n",
    "            pred = self.forward(input_seq, x_lengths)\n",
    "            loss = self.loss_fn(pred, target)\n",
    "            loss.backward()\n",
    "            losses.append(loss.data.cpu().numpy())\n",
    "            self.optimizer.step()\n",
    "            \n",
    "            losses_list.append(loss.data.cpu().numpy())\n",
    "            \n",
    "            pred = torch.argmax(pred, 1)\n",
    "\n",
    "            if self.device.type == 'cpu':\n",
    "                batch_correct += (pred.cpu() == target.cpu()).sum().item()\n",
    "\n",
    "            else:\n",
    "                batch_correct += (pred == target).sum().item()\n",
    "\n",
    "            num_seq += len(input_seq)     \n",
    "    \n",
    "            if i % 100 == 0:\n",
    "                avg_train_loss = np.mean(losses)\n",
    "                train_losses.append(avg_train_loss)\n",
    "                \n",
    "                accuracy = batch_correct / num_seq\n",
    "                \n",
    "                print('Iteration: {}. Average training loss: {:.4f}. Accuracy: {:.3f}'\\\n",
    "                      .format(i, avg_train_loss, accuracy))\n",
    "                \n",
    "                losses = []\n",
    "                \n",
    "            avg_loss = np.mean(losses_list)\n",
    "            accuracy = batch_correct / num_seq\n",
    "                              \n",
    "        return train_losses, avg_loss, accuracy\n",
    "    \n",
    "    \n",
    "    def evaluate_model(self, eval_iterator, conf_mtx=False):\n",
    "        \"\"\"Perform the one evaluation epoch.\n",
    "        \n",
    "        Parameters\n",
    "        ----------\n",
    "        eval_iterator: BatchIterator\n",
    "            BatchIterator class object containing evaluation batches.\n",
    "        conf_mtx: boolean, optional (default=False)\n",
    "            Whether to print the confusion matrix at each epoch.\n",
    "            \n",
    "        Returns\n",
    "        -------\n",
    "        eval_losses: list\n",
    "            List of the evaluation average batch losses.\n",
    "        avg_loss: float\n",
    "            Average loss on the entire evaluation set.\n",
    "        accuracy: float\n",
    "            Models accuracy on the entire evaluation set.\n",
    "        conf_matrix: list\n",
    "            Confusion matrix.\n",
    "            \n",
    "        \"\"\"\n",
    "        self.eval()\n",
    "        \n",
    "        eval_losses = []\n",
    "        losses = []\n",
    "        losses_list = []\n",
    "        num_seq = 0\n",
    "        batch_correct = 0\n",
    "        pred_total = torch.LongTensor()\n",
    "        target_total = torch.LongTensor()\n",
    "        \n",
    "        with torch.no_grad():\n",
    "            for i, batches in tqdm_notebook(enumerate(eval_iterator, 1), total=len(eval_iterator), desc='Evaluation'):\n",
    "                input_seq, target, x_lengths = batches['input_seq'], batches['target'], batches['x_lengths']\n",
    "                \n",
    "                input_seq.to(self.device)\n",
    "                target.to(self.device)\n",
    "                x_lengths.to(self.device)\n",
    "\n",
    "                pred = self.forward(input_seq, x_lengths)\n",
    "                loss = self.loss_fn(pred, target)\n",
    "                losses.append(loss.data.cpu().numpy())\n",
    "                losses_list.append(loss.data.cpu().numpy())\n",
    "                \n",
    "                pred = torch.argmax(pred, 1)\n",
    "                                \n",
    "                if self.device.type == 'cpu':\n",
    "                    batch_correct += (pred.cpu() == target.cpu()).sum().item()\n",
    "                    \n",
    "                else:\n",
    "                    batch_correct += (pred == target).sum().item()\n",
    "                    \n",
    "                num_seq += len(input_seq)     \n",
    "                \n",
    "                pred_total = torch.cat([pred_total, pred], dim=0)\n",
    "                target_total = torch.cat([target_total, target], dim=0)\n",
    "                \n",
    "                if i % 100 == 0:\n",
    "                    avg_batch_eval_loss = np.mean(losses)\n",
    "                    eval_losses.append(avg_batch_eval_loss)\n",
    "                    \n",
    "                    accuracy = batch_correct / num_seq\n",
    "                    \n",
    "                    print('Iteration: {}. Average evaluation loss: {:.4f}. Accuracy: {:.2f}'\\\n",
    "                          .format(i, avg_batch_eval_loss, accuracy))\n",
    "\n",
    "                    losses = []\n",
    "                    \n",
    "            avg_loss_list = []\n",
    "                    \n",
    "            avg_loss = np.mean(losses_list)\n",
    "            accuracy = batch_correct / num_seq\n",
    "            \n",
    "            conf_matrix = confusion_matrix(target_total.view(-1), pred_total.view(-1))\n",
    "        \n",
    "        if conf_mtx:\n",
    "            print('\\tConfusion matrix: ', conf_matrix)\n",
    "            \n",
    "        return eval_losses, avg_loss, accuracy, conf_matrix\n"
   ]
  },
  {
   "cell_type": "markdown",
   "metadata": {},
   "source": [
    "Now we will instantiate the model, add loss function, optimizer, and device to it and begin the training."
   ]
  },
  {
   "cell_type": "code",
   "execution_count": 9,
   "metadata": {},
   "outputs": [
    {
     "name": "stdout",
     "output_type": "stream",
     "text": [
      "\n",
      "Start epoch [1/20]\n"
     ]
    },
    {
     "data": {
      "application/vnd.jupyter.widget-view+json": {
       "model_id": "dcd77bca73c940c39e955ff0ba53d001",
       "version_major": 2,
       "version_minor": 0
      },
      "text/plain": [
       "HBox(children=(IntProgress(value=0, description='Training', max=136, style=ProgressStyle(description_width='in…"
      ]
     },
     "metadata": {},
     "output_type": "display_data"
    },
    {
     "name": "stdout",
     "output_type": "stream",
     "text": [
      "Iteration: 100. Average training loss: 0.7326. Accuracy: 0.516\n",
      "\n"
     ]
    },
    {
     "data": {
      "application/vnd.jupyter.widget-view+json": {
       "model_id": "ccc30f8c1d224ecbbcf842aca30dfede",
       "version_major": 2,
       "version_minor": 0
      },
      "text/plain": [
       "HBox(children=(IntProgress(value=0, description='Evaluation', max=39, style=ProgressStyle(description_width='i…"
      ]
     },
     "metadata": {},
     "output_type": "display_data"
    },
    {
     "name": "stdout",
     "output_type": "stream",
     "text": [
      "\n",
      "\n",
      "Epoch [1/20]: Train accuracy: 0.524. Train loss: 0.7203. Evaluation accuracy: 0.595. Evaluation loss: 0.6646\n",
      "\n",
      "Start epoch [2/20]\n"
     ]
    },
    {
     "data": {
      "application/vnd.jupyter.widget-view+json": {
       "model_id": "f07a40184c6540bb9b1f8900c64c6004",
       "version_major": 2,
       "version_minor": 0
      },
      "text/plain": [
       "HBox(children=(IntProgress(value=0, description='Training', max=136, style=ProgressStyle(description_width='in…"
      ]
     },
     "metadata": {},
     "output_type": "display_data"
    },
    {
     "name": "stdout",
     "output_type": "stream",
     "text": [
      "Iteration: 100. Average training loss: 0.6676. Accuracy: 0.591\n",
      "\n"
     ]
    },
    {
     "data": {
      "application/vnd.jupyter.widget-view+json": {
       "model_id": "252d300165044a25a8591f3d248c149c",
       "version_major": 2,
       "version_minor": 0
      },
      "text/plain": [
       "HBox(children=(IntProgress(value=0, description='Evaluation', max=39, style=ProgressStyle(description_width='i…"
      ]
     },
     "metadata": {},
     "output_type": "display_data"
    },
    {
     "name": "stdout",
     "output_type": "stream",
     "text": [
      "\n",
      "\n",
      "Epoch [2/20]: Train accuracy: 0.606. Train loss: 0.6601. Evaluation accuracy: 0.725. Evaluation loss: 0.5868\n",
      "\n",
      "Start epoch [3/20]\n"
     ]
    },
    {
     "data": {
      "application/vnd.jupyter.widget-view+json": {
       "model_id": "6fe78369f680447fb5d373cfb9f30189",
       "version_major": 2,
       "version_minor": 0
      },
      "text/plain": [
       "HBox(children=(IntProgress(value=0, description='Training', max=136, style=ProgressStyle(description_width='in…"
      ]
     },
     "metadata": {},
     "output_type": "display_data"
    },
    {
     "name": "stdout",
     "output_type": "stream",
     "text": [
      "Iteration: 100. Average training loss: 0.6024. Accuracy: 0.686\n",
      "\n"
     ]
    },
    {
     "data": {
      "application/vnd.jupyter.widget-view+json": {
       "model_id": "7996055d84cd46d3a80ea06fc92cef7a",
       "version_major": 2,
       "version_minor": 0
      },
      "text/plain": [
       "HBox(children=(IntProgress(value=0, description='Evaluation', max=39, style=ProgressStyle(description_width='i…"
      ]
     },
     "metadata": {},
     "output_type": "display_data"
    },
    {
     "name": "stdout",
     "output_type": "stream",
     "text": [
      "\n",
      "\n",
      "Epoch [3/20]: Train accuracy: 0.697. Train loss: 0.5909. Evaluation accuracy: 0.792. Evaluation loss: 0.4759\n",
      "\n",
      "Start epoch [4/20]\n"
     ]
    },
    {
     "data": {
      "application/vnd.jupyter.widget-view+json": {
       "model_id": "644c6741cac44fa58a6c9e8e47455db0",
       "version_major": 2,
       "version_minor": 0
      },
      "text/plain": [
       "HBox(children=(IntProgress(value=0, description='Training', max=136, style=ProgressStyle(description_width='in…"
      ]
     },
     "metadata": {},
     "output_type": "display_data"
    },
    {
     "name": "stdout",
     "output_type": "stream",
     "text": [
      "Iteration: 100. Average training loss: 0.5169. Accuracy: 0.753\n",
      "\n"
     ]
    },
    {
     "data": {
      "application/vnd.jupyter.widget-view+json": {
       "model_id": "ba2d0c3ba31142028877d063c29775af",
       "version_major": 2,
       "version_minor": 0
      },
      "text/plain": [
       "HBox(children=(IntProgress(value=0, description='Evaluation', max=39, style=ProgressStyle(description_width='i…"
      ]
     },
     "metadata": {},
     "output_type": "display_data"
    },
    {
     "name": "stdout",
     "output_type": "stream",
     "text": [
      "\n",
      "\n",
      "Epoch [4/20]: Train accuracy: 0.759. Train loss: 0.5079. Evaluation accuracy: 0.823. Evaluation loss: 0.4028\n",
      "\n",
      "Start epoch [5/20]\n"
     ]
    },
    {
     "data": {
      "application/vnd.jupyter.widget-view+json": {
       "model_id": "0669f839b27f4c89825be3e941c226d4",
       "version_major": 2,
       "version_minor": 0
      },
      "text/plain": [
       "HBox(children=(IntProgress(value=0, description='Training', max=136, style=ProgressStyle(description_width='in…"
      ]
     },
     "metadata": {},
     "output_type": "display_data"
    },
    {
     "name": "stdout",
     "output_type": "stream",
     "text": [
      "Iteration: 100. Average training loss: 0.4483. Accuracy: 0.792\n",
      "\n"
     ]
    },
    {
     "data": {
      "application/vnd.jupyter.widget-view+json": {
       "model_id": "21e7991ee6b74a4085f53c49bc469fda",
       "version_major": 2,
       "version_minor": 0
      },
      "text/plain": [
       "HBox(children=(IntProgress(value=0, description='Evaluation', max=39, style=ProgressStyle(description_width='i…"
      ]
     },
     "metadata": {},
     "output_type": "display_data"
    },
    {
     "name": "stdout",
     "output_type": "stream",
     "text": [
      "\n",
      "\n",
      "Epoch [5/20]: Train accuracy: 0.795. Train loss: 0.4417. Evaluation accuracy: 0.836. Evaluation loss: 0.3679\n",
      "\n",
      "Start epoch [6/20]\n"
     ]
    },
    {
     "data": {
      "application/vnd.jupyter.widget-view+json": {
       "model_id": "75bc44e9cf934afe9b5b295ffe41b5ff",
       "version_major": 2,
       "version_minor": 0
      },
      "text/plain": [
       "HBox(children=(IntProgress(value=0, description='Training', max=136, style=ProgressStyle(description_width='in…"
      ]
     },
     "metadata": {},
     "output_type": "display_data"
    },
    {
     "name": "stdout",
     "output_type": "stream",
     "text": [
      "Iteration: 100. Average training loss: 0.4062. Accuracy: 0.819\n",
      "\n"
     ]
    },
    {
     "data": {
      "application/vnd.jupyter.widget-view+json": {
       "model_id": "f6e3d8d94abe472cb50a177c0959205f",
       "version_major": 2,
       "version_minor": 0
      },
      "text/plain": [
       "HBox(children=(IntProgress(value=0, description='Evaluation', max=39, style=ProgressStyle(description_width='i…"
      ]
     },
     "metadata": {},
     "output_type": "display_data"
    },
    {
     "name": "stdout",
     "output_type": "stream",
     "text": [
      "\n",
      "\n",
      "Epoch [6/20]: Train accuracy: 0.822. Train loss: 0.4015. Evaluation accuracy: 0.846. Evaluation loss: 0.3507\n",
      "\n",
      "Start epoch [7/20]\n"
     ]
    },
    {
     "data": {
      "application/vnd.jupyter.widget-view+json": {
       "model_id": "e3594666987c43c6ac2e9c0630272981",
       "version_major": 2,
       "version_minor": 0
      },
      "text/plain": [
       "HBox(children=(IntProgress(value=0, description='Training', max=136, style=ProgressStyle(description_width='in…"
      ]
     },
     "metadata": {},
     "output_type": "display_data"
    },
    {
     "name": "stdout",
     "output_type": "stream",
     "text": [
      "Iteration: 100. Average training loss: 0.3746. Accuracy: 0.836\n",
      "\n"
     ]
    },
    {
     "data": {
      "application/vnd.jupyter.widget-view+json": {
       "model_id": "599259e9cc7046648ef5adefa05cec66",
       "version_major": 2,
       "version_minor": 0
      },
      "text/plain": [
       "HBox(children=(IntProgress(value=0, description='Evaluation', max=39, style=ProgressStyle(description_width='i…"
      ]
     },
     "metadata": {},
     "output_type": "display_data"
    },
    {
     "name": "stdout",
     "output_type": "stream",
     "text": [
      "\n",
      "\n",
      "Epoch [7/20]: Train accuracy: 0.837. Train loss: 0.3724. Evaluation accuracy: 0.850. Evaluation loss: 0.3415\n",
      "\n",
      "Start epoch [8/20]\n"
     ]
    },
    {
     "data": {
      "application/vnd.jupyter.widget-view+json": {
       "model_id": "657a537fb16048abb39e57cd0f824426",
       "version_major": 2,
       "version_minor": 0
      },
      "text/plain": [
       "HBox(children=(IntProgress(value=0, description='Training', max=136, style=ProgressStyle(description_width='in…"
      ]
     },
     "metadata": {},
     "output_type": "display_data"
    },
    {
     "name": "stdout",
     "output_type": "stream",
     "text": [
      "Iteration: 100. Average training loss: 0.3542. Accuracy: 0.848\n",
      "\n"
     ]
    },
    {
     "data": {
      "application/vnd.jupyter.widget-view+json": {
       "model_id": "5ed32ee860164d14b6340a6735d187d9",
       "version_major": 2,
       "version_minor": 0
      },
      "text/plain": [
       "HBox(children=(IntProgress(value=0, description='Evaluation', max=39, style=ProgressStyle(description_width='i…"
      ]
     },
     "metadata": {},
     "output_type": "display_data"
    },
    {
     "name": "stdout",
     "output_type": "stream",
     "text": [
      "\n",
      "\n",
      "Epoch [8/20]: Train accuracy: 0.850. Train loss: 0.3517. Evaluation accuracy: 0.856. Evaluation loss: 0.3339\n",
      "\n",
      "Start epoch [9/20]\n"
     ]
    },
    {
     "data": {
      "application/vnd.jupyter.widget-view+json": {
       "model_id": "d1ce5f6b877b41c8b425e8577c77cf01",
       "version_major": 2,
       "version_minor": 0
      },
      "text/plain": [
       "HBox(children=(IntProgress(value=0, description='Training', max=136, style=ProgressStyle(description_width='in…"
      ]
     },
     "metadata": {},
     "output_type": "display_data"
    },
    {
     "name": "stdout",
     "output_type": "stream",
     "text": [
      "Iteration: 100. Average training loss: 0.3367. Accuracy: 0.857\n",
      "\n"
     ]
    },
    {
     "data": {
      "application/vnd.jupyter.widget-view+json": {
       "model_id": "f8373a9fdf2342f3968a22c770c8a650",
       "version_major": 2,
       "version_minor": 0
      },
      "text/plain": [
       "HBox(children=(IntProgress(value=0, description='Evaluation', max=39, style=ProgressStyle(description_width='i…"
      ]
     },
     "metadata": {},
     "output_type": "display_data"
    },
    {
     "name": "stdout",
     "output_type": "stream",
     "text": [
      "\n",
      "\n",
      "Epoch [9/20]: Train accuracy: 0.858. Train loss: 0.3342. Evaluation accuracy: 0.862. Evaluation loss: 0.3298\n",
      "\n",
      "Start epoch [10/20]\n"
     ]
    },
    {
     "data": {
      "application/vnd.jupyter.widget-view+json": {
       "model_id": "ec221f5273264f10953475a7d951f539",
       "version_major": 2,
       "version_minor": 0
      },
      "text/plain": [
       "HBox(children=(IntProgress(value=0, description='Training', max=136, style=ProgressStyle(description_width='in…"
      ]
     },
     "metadata": {},
     "output_type": "display_data"
    },
    {
     "name": "stdout",
     "output_type": "stream",
     "text": [
      "Iteration: 100. Average training loss: 0.3215. Accuracy: 0.865\n",
      "\n"
     ]
    },
    {
     "data": {
      "application/vnd.jupyter.widget-view+json": {
       "model_id": "46b67f00979346dfa5ebb39c13fc4c18",
       "version_major": 2,
       "version_minor": 0
      },
      "text/plain": [
       "HBox(children=(IntProgress(value=0, description='Evaluation', max=39, style=ProgressStyle(description_width='i…"
      ]
     },
     "metadata": {},
     "output_type": "display_data"
    },
    {
     "name": "stdout",
     "output_type": "stream",
     "text": [
      "\n",
      "\n",
      "Epoch [10/20]: Train accuracy: 0.866. Train loss: 0.3189. Evaluation accuracy: 0.867. Evaluation loss: 0.3258\n",
      "\n",
      "Start epoch [11/20]\n"
     ]
    },
    {
     "data": {
      "application/vnd.jupyter.widget-view+json": {
       "model_id": "585f1d200ef04de7bca37d5914f6793d",
       "version_major": 2,
       "version_minor": 0
      },
      "text/plain": [
       "HBox(children=(IntProgress(value=0, description='Training', max=136, style=ProgressStyle(description_width='in…"
      ]
     },
     "metadata": {},
     "output_type": "display_data"
    },
    {
     "name": "stdout",
     "output_type": "stream",
     "text": [
      "Iteration: 100. Average training loss: 0.3074. Accuracy: 0.871\n",
      "\n"
     ]
    },
    {
     "data": {
      "application/vnd.jupyter.widget-view+json": {
       "model_id": "82d82cd3a80f47d3809a979790f38bb5",
       "version_major": 2,
       "version_minor": 0
      },
      "text/plain": [
       "HBox(children=(IntProgress(value=0, description='Evaluation', max=39, style=ProgressStyle(description_width='i…"
      ]
     },
     "metadata": {},
     "output_type": "display_data"
    },
    {
     "name": "stdout",
     "output_type": "stream",
     "text": [
      "\n",
      "\n",
      "Epoch [11/20]: Train accuracy: 0.872. Train loss: 0.3056. Evaluation accuracy: 0.869. Evaluation loss: 0.3243\n",
      "\n",
      "Start epoch [12/20]\n"
     ]
    },
    {
     "data": {
      "application/vnd.jupyter.widget-view+json": {
       "model_id": "f59db92a90d54735b8fc4baf44886c90",
       "version_major": 2,
       "version_minor": 0
      },
      "text/plain": [
       "HBox(children=(IntProgress(value=0, description='Training', max=136, style=ProgressStyle(description_width='in…"
      ]
     },
     "metadata": {},
     "output_type": "display_data"
    },
    {
     "name": "stdout",
     "output_type": "stream",
     "text": [
      "Iteration: 100. Average training loss: 0.2999. Accuracy: 0.876\n",
      "\n"
     ]
    },
    {
     "data": {
      "application/vnd.jupyter.widget-view+json": {
       "model_id": "f39ce5fef3e84045a7ecf9b0d463a87e",
       "version_major": 2,
       "version_minor": 0
      },
      "text/plain": [
       "HBox(children=(IntProgress(value=0, description='Evaluation', max=39, style=ProgressStyle(description_width='i…"
      ]
     },
     "metadata": {},
     "output_type": "display_data"
    },
    {
     "name": "stdout",
     "output_type": "stream",
     "text": [
      "\n",
      "\n",
      "Epoch [12/20]: Train accuracy: 0.878. Train loss: 0.2975. Evaluation accuracy: 0.871. Evaluation loss: 0.3204\n",
      "\n",
      "Start epoch [13/20]\n"
     ]
    },
    {
     "data": {
      "application/vnd.jupyter.widget-view+json": {
       "model_id": "e9d851c4c15e48b0af81cb16ed57afb0",
       "version_major": 2,
       "version_minor": 0
      },
      "text/plain": [
       "HBox(children=(IntProgress(value=0, description='Training', max=136, style=ProgressStyle(description_width='in…"
      ]
     },
     "metadata": {},
     "output_type": "display_data"
    },
    {
     "name": "stdout",
     "output_type": "stream",
     "text": [
      "Iteration: 100. Average training loss: 0.2836. Accuracy: 0.885\n",
      "\n"
     ]
    },
    {
     "data": {
      "application/vnd.jupyter.widget-view+json": {
       "model_id": "34b4307980ec468a8881b448b56f31af",
       "version_major": 2,
       "version_minor": 0
      },
      "text/plain": [
       "HBox(children=(IntProgress(value=0, description='Evaluation', max=39, style=ProgressStyle(description_width='i…"
      ]
     },
     "metadata": {},
     "output_type": "display_data"
    },
    {
     "name": "stdout",
     "output_type": "stream",
     "text": [
      "\n",
      "\n",
      "Epoch [13/20]: Train accuracy: 0.886. Train loss: 0.2830. Evaluation accuracy: 0.871. Evaluation loss: 0.3191\n",
      "\n",
      "Start epoch [14/20]\n"
     ]
    },
    {
     "data": {
      "application/vnd.jupyter.widget-view+json": {
       "model_id": "4a04cf7fa485430b90885e6acacc1f40",
       "version_major": 2,
       "version_minor": 0
      },
      "text/plain": [
       "HBox(children=(IntProgress(value=0, description='Training', max=136, style=ProgressStyle(description_width='in…"
      ]
     },
     "metadata": {},
     "output_type": "display_data"
    },
    {
     "name": "stdout",
     "output_type": "stream",
     "text": [
      "Iteration: 100. Average training loss: 0.2774. Accuracy: 0.888\n",
      "\n"
     ]
    },
    {
     "data": {
      "application/vnd.jupyter.widget-view+json": {
       "model_id": "77116f31a1664cfea785f1230280ca66",
       "version_major": 2,
       "version_minor": 0
      },
      "text/plain": [
       "HBox(children=(IntProgress(value=0, description='Evaluation', max=39, style=ProgressStyle(description_width='i…"
      ]
     },
     "metadata": {},
     "output_type": "display_data"
    },
    {
     "name": "stdout",
     "output_type": "stream",
     "text": [
      "\n",
      "\n",
      "Epoch [14/20]: Train accuracy: 0.889. Train loss: 0.2749. Evaluation accuracy: 0.873. Evaluation loss: 0.3178\n",
      "\n",
      "Start epoch [15/20]\n"
     ]
    },
    {
     "data": {
      "application/vnd.jupyter.widget-view+json": {
       "model_id": "a1d47279a42b4142b349f9f3ac09fc99",
       "version_major": 2,
       "version_minor": 0
      },
      "text/plain": [
       "HBox(children=(IntProgress(value=0, description='Training', max=136, style=ProgressStyle(description_width='in…"
      ]
     },
     "metadata": {},
     "output_type": "display_data"
    },
    {
     "name": "stdout",
     "output_type": "stream",
     "text": [
      "Iteration: 100. Average training loss: 0.2652. Accuracy: 0.892\n",
      "\n"
     ]
    },
    {
     "data": {
      "application/vnd.jupyter.widget-view+json": {
       "model_id": "b27b593e8895403d989adc7d3dd6c96a",
       "version_major": 2,
       "version_minor": 0
      },
      "text/plain": [
       "HBox(children=(IntProgress(value=0, description='Evaluation', max=39, style=ProgressStyle(description_width='i…"
      ]
     },
     "metadata": {},
     "output_type": "display_data"
    },
    {
     "name": "stdout",
     "output_type": "stream",
     "text": [
      "\n",
      "\n",
      "Epoch [15/20]: Train accuracy: 0.894. Train loss: 0.2626. Evaluation accuracy: 0.873. Evaluation loss: 0.3185\n",
      "\n",
      "Start epoch [16/20]\n"
     ]
    },
    {
     "data": {
      "application/vnd.jupyter.widget-view+json": {
       "model_id": "43f60d7423e14e22962ee88bb856588e",
       "version_major": 2,
       "version_minor": 0
      },
      "text/plain": [
       "HBox(children=(IntProgress(value=0, description='Training', max=136, style=ProgressStyle(description_width='in…"
      ]
     },
     "metadata": {},
     "output_type": "display_data"
    },
    {
     "name": "stdout",
     "output_type": "stream",
     "text": [
      "Iteration: 100. Average training loss: 0.2601. Accuracy: 0.894\n",
      "\n"
     ]
    },
    {
     "data": {
      "application/vnd.jupyter.widget-view+json": {
       "model_id": "5ca9df0142c84ed1925bb9c2bd54ef0b",
       "version_major": 2,
       "version_minor": 0
      },
      "text/plain": [
       "HBox(children=(IntProgress(value=0, description='Evaluation', max=39, style=ProgressStyle(description_width='i…"
      ]
     },
     "metadata": {},
     "output_type": "display_data"
    },
    {
     "name": "stdout",
     "output_type": "stream",
     "text": [
      "\n",
      "\n",
      "Epoch [16/20]: Train accuracy: 0.895. Train loss: 0.2582. Evaluation accuracy: 0.875. Evaluation loss: 0.3180\n",
      "\n",
      "Start epoch [17/20]\n"
     ]
    },
    {
     "data": {
      "application/vnd.jupyter.widget-view+json": {
       "model_id": "7a02084406fe47058445a012373849e0",
       "version_major": 2,
       "version_minor": 0
      },
      "text/plain": [
       "HBox(children=(IntProgress(value=0, description='Training', max=136, style=ProgressStyle(description_width='in…"
      ]
     },
     "metadata": {},
     "output_type": "display_data"
    },
    {
     "name": "stdout",
     "output_type": "stream",
     "text": [
      "Iteration: 100. Average training loss: 0.2493. Accuracy: 0.900\n",
      "\n"
     ]
    },
    {
     "data": {
      "application/vnd.jupyter.widget-view+json": {
       "model_id": "b28de97a94d94f66af256069408e6de8",
       "version_major": 2,
       "version_minor": 0
      },
      "text/plain": [
       "HBox(children=(IntProgress(value=0, description='Evaluation', max=39, style=ProgressStyle(description_width='i…"
      ]
     },
     "metadata": {},
     "output_type": "display_data"
    },
    {
     "name": "stdout",
     "output_type": "stream",
     "text": [
      "\n",
      "\n",
      "Epoch [17/20]: Train accuracy: 0.899. Train loss: 0.2485. Evaluation accuracy: 0.874. Evaluation loss: 0.3179\n",
      "\n",
      "Start epoch [18/20]\n"
     ]
    },
    {
     "data": {
      "application/vnd.jupyter.widget-view+json": {
       "model_id": "9b298615b19649bebf575ee5590c7fba",
       "version_major": 2,
       "version_minor": 0
      },
      "text/plain": [
       "HBox(children=(IntProgress(value=0, description='Training', max=136, style=ProgressStyle(description_width='in…"
      ]
     },
     "metadata": {},
     "output_type": "display_data"
    },
    {
     "name": "stdout",
     "output_type": "stream",
     "text": [
      "Iteration: 100. Average training loss: 0.2424. Accuracy: 0.902\n",
      "\n"
     ]
    },
    {
     "data": {
      "application/vnd.jupyter.widget-view+json": {
       "model_id": "0223d212a9f941039881b33a7c397eab",
       "version_major": 2,
       "version_minor": 0
      },
      "text/plain": [
       "HBox(children=(IntProgress(value=0, description='Evaluation', max=39, style=ProgressStyle(description_width='i…"
      ]
     },
     "metadata": {},
     "output_type": "display_data"
    },
    {
     "name": "stdout",
     "output_type": "stream",
     "text": [
      "\n",
      "\n",
      "Epoch [18/20]: Train accuracy: 0.903. Train loss: 0.2412. Evaluation accuracy: 0.875. Evaluation loss: 0.3181\n",
      "\n",
      "Start epoch [19/20]\n"
     ]
    },
    {
     "data": {
      "application/vnd.jupyter.widget-view+json": {
       "model_id": "8c569ef645c34a30bf9cf08256efe60c",
       "version_major": 2,
       "version_minor": 0
      },
      "text/plain": [
       "HBox(children=(IntProgress(value=0, description='Training', max=136, style=ProgressStyle(description_width='in…"
      ]
     },
     "metadata": {},
     "output_type": "display_data"
    },
    {
     "name": "stdout",
     "output_type": "stream",
     "text": [
      "Iteration: 100. Average training loss: 0.2381. Accuracy: 0.904\n",
      "\n"
     ]
    },
    {
     "data": {
      "application/vnd.jupyter.widget-view+json": {
       "model_id": "81bc142ca08b471d9de05924d3f5cc19",
       "version_major": 2,
       "version_minor": 0
      },
      "text/plain": [
       "HBox(children=(IntProgress(value=0, description='Evaluation', max=39, style=ProgressStyle(description_width='i…"
      ]
     },
     "metadata": {},
     "output_type": "display_data"
    },
    {
     "name": "stdout",
     "output_type": "stream",
     "text": [
      "\n",
      "\n",
      "Epoch [19/20]: Train accuracy: 0.906. Train loss: 0.2353. Evaluation accuracy: 0.877. Evaluation loss: 0.3180\n",
      "\n",
      "Start epoch [20/20]\n"
     ]
    },
    {
     "data": {
      "application/vnd.jupyter.widget-view+json": {
       "model_id": "537051da51a843a7b96e638ab9f59eb0",
       "version_major": 2,
       "version_minor": 0
      },
      "text/plain": [
       "HBox(children=(IntProgress(value=0, description='Training', max=136, style=ProgressStyle(description_width='in…"
      ]
     },
     "metadata": {},
     "output_type": "display_data"
    },
    {
     "name": "stdout",
     "output_type": "stream",
     "text": [
      "Iteration: 100. Average training loss: 0.2330. Accuracy: 0.907\n",
      "\n"
     ]
    },
    {
     "data": {
      "application/vnd.jupyter.widget-view+json": {
       "model_id": "3cea9268ce1f45758f7c5d0335acff68",
       "version_major": 2,
       "version_minor": 0
      },
      "text/plain": [
       "HBox(children=(IntProgress(value=0, description='Evaluation', max=39, style=ProgressStyle(description_width='i…"
      ]
     },
     "metadata": {},
     "output_type": "display_data"
    },
    {
     "name": "stdout",
     "output_type": "stream",
     "text": [
      "\n",
      "\n",
      "Epoch [20/20]: Train accuracy: 0.908. Train loss: 0.2314. Evaluation accuracy: 0.878. Evaluation loss: 0.3177\n"
     ]
    }
   ],
   "source": [
    "# Initialize parameters\n",
    "hidden_size = 8\n",
    "vocab_size = len(train_iterator.word2index)\n",
    "embedding_dim = 200\n",
    "output_size = 2\n",
    "n_layers = 1\n",
    "dropout = 0.5\n",
    "learning_rate = 0.001\n",
    "epochs = 20\n",
    "spatial_dropout = True\n",
    "\n",
    "# Check whether system supports CUDA\n",
    "CUDA = torch.cuda.is_available()\n",
    "\n",
    "model = BiGRU(hidden_size, vocab_size, embedding_dim, output_size, n_layers, dropout,\n",
    "              spatial_dropout, bidirectional=True)\n",
    "\n",
    "# Move the model to GPU if possible\n",
    "if CUDA:\n",
    "    model.cuda()\n",
    "\n",
    "model.add_loss_fn(nn.NLLLoss())\n",
    "\n",
    "optimizer = torch.optim.Adam(model.parameters(), lr=learning_rate)\n",
    "model.add_optimizer(optimizer)\n",
    "\n",
    "device = torch.device('cuda' if CUDA else 'cpu')\n",
    "\n",
    "model.add_device(device)\n",
    "\n",
    "# Instantiate the EarlyStopping\n",
    "early_stop = EarlyStopping(wait_epochs=1)\n",
    "\n",
    "train_losses_list, train_avg_loss_list, train_accuracy_list = [], [], []\n",
    "eval_avg_loss_list, eval_accuracy_list, conf_matrix_list = [], [], []\n",
    "\n",
    "for epoch in range(epochs):\n",
    "    \n",
    "    print('\\nStart epoch [{}/{}]'.format(epoch+1, epochs))\n",
    "    \n",
    "    train_losses, train_avg_loss, train_accuracy = model.train_model(train_iterator)\n",
    "    \n",
    "    train_losses_list.append(train_losses)\n",
    "    train_avg_loss_list.append(train_avg_loss)\n",
    "    train_accuracy_list.append(train_accuracy)\n",
    "    \n",
    "    _, eval_avg_loss, eval_accuracy, conf_matrix = model.evaluate_model(val_iterator)\n",
    "    \n",
    "    eval_avg_loss_list.append(eval_avg_loss)\n",
    "    eval_accuracy_list.append(eval_accuracy)\n",
    "    conf_matrix_list.append(conf_matrix)\n",
    "    \n",
    "    print('\\nEpoch [{}/{}]: Train accuracy: {:.3f}. Train loss: {:.4f}. Evaluation accuracy: {:.3f}. Evaluation loss: {:.4f}'\\\n",
    "          .format(epoch+1, epochs, train_accuracy, train_avg_loss, eval_accuracy, eval_avg_loss))\n",
    "    \n",
    "    if early_stop.stop(eval_avg_loss, model, delta=0.003):\n",
    "        break\n",
    "\n",
    "    "
   ]
  },
  {
   "cell_type": "code",
   "execution_count": 10,
   "metadata": {},
   "outputs": [],
   "source": [
    "# Add the dataset initial loss\n",
    "train_avg_loss_list.insert(0, train_losses_list[0][0])\n",
    "eval_avg_loss_list.insert(0, train_losses_list[0][0])"
   ]
  },
  {
   "cell_type": "code",
   "execution_count": 12,
   "metadata": {},
   "outputs": [
    {
     "data": {
      "image/png": "[encoded data removed]",
      "text/plain": [
       "<Figure size 576x360 with 1 Axes>"
      ]
     },
     "metadata": {
      "needs_background": "light"
     },
     "output_type": "display_data"
    }
   ],
   "source": [
    "# Plot the training and the validation learning curve\n",
    "plt.figure(figsize=(8,5))\n",
    "plt.plot(train_avg_loss_list, label='Training loss')\n",
    "plt.plot(eval_avg_loss_list, label='Evaluation loss')\n",
    "plt.xlabel('Epoch', size=12)\n",
    "plt.ylabel('Loss', size=12)\n",
    "plt.title('biGRU model learning curves')\n",
    "plt.xticks(ticks=range(21))\n",
    "plt.legend()\n",
    "plt.show()"
   ]
  },
  {
   "cell_type": "code",
   "execution_count": 4,
   "metadata": {},
   "outputs": [
    {
     "data": {
      "image/png": "[encoded data removed]",
      "text/plain": [
       "<Figure size 432x432 with 2 Axes>"
      ]
     },
     "metadata": {
      "needs_background": "light"
     },
     "output_type": "display_data"
    }
   ],
   "source": [
    "# Confusion matrix\n",
    "plt.figure(figsize=(6,6))\n",
    "ax = sns.heatmap(conf_matrix, fmt='d', annot=True, linewidths=1, square=True)\n",
    "ax.set_xlabel('Predictions', size=12)\n",
    "ax.set_ylabel('True labels', size=12) \n",
    "ax.set_title('Confusion Matrix', size=12); \n",
    "ax.xaxis.set_ticklabels(['True', 'False'])\n",
    "ax.yaxis.set_ticklabels(['True', 'False'])\n",
    "ax.set_ylim(2,0)\n",
    "plt.show()"
   ]
  },
  {
   "cell_type": "markdown",
   "metadata": {},
   "source": [
    "The model achieved the validation accuracy of 0.878, while the training accuracy was 0.908. The model's best state was saved to the *checkpoint.pt* file in the current directory. The training wasn't stopped by EarlyStopping object because the validation loss changes were too small and fluctuated near the same value.\n",
    "\n",
    "The training process that is presented above regards the model with the tuned hyperparameters. The steps we went through when doing hyperparameters fine-tuning are listed in the next section."
   ]
  },
  {
   "cell_type": "markdown",
   "metadata": {},
   "source": [
    "### Hyperparameters fine-tuning\n",
    "\n",
    "After the model is created we have to tune its hyperparameters like hidden_size, embedding_dim, n_layers, dropout, spatial_dropout, learning_rate, batch_size, seq_length or min_word_count and then chose the set of parameters that enable the model to achieve the best performance (a model that returns the highest accuracy or lowest loss) on the validation set.\n",
    "\n",
    "Below we will show how the training and validation losses change during the training, do to so we have to disable the early stopping. We are interested in comparing training and validations losses in terms of their values but also in the directions in which they are heading during the training. This will help us discern the overfitting if it occurs.\n",
    "\n",
    "The initial parameters used in our model are the following:\n",
    "- hidden_size = 100\n",
    "- embedding_dim = 200\n",
    "- n_layers = 1\n",
    "- dropout = 0.2\n",
    "- learning_rate = 0.001\n",
    "- batch_size = 32\n",
    "- spatial_dropout = False\n",
    "- min_word_count = 5\n",
    "- max_seq_len = 0.8\n",
    "\n",
    "Then we will change one of the above hyperparameters, train the model and depict the training and validation loss at each epoch during the training."
   ]
  },
  {
   "attachments": {},
   "cell_type": "markdown",
   "metadata": {},
   "source": [
    "#### 1. Learning curves for the model with dropout  set to 0.2.\n",
    "\n",
    "dropout = 0.2\n",
    "\n",
    "<div>\n",
    "<img src=\"assets/learning_curves_droput02.png\" width=\"500\" />\n",
    "</div>\n",
    "\n",
    "With the lowest evaluation loss (at second epoch), the model archived evaluation accuracy of 0.861 while the training accuracy at that time was 0.883.\n",
    "\n",
    "We can notice on the preceding plot, that the training loss constantly decrease together with the validation loss, but at the second epoch, the validation loss reverse and begin to increase. This behaviour indicates that our model is overfitted, it learns too well how to map training input variables to the target, thus it cannot generalize its performance on some unseen data (validation set). One of the solutions to this problem is to increase the dropout probability, so the neural network will be forced to learn some more robust correlations in the data since the neurons will not depend anymore on each other, therefore the overfitting will be reduced.  The best remedy to the overfitting issue would be to gain more training examples, but our data set is finite, so we are not able to do that.."
   ]
  },
  {
   "attachments": {
    "learning_curves_droput05.png": {
     "image/png": "[encoded data removed]"
    }
   },
   "cell_type": "markdown",
   "metadata": {},
   "source": [
    "#### 2. Learning curves for the model with dropout set to 0.5.\n",
    "\n",
    "dropout = 0.5\n",
    "\n",
    "![assets/learning_curves_droput05.png](attachment:learning_curves_droput05.png)\n",
    "\n",
    "With dropout probability set to 0.5 the validation loss decrease longer than in the first case and reverses at 5th epoch (at the value of loss a bit greater than with dropout = 0.2). This denotes that the overfitting problem still occurs in our model. The validation accuracy is comparable to the previous model.\n",
    "\n",
    "In the next training procedure, we will use the spatial dropout instead of the traditional dropout after the embedding layer."
   ]
  },
  {
   "attachments": {},
   "cell_type": "markdown",
   "metadata": {},
   "source": [
    "#### 3. Learning curves for the model with spatial dropout set to 0.5.\n",
    "\n",
    "dropout = 0.5 <br>\n",
    "spatial_dropout = True\n",
    "\n",
    "<div>\n",
    "<img src=\"assets/learning_curves_spatial_droput.png\" width=\"500\" />\n",
    "</div>\n",
    "\n",
    "When we use the spatial dropout instead of normal dropout the evaluation loss decrease to the value around 0.36, similar to the first example where we used dropout = 0.2, but lower than with the dropout probability set to 0.5. With spatial dropout, the loss begin to reverse at the second epoch, but it increases much slower than in the previous cases (the gap between training loss and validation loss is smaller). As a summary, we can say that considering all regularization methods results, the spatial dropout provides the model best behaviour.\n",
    "\n",
    "The next hyperparameter that we are going to tune is the hidden_size."
   ]
  },
  {
   "attachments": {},
   "cell_type": "markdown",
   "metadata": {},
   "source": [
    "#### 4. Learning curves for the model with hidden_size = 64.\n",
    "\n",
    "There are many rules regarding the choice of the hidden size. For instance, we can use the following formula to calculate the number of hidden units $N_{h}$ [https://ai.stackexchange.com/questions/3156/how-to-select-number-of-hidden-layers-and-number-of-memory-cells-in-an-lstm]:\n",
    "<br>\n",
    "\n",
    "<p><center>$N_{h} = \\frac{N_{s}}{(\\alpha \\cdot (N_{i} + N_{0}))}$</center></p>\n",
    "\n",
    "Where: <br>\n",
    "$N_{s}$ - number of samples in training data set. <br>\n",
    "$\\alpha$ - an arbitrary scaling factor usually 2-10.<br>\n",
    "$N_{i}$ - number of input neurons.<br>\n",
    "$N_{0}$ - number of output neurons.<br>\n",
    "\n",
    "Nevertheless in most cases, the number of hidden units have to be figured out by series of trials.\n",
    "\n",
    "dropout = 0.5 <br>\n",
    "spatial_dropout = True <br>\n",
    "hidden_size = 64 <br>\n",
    "\n",
    "<div>\n",
    "<img src=\"assets/learning_curves_hidden64.png\" width=\"500\" />\n",
    "</div>\n",
    "\n",
    "As we can see reducing the number of hidden units makes the validation loss curve more flat after the first epoch than it was in the preceding examples.\n",
    "\n",
    "We will go further and decrease the hidden_size to 32."
   ]
  },
  {
   "attachments": {},
   "cell_type": "markdown",
   "metadata": {},
   "source": [
    "#### 5. Learning curves for the model with hidden_size = 32.\n",
    "\n",
    "dropout = 0.5 <br>\n",
    "spatial_dropout = True <br>\n",
    "hidden_size = 32 <br>\n",
    "\n",
    "<div>\n",
    "<img src=\"assets/learning_curves_hidden32.png\" width=\"500\" />\n",
    "</div>\n",
    "\n",
    "After decreasing the hidden_size to 32, the validation loss became even more flat and at the 3rd epoch, it begins to fluctuate around the value of 0.38. We can see that decreasing the number of hidden units helped and learning curves starting to look as expected, so we will diminish the hidden_size one more time."
   ]
  },
  {
   "attachments": {},
   "cell_type": "markdown",
   "metadata": {},
   "source": [
    "#### 6. Learning curves for the model with hidden_size = 16.\n",
    "\n",
    "dropout = 0.5 <br>\n",
    "spatial_dropout = True <br>\n",
    "hidden_size = 16 <br>\n",
    "\n",
    "<div>\n",
    "<img src=\"assets/learning_curves_hidden16.png\" width=\"500\" />\n",
    "</div>\n",
    "\n",
    "This time the validation learning curve takes a bit lower values and it is more smooth than the previous one."
   ]
  },
  {
   "attachments": {},
   "cell_type": "markdown",
   "metadata": {},
   "source": [
    "#### 7. Learning curves for the model with hidden_size = 8.\n",
    "\n",
    "dropout = 0.5 <br>\n",
    "spatial_dropout = True <br>\n",
    "hidden_size = 8 <br>\n",
    "\n",
    "<div>\n",
    "<img src=\"assets/learning_curves_hidden8.png\" width=\"500\" />\n",
    "</div>\n",
    "\n",
    "The validation loss slowly, but constantly decreases during the training, so we can say that overfitting has been overcame."
   ]
  },
  {
   "attachments": {},
   "cell_type": "markdown",
   "metadata": {},
   "source": [
    "#### 8. Learning curves for the model with n_layers = 2.\n",
    "\n",
    "dropout = 0.5 <br>\n",
    "spatial_dropout = True <br>\n",
    "hidden_size = 8 <br>\n",
    "n_layers = 2 <br>\n",
    "\n",
    "<div>\n",
    "<img src=\"assets/learning_curves_nlayers2.png\" width=\"500\" />\n",
    "</div>\n",
    "\n",
    "Using one addtional GRU layer didn't make a difference for our model's performance."
   ]
  },
  {
   "attachments": {},
   "cell_type": "markdown",
   "metadata": {},
   "source": [
    "#### 9. Learning curves for the model with batch_size = 16.\n",
    "\n",
    "Now we are going to change the batch_size to 16, as reducing batch size might work as regularizer since losses calculated on small batches are noisier, thus model has a lower tendentious to overfitting. The drawback of this method is the processing time, which increases while batch size decreases. Notice that we will change back the n_layers to 1.\n",
    "\n",
    "dropout = 0.5 <br>\n",
    "spatial_dropout = True <br>\n",
    "hidden_size = 8 <br>\n",
    "n_layers = 1 <br>\n",
    "batch_size = 16 <br>\n",
    "\n",
    "<div>\n",
    "<img src=\"assets/learning_curves_batch16.png\" width=\"500\" />\n",
    "</div>\n",
    "\n",
    "Reducing the batch_size cause that the validation loss diminished to the value around 0.33 (among to the lowest of all our trials), but then the loss began to increase. That might be only some local peak, or the model started to overfit to the training dataset.\n",
    "\n",
    "The validation loss curve tends to be under the training curve for most of the time. The explanation of why it behaves like that is the following:\n",
    "- The validation error is smaller than the training error because the dropout is active during the training, while during the evaluation, dropout layer is inactive, thus we got more smooth results in the second case.  \n",
    "- The training loss is measured as the mean loss on the entire training set, and since the performance improves during the training, the general training loss depicted on the plot is worse than the lowest loss calculated at the end of the set. While the validation loss is calculated using the model's last state, which is associated with the best performance at the given time."
   ]
  },
  {
   "attachments": {},
   "cell_type": "markdown",
   "metadata": {},
   "source": [
    "#### 10. Learning curves for the model with batch_size = 64.\n",
    "\n",
    "Increasing the batch_size will speed up the training process.\n",
    "<br>\n",
    "<div>\n",
    "<img src=\"assets/learning_curves_batch64.png\" width=\"500\" />\n",
    "</div>\n",
    "\n",
    "As we can see, we gained positive results by using larger batch_size, namely, the learning process was much faster and the validation loss is comparable to the previous results, it doesn't even raise at the end of the training."
   ]
  },
  {
   "attachments": {
    "learning_curves_batch128.png": {
     "image/png": "[encoded data removed]"
    }
   },
   "cell_type": "markdown",
   "metadata": {},
   "source": [
    "#### 11. Learning curves for the model with batch_size = 128.\n",
    "\n",
    "![assets/learning_curves_batch128.png](attachment:learning_curves_batch128.png)\n",
    "\n",
    "This time we can see the improvement, the validation error seems to constantly decrease, the curve is more smooth. As it turned out this could be the right way to one more time improve the model's predictive abilities."
   ]
  },
  {
   "attachments": {},
   "cell_type": "markdown",
   "metadata": {},
   "source": [
    "#### 12. Learning curves for the model with batch_size = 256.\n",
    "<br>\n",
    "<div>\n",
    "<img src=\"assets/learning_curves_batch256.png\" width=\"500\" />\n",
    "</div>\n",
    "\n",
    "During the above training trial, we recorded the lowest validation error among all preceding trials that equals around 0.32."
   ]
  },
  {
   "attachments": {},
   "cell_type": "markdown",
   "metadata": {},
   "source": [
    "#### 13. Learning curves for the model with min_word_count = 3 and max_seq_len = 0.9.\n",
    "\n",
    "As the last hyperparameters to tune we will use the min_word_count and max_seq_len.\n",
    "\n",
    "* min_word_count will be changed to the value of 3 so that the vocabulary will contain all the words which occur at least 3 times in the entire dataset.\n",
    "* max_seq_len is going to be changed to the values of 0.9, which corresponds to the 0.9 quantile of the distribution of the lengths, that will be the maximum lengths threshold.\n",
    "\n",
    "<div>\n",
    "<img src=\"assets/learning_curves_mwc3_msl09.png\" width=\"500\" />\n",
    "</div>"
   ]
  },
  {
   "cell_type": "markdown",
   "metadata": {},
   "source": [
    "#### The summary - final set of hyperparameters\n",
    "\n",
    "Considering all above training trials, we can draw the following conclusions:\n",
    "- increasing the dropout probability helps in reducing the model's overfitting.\n",
    "- spatial dropout works better in terms of decreasing the variance problem than the traditional dropout.\n",
    "- the most improvement in reducing overfitting is due to the reduction of hidden_size.\n",
    "- using stacked GRU doesn't improve in our case the model's performance.\n",
    "- reducing the batch_size doesn't significantly affect the model's learning ability what is rather unexpected while increasing the batch_size does improve a bit the model's performance.\n",
    "\n",
    "The following are the hyperparameters that will be used to finaly train our neural network:\n",
    "- hidden_size = 8 <br>\n",
    "- embedding_dim = 200 <br>\n",
    "- n_layers = 1 <br>\n",
    "- dropout = 0.5 <br>\n",
    "- learning_rate = 0.001 <br>\n",
    "- epochs = 20 <br>\n",
    "- spatial_dropout = True <br>\n",
    "- batch_size = 256 <br>\n",
    "- min_word_count = 3 <br>\n",
    "- max_seq_len = 0.9 <br>"
   ]
  },
  {
   "cell_type": "markdown",
   "metadata": {},
   "source": [
    "Below we will use the *tensorboardX* to create the graph of our neural network model that has been depicted at the top of this notebook. You can encounter torch._C.Value issue while using *add.graph()* method, to tackle that I recommend following the *github* thread devoted to this topic:\n",
    "<br>https://github.com/lanpa/tensorboardX/issues/483<br>\n",
    "namely, you can try to build tensorboardX from source with:\n",
    "<br>*git clone https://github.com/lanpa/tensorboardX && cd tensorboardX && python setup.py install*"
   ]
  },
  {
   "cell_type": "code",
   "execution_count": 13,
   "metadata": {},
   "outputs": [
    {
     "name": "stdout",
     "output_type": "stream",
     "text": [
      "graph(%self : ClassType<BiGRU>,\n",
      "      %input_seq : Long(16, 44),\n",
      "      %lengths.1 : Long(16)):\n",
      "  %1 : ClassType<Embedding> = prim::GetAttr[name=\"embedding\"](%self)\n",
      "  %weight.1 : Tensor = prim::GetAttr[name=\"weight\"](%1)\n",
      "  %5 : ClassType<GRU> = prim::GetAttr[name=\"gru\"](%self)\n",
      "  %6 : Tensor = prim::GetAttr[name=\"weight_ih_l0\"](%5)\n",
      "  %7 : Tensor = prim::GetAttr[name=\"weight_hh_l0\"](%5)\n",
      "  %8 : Tensor = prim::GetAttr[name=\"bias_ih_l0\"](%5)\n",
      "  %9 : Tensor = prim::GetAttr[name=\"bias_hh_l0\"](%5)\n",
      "  %10 : Tensor = prim::GetAttr[name=\"weight_ih_l0_reverse\"](%5)\n",
      "  %11 : Tensor = prim::GetAttr[name=\"weight_hh_l0_reverse\"](%5)\n",
      "  %12 : Tensor = prim::GetAttr[name=\"bias_ih_l0_reverse\"](%5)\n",
      "  %13 : Tensor = prim::GetAttr[name=\"bias_hh_l0_reverse\"](%5)\n",
      "  %14 : Tensor = prim::GetAttr[name=\"weight_ih_l1\"](%5)\n",
      "  %15 : Tensor = prim::GetAttr[name=\"weight_hh_l1\"](%5)\n",
      "  %16 : Tensor = prim::GetAttr[name=\"bias_ih_l1\"](%5)\n",
      "  %17 : Tensor = prim::GetAttr[name=\"bias_hh_l1\"](%5)\n",
      "  %18 : Tensor = prim::GetAttr[name=\"weight_ih_l1_reverse\"](%5)\n",
      "  %19 : Tensor = prim::GetAttr[name=\"weight_hh_l1_reverse\"](%5)\n",
      "  %20 : Tensor = prim::GetAttr[name=\"bias_ih_l1_reverse\"](%5)\n",
      "  %21 : Tensor = prim::GetAttr[name=\"bias_hh_l1_reverse\"](%5)\n",
      "  %22 : ClassType<Linear> = prim::GetAttr[name=\"linear\"](%self)\n",
      "  %weight : Tensor = prim::GetAttr[name=\"weight\"](%22)\n",
      "  %bias : Tensor = prim::GetAttr[name=\"bias\"](%22)\n",
      "  %27 : int = prim::Constant[value=0](), scope: BiGRU # <ipython-input-9-9eacdc0fb8a8>:74:0\n",
      "  %28 : int = aten::size(%input_seq, %27), scope: BiGRU # <ipython-input-9-9eacdc0fb8a8>:74:0\n",
      "  %29 : Long() = prim::NumToTensor(%28), scope: BiGRU\n",
      "  %161 : int = aten::Int(%29), scope: BiGRU\n",
      "  %98 : int = aten::Int(%29), scope: BiGRU\n",
      "  %30 : int = prim::Constant[value=-1](), scope: BiGRU/Embedding[embedding] # /root/anaconda3/lib/python3.7/site-packages/torch/nn/functional.py:1467:0\n",
      "  %31 : bool = prim::Constant[value=0](), scope: BiGRU/Embedding[embedding] # /root/anaconda3/lib/python3.7/site-packages/torch/nn/functional.py:1467:0\n",
      "  %32 : bool = prim::Constant[value=0](), scope: BiGRU/Embedding[embedding] # /root/anaconda3/lib/python3.7/site-packages/torch/nn/functional.py:1467:0\n",
      "  %emb_out.1 : Float(16, 44, 200) = aten::embedding(%weight.1, %input_seq, %30, %31, %32), scope: BiGRU/Embedding[embedding] # /root/anaconda3/lib/python3.7/site-packages/torch/nn/functional.py:1467:0\n",
      "  %34 : int = prim::Constant[value=0](), scope: BiGRU # <ipython-input-9-9eacdc0fb8a8>:83:0\n",
      "  %35 : int = prim::Constant[value=2](), scope: BiGRU # <ipython-input-9-9eacdc0fb8a8>:83:0\n",
      "  %36 : int = prim::Constant[value=1](), scope: BiGRU # <ipython-input-9-9eacdc0fb8a8>:83:0\n",
      "  %37 : int[] = prim::ListConstruct(%34, %35, %36), scope: BiGRU\n",
      "  %input.1 : Float(16!, 200!, 44!) = aten::permute(%emb_out.1, %37), scope: BiGRU # <ipython-input-9-9eacdc0fb8a8>:83:0\n",
      "  %39 : float = prim::Constant[value=0.5](), scope: BiGRU/Dropout2d[spatial_dropout1d] # /root/anaconda3/lib/python3.7/site-packages/torch/nn/functional.py:844:0\n",
      "  %40 : bool = prim::Constant[value=0](), scope: BiGRU/Dropout2d[spatial_dropout1d] # /root/anaconda3/lib/python3.7/site-packages/torch/nn/functional.py:844:0\n",
      "  %emb_out : Float(16!, 200!, 44!) = aten::feature_dropout(%input.1, %39, %40), scope: BiGRU/Dropout2d[spatial_dropout1d] # /root/anaconda3/lib/python3.7/site-packages/torch/nn/functional.py:844:0\n",
      "  %42 : int = prim::Constant[value=0](), scope: BiGRU # <ipython-input-9-9eacdc0fb8a8>:86:0\n",
      "  %43 : int = prim::Constant[value=2](), scope: BiGRU # <ipython-input-9-9eacdc0fb8a8>:86:0\n",
      "  %44 : int = prim::Constant[value=1](), scope: BiGRU # <ipython-input-9-9eacdc0fb8a8>:86:0\n",
      "  %45 : int[] = prim::ListConstruct(%42, %43, %44), scope: BiGRU\n",
      "  %input.2 : Float(16, 44, 200) = aten::permute(%emb_out, %45), scope: BiGRU # <ipython-input-9-9eacdc0fb8a8>:86:0\n",
      "  %47 : Device = prim::Constant[value=\"cpu\"](), scope: BiGRU # /root/anaconda3/lib/python3.7/site-packages/torch/nn/utils/rnn.py:265:0\n",
      "  %48 : int = prim::Constant[value=4](), scope: BiGRU # /root/anaconda3/lib/python3.7/site-packages/torch/nn/utils/rnn.py:265:0\n",
      "  %49 : bool = prim::Constant[value=0](), scope: BiGRU # /root/anaconda3/lib/python3.7/site-packages/torch/nn/utils/rnn.py:265:0\n",
      "  %50 : bool = prim::Constant[value=0](), scope: BiGRU # /root/anaconda3/lib/python3.7/site-packages/torch/nn/utils/rnn.py:265:0\n",
      "  %lengths.2 : Long(16) = aten::to(%lengths.1, %47, %48, %49, %50), scope: BiGRU # /root/anaconda3/lib/python3.7/site-packages/torch/nn/utils/rnn.py:265:0\n",
      "  %52 : bool = prim::Constant[value=1](), scope: BiGRU # /root/anaconda3/lib/python3.7/site-packages/torch/nn/utils/rnn.py:275:0\n",
      "  %input.3 : Float(704, 200), %batch_sizes : Long(44) = aten::_pack_padded_sequence(%input.2, %lengths.2, %52), scope: BiGRU # /root/anaconda3/lib/python3.7/site-packages/torch/nn/utils/rnn.py:275:0\n",
      "  %58 : int = prim::Constant[value=4](), scope: BiGRU/GRU[gru] # /root/anaconda3/lib/python3.7/site-packages/torch/nn/modules/rnn.py:691:0\n",
      "  %59 : int = prim::Constant[value=16](), scope: BiGRU/GRU[gru] # /root/anaconda3/lib/python3.7/site-packages/torch/nn/modules/rnn.py:691:0\n",
      "  %60 : int = prim::Constant[value=4](), scope: BiGRU/GRU[gru] # /root/anaconda3/lib/python3.7/site-packages/torch/nn/modules/rnn.py:691:0\n",
      "  %61 : int[] = prim::ListConstruct(%58, %59, %60), scope: BiGRU/GRU[gru]\n",
      "  %62 : int = prim::Constant[value=6](), scope: BiGRU/GRU[gru] # /root/anaconda3/lib/python3.7/site-packages/torch/nn/modules/rnn.py:691:0\n",
      "  %63 : int = prim::Constant[value=0](), scope: BiGRU/GRU[gru] # /root/anaconda3/lib/python3.7/site-packages/torch/nn/modules/rnn.py:691:0\n",
      "  %64 : Device = prim::Constant[value=\"cpu\"](), scope: BiGRU/GRU[gru] # /root/anaconda3/lib/python3.7/site-packages/torch/nn/modules/rnn.py:691:0\n",
      "  %65 : bool = prim::Constant[value=0](), scope: BiGRU/GRU[gru] # /root/anaconda3/lib/python3.7/site-packages/torch/nn/modules/rnn.py:691:0\n",
      "  %hx : Float(4, 16, 4) = aten::zeros(%61, %62, %63, %64, %65), scope: BiGRU/GRU[gru] # /root/anaconda3/lib/python3.7/site-packages/torch/nn/modules/rnn.py:691:0\n",
      "  %90 : Tensor[] = prim::ListConstruct(%6, %7, %8, %9, %10, %11, %12, %13, %14, %15, %16, %17, %18, %19, %20, %21), scope: BiGRU/GRU[gru]\n",
      "  %91 : bool = prim::Constant[value=1](), scope: BiGRU/GRU[gru] # /root/anaconda3/lib/python3.7/site-packages/torch/nn/modules/rnn.py:682:0\n",
      "  %92 : int = prim::Constant[value=2](), scope: BiGRU/GRU[gru] # /root/anaconda3/lib/python3.7/site-packages/torch/nn/modules/rnn.py:682:0\n",
      "  %93 : float = prim::Constant[value=0.5](), scope: BiGRU/GRU[gru] # /root/anaconda3/lib/python3.7/site-packages/torch/nn/modules/rnn.py:682:0\n",
      "  %94 : bool = prim::Constant[value=0](), scope: BiGRU/GRU[gru] # /root/anaconda3/lib/python3.7/site-packages/torch/nn/modules/rnn.py:682:0\n",
      "  %95 : bool = prim::Constant[value=1](), scope: BiGRU/GRU[gru] # /root/anaconda3/lib/python3.7/site-packages/torch/nn/modules/rnn.py:682:0\n",
      "  %96 : Float(704, 8), %hidden.1 : Float(4, 16, 4) = aten::gru(%input.3, %batch_sizes, %hx, %90, %91, %92, %93, %94, %95), scope: BiGRU/GRU[gru] # /root/anaconda3/lib/python3.7/site-packages/torch/nn/modules/rnn.py:682:0\n",
      "  %99 : int = prim::Constant[value=2](), scope: BiGRU # <ipython-input-9-9eacdc0fb8a8>:108:0\n",
      "  %100 : int = prim::Constant[value=2](), scope: BiGRU # <ipython-input-9-9eacdc0fb8a8>:108:0\n",
      "  %101 : int = prim::Constant[value=4](), scope: BiGRU # <ipython-input-9-9eacdc0fb8a8>:108:0\n",
      "  %102 : int[] = prim::ListConstruct(%99, %100, %98, %101), scope: BiGRU\n",
      "  %hidden : Float(2, 2, 16, 4) = aten::view(%hidden.1, %102), scope: BiGRU # <ipython-input-9-9eacdc0fb8a8>:108:0\n",
      "  %104 : int = prim::Constant[value=0](), scope: BiGRU # <ipython-input-9-9eacdc0fb8a8>:109:0\n",
      "  %105 : int = prim::Constant[value=-1](), scope: BiGRU # <ipython-input-9-9eacdc0fb8a8>:109:0\n",
      "  %last_hidden.1 : Float(2, 16, 4) = aten::select(%hidden, %104, %105), scope: BiGRU # <ipython-input-9-9eacdc0fb8a8>:109:0\n",
      "  %107 : int = prim::Constant[value=0](), scope: BiGRU # <ipython-input-9-9eacdc0fb8a8>:112:0\n",
      "  %108 : int[] = prim::ListConstruct(%107), scope: BiGRU\n",
      "  %109 : bool = prim::Constant[value=0](), scope: BiGRU # <ipython-input-9-9eacdc0fb8a8>:112:0\n",
      "  %110 : int? = prim::Constant(), scope: BiGRU\n",
      "  %last_hidden : Float(16, 4) = aten::sum(%last_hidden.1, %108, %109, %110), scope: BiGRU # <ipython-input-9-9eacdc0fb8a8>:112:0\n",
      "  %112 : int = prim::Constant[value=0](), scope: BiGRU # /root/anaconda3/lib/python3.7/site-packages/torch/nn/utils/rnn.py:313:0\n",
      "  %113 : int = aten::size(%batch_sizes, %112), scope: BiGRU # /root/anaconda3/lib/python3.7/site-packages/torch/nn/utils/rnn.py:313:0\n",
      "  %max_seq_length : Long() = prim::NumToTensor(%113), scope: BiGRU\n",
      "  %115 : int = aten::Int(%max_seq_length), scope: BiGRU\n",
      "  %116 : bool = prim::Constant[value=1](), scope: BiGRU # /root/anaconda3/lib/python3.7/site-packages/torch/nn/utils/rnn.py:322:0\n",
      "  %117 : float = prim::Constant[value=0](), scope: BiGRU # /root/anaconda3/lib/python3.7/site-packages/torch/nn/utils/rnn.py:322:0\n",
      "  %gru_out.1 : Float(16!, 44!, 8), %lengths : Long(16) = aten::_pad_packed_sequence(%96, %batch_sizes, %116, %117, %115), scope: BiGRU # /root/anaconda3/lib/python3.7/site-packages/torch/nn/utils/rnn.py:322:0\n",
      "  %120 : int = prim::Constant[value=0](), scope: BiGRU # <ipython-input-9-9eacdc0fb8a8>:121:0\n",
      "  %121 : int = prim::Constant[value=0](), scope: BiGRU # <ipython-input-9-9eacdc0fb8a8>:121:0\n",
      "  %122 : int = prim::Constant[value=9223372036854775807](), scope: BiGRU # <ipython-input-9-9eacdc0fb8a8>:121:0\n",
      "  %123 : int = prim::Constant[value=1](), scope: BiGRU # <ipython-input-9-9eacdc0fb8a8>:121:0\n",
      "  %124 : Float(16!, 44!, 8) = aten::slice(%gru_out.1, %120, %121, %122, %123), scope: BiGRU # <ipython-input-9-9eacdc0fb8a8>:121:0\n",
      "  %125 : int = prim::Constant[value=1](), scope: BiGRU # <ipython-input-9-9eacdc0fb8a8>:121:0\n",
      "  %126 : int = prim::Constant[value=0](), scope: BiGRU # <ipython-input-9-9eacdc0fb8a8>:121:0\n",
      "  %127 : int = prim::Constant[value=9223372036854775807](), scope: BiGRU # <ipython-input-9-9eacdc0fb8a8>:121:0\n",
      "  %128 : int = prim::Constant[value=1](), scope: BiGRU # <ipython-input-9-9eacdc0fb8a8>:121:0\n",
      "  %129 : Float(16!, 44!, 8) = aten::slice(%124, %125, %126, %127, %128), scope: BiGRU # <ipython-input-9-9eacdc0fb8a8>:121:0\n",
      "  %130 : int = prim::Constant[value=2](), scope: BiGRU # <ipython-input-9-9eacdc0fb8a8>:121:0\n",
      "  %131 : int = prim::Constant[value=0](), scope: BiGRU # <ipython-input-9-9eacdc0fb8a8>:121:0\n",
      "  %132 : int = prim::Constant[value=4](), scope: BiGRU # <ipython-input-9-9eacdc0fb8a8>:121:0\n",
      "  %133 : int = prim::Constant[value=1](), scope: BiGRU # <ipython-input-9-9eacdc0fb8a8>:121:0\n",
      "  %134 : Float(16!, 44!, 4) = aten::slice(%129, %130, %131, %132, %133), scope: BiGRU # <ipython-input-9-9eacdc0fb8a8>:121:0\n",
      "  %135 : int = prim::Constant[value=0](), scope: BiGRU # <ipython-input-9-9eacdc0fb8a8>:121:0\n",
      "  %136 : int = prim::Constant[value=0](), scope: BiGRU # <ipython-input-9-9eacdc0fb8a8>:121:0\n",
      "  %137 : int = prim::Constant[value=9223372036854775807](), scope: BiGRU # <ipython-input-9-9eacdc0fb8a8>:121:0\n",
      "  %138 : int = prim::Constant[value=1](), scope: BiGRU # <ipython-input-9-9eacdc0fb8a8>:121:0\n",
      "  %139 : Float(16!, 44!, 8) = aten::slice(%gru_out.1, %135, %136, %137, %138), scope: BiGRU # <ipython-input-9-9eacdc0fb8a8>:121:0\n",
      "  %140 : int = prim::Constant[value=1](), scope: BiGRU # <ipython-input-9-9eacdc0fb8a8>:121:0\n",
      "  %141 : int = prim::Constant[value=0](), scope: BiGRU # <ipython-input-9-9eacdc0fb8a8>:121:0\n",
      "  %142 : int = prim::Constant[value=9223372036854775807](), scope: BiGRU # <ipython-input-9-9eacdc0fb8a8>:121:0\n",
      "  %143 : int = prim::Constant[value=1](), scope: BiGRU # <ipython-input-9-9eacdc0fb8a8>:121:0\n",
      "  %144 : Float(16!, 44!, 8) = aten::slice(%139, %140, %141, %142, %143), scope: BiGRU # <ipython-input-9-9eacdc0fb8a8>:121:0\n",
      "  %145 : int = prim::Constant[value=2](), scope: BiGRU # <ipython-input-9-9eacdc0fb8a8>:121:0\n",
      "  %146 : int = prim::Constant[value=4](), scope: BiGRU # <ipython-input-9-9eacdc0fb8a8>:121:0\n",
      "  %147 : int = prim::Constant[value=9223372036854775807](), scope: BiGRU # <ipython-input-9-9eacdc0fb8a8>:121:0\n",
      "  %148 : int = prim::Constant[value=1](), scope: BiGRU # <ipython-input-9-9eacdc0fb8a8>:121:0\n",
      "  %149 : Float(16!, 44!, 4) = aten::slice(%144, %145, %146, %147, %148), scope: BiGRU # <ipython-input-9-9eacdc0fb8a8>:121:0\n",
      "  %150 : int = prim::Constant[value=1](), scope: BiGRU # <ipython-input-9-9eacdc0fb8a8>:121:0\n",
      "  %gru_out : Float(16!, 44!, 4) = aten::add(%134, %149, %150), scope: BiGRU # <ipython-input-9-9eacdc0fb8a8>:121:0\n",
      "  %152 : int = prim::Constant[value=0](), scope: BiGRU # <ipython-input-9-9eacdc0fb8a8>:126:0\n",
      "  %153 : int = prim::Constant[value=2](), scope: BiGRU # <ipython-input-9-9eacdc0fb8a8>:126:0\n",
      "  %154 : int = prim::Constant[value=1](), scope: BiGRU # <ipython-input-9-9eacdc0fb8a8>:126:0\n",
      "  %155 : int[] = prim::ListConstruct(%152, %153, %154), scope: BiGRU\n",
      "  %input.4 : Float(16, 4!, 44!) = aten::permute(%gru_out, %155), scope: BiGRU # <ipython-input-9-9eacdc0fb8a8>:126:0\n",
      "  %157 : int = prim::Constant[value=1](), scope: BiGRU # /root/anaconda3/lib/python3.7/site-packages/torch/nn/functional.py:664:0\n",
      "  %158 : int[] = prim::ListConstruct(%157), scope: BiGRU\n",
      "  %159 : Float(16, 4, 1), %160 : Long(16, 4, 1) = aten::adaptive_max_pool1d(%input.4, %158), scope: BiGRU # /root/anaconda3/lib/python3.7/site-packages/torch/nn/functional.py:664:0\n",
      "  %162 : int = prim::Constant[value=-1](), scope: BiGRU # <ipython-input-9-9eacdc0fb8a8>:126:0\n",
      "  %163 : int[] = prim::ListConstruct(%161, %162), scope: BiGRU\n",
      "  %max_pool : Float(16, 4) = aten::view(%159, %163), scope: BiGRU # <ipython-input-9-9eacdc0fb8a8>:126:0\n",
      "  %165 : int = prim::Constant[value=1](), scope: BiGRU # <ipython-input-9-9eacdc0fb8a8>:131:0\n",
      "  %166 : int[] = prim::ListConstruct(%165), scope: BiGRU\n",
      "  %167 : bool = prim::Constant[value=0](), scope: BiGRU # <ipython-input-9-9eacdc0fb8a8>:131:0\n",
      "  %168 : int? = prim::Constant(), scope: BiGRU\n",
      "  %169 : Float(16, 4) = aten::sum(%gru_out, %166, %167, %168), scope: BiGRU # <ipython-input-9-9eacdc0fb8a8>:131:0\n",
      "  %170 : int = prim::Constant[value=-1](), scope: BiGRU # <ipython-input-9-9eacdc0fb8a8>:131:0\n",
      "  %171 : int = prim::Constant[value=1](), scope: BiGRU # <ipython-input-9-9eacdc0fb8a8>:131:0\n",
      "  %172 : int[] = prim::ListConstruct(%170, %171), scope: BiGRU\n",
      "  %173 : Long(16, 1) = aten::view(%lengths, %172), scope: BiGRU # <ipython-input-9-9eacdc0fb8a8>:131:0\n",
      "  %174 : Device = prim::Constant[value=\"cpu\"](), scope: BiGRU # <ipython-input-9-9eacdc0fb8a8>:131:0\n",
      "  %175 : int = prim::Constant[value=6](), scope: BiGRU # <ipython-input-9-9eacdc0fb8a8>:131:0\n",
      "  %176 : bool = prim::Constant[value=0](), scope: BiGRU # <ipython-input-9-9eacdc0fb8a8>:131:0\n",
      "  %177 : bool = prim::Constant[value=0](), scope: BiGRU # <ipython-input-9-9eacdc0fb8a8>:131:0\n",
      "  %178 : Float(16, 1) = aten::to(%173, %174, %175, %176, %177), scope: BiGRU # <ipython-input-9-9eacdc0fb8a8>:131:0\n",
      "  %avg_pool : Float(16, 4) = aten::div(%169, %178), scope: BiGRU # <ipython-input-9-9eacdc0fb8a8>:131:0\n",
      "  %180 : Tensor[] = prim::ListConstruct(%last_hidden, %max_pool, %avg_pool), scope: BiGRU\n",
      "  %181 : int = prim::Constant[value=1](), scope: BiGRU # <ipython-input-9-9eacdc0fb8a8>:134:0\n",
      "  %input.5 : Float(16, 12) = aten::cat(%180, %181), scope: BiGRU # <ipython-input-9-9eacdc0fb8a8>:134:0\n",
      "  %183 : Float(12!, 2!) = aten::t(%weight), scope: BiGRU/Linear[linear] # /root/anaconda3/lib/python3.7/site-packages/torch/nn/functional.py:1369:0\n",
      "  %184 : int = prim::Constant[value=1](), scope: BiGRU/Linear[linear] # /root/anaconda3/lib/python3.7/site-packages/torch/nn/functional.py:1369:0\n",
      "  %185 : int = prim::Constant[value=1](), scope: BiGRU/Linear[linear] # /root/anaconda3/lib/python3.7/site-packages/torch/nn/functional.py:1369:0\n",
      "  %input : Float(16, 2) = aten::addmm(%bias, %input.5, %183, %184, %185), scope: BiGRU/Linear[linear] # /root/anaconda3/lib/python3.7/site-packages/torch/nn/functional.py:1369:0\n",
      "  %187 : int = prim::Constant[value=-1](), scope: BiGRU # /root/anaconda3/lib/python3.7/site-packages/torch/nn/functional.py:1316:0\n",
      "  %188 : int? = prim::Constant(), scope: BiGRU\n",
      "  %189 : Float(16, 2) = aten::log_softmax(%input, %187, %188), scope: BiGRU # /root/anaconda3/lib/python3.7/site-packages/torch/nn/functional.py:1316:0\n",
      "  return (%189)\n",
      "\n"
     ]
    }
   ],
   "source": [
    "hidden_size = 4\n",
    "vocab_size = len(train_iterator.word2index)\n",
    "embedding_dim = 200\n",
    "n_layers = 2\n",
    "output_size = 2\n",
    "spatial_dropout = True\n",
    "dropout = 0.5\n",
    "\n",
    "writer = SummaryWriter('runs/exp-1')\n",
    "\n",
    "for batch in train_iterator:\n",
    "    input_seq, _, x_lengths = batch['input_seq'], batch['target'], batch['x_lengths']\n",
    "\n",
    "with SummaryWriter(comment='Model graph') as w:\n",
    "    w.add_graph(BiGRU(hidden_size, vocab_size, embedding_dim, output_size, n_layers, dropout,\n",
    "                      spatial_dropout, bidirectional=True), (input_seq, x_lengths), True)"
   ]
  },
  {
   "cell_type": "markdown",
   "metadata": {},
   "source": [
    "### The generalization error"
   ]
  },
  {
   "cell_type": "code",
   "execution_count": 14,
   "metadata": {},
   "outputs": [],
   "source": [
    "# Import the dataset. Use clean_review and label columns\n",
    "test_dataset = pd.read_csv('dataset/datasets_feat_clean/test_feat_clean.csv',\n",
    "                          usecols=['clean_review', 'label'])\n",
    "\n",
    "# Change columns order\n",
    "test_dataset = test_dataset[['clean_review', 'label']]"
   ]
  },
  {
   "cell_type": "code",
   "execution_count": 15,
   "metadata": {},
   "outputs": [
    {
     "data": {
      "text/html": [
       "<div>\n",
       "<style scoped>\n",
       "    .dataframe tbody tr th:only-of-type {\n",
       "        vertical-align: middle;\n",
       "    }\n",
       "\n",
       "    .dataframe tbody tr th {\n",
       "        vertical-align: top;\n",
       "    }\n",
       "\n",
       "    .dataframe thead th {\n",
       "        text-align: right;\n",
       "    }\n",
       "</style>\n",
       "<table border=\"1\" class=\"dataframe\">\n",
       "  <thead>\n",
       "    <tr style=\"text-align: right;\">\n",
       "      <th></th>\n",
       "      <th>clean_review</th>\n",
       "      <th>label</th>\n",
       "    </tr>\n",
       "  </thead>\n",
       "  <tbody>\n",
       "    <tr>\n",
       "      <td>0</td>\n",
       "      <td>hear film till pop cable tv understand geena o...</td>\n",
       "      <td>1</td>\n",
       "    </tr>\n",
       "    <tr>\n",
       "      <td>1</td>\n",
       "      <td>know film show local tv kid remember watch see...</td>\n",
       "      <td>0</td>\n",
       "    </tr>\n",
       "    <tr>\n",
       "      <td>2</td>\n",
       "      <td>admire kiss mouth frankness  pubic hair cut m...</td>\n",
       "      <td>0</td>\n",
       "    </tr>\n",
       "    <tr>\n",
       "      <td>3</td>\n",
       "      <td>see cure kid love year late get hold copy acci...</td>\n",
       "      <td>1</td>\n",
       "    </tr>\n",
       "    <tr>\n",
       "      <td>4</td>\n",
       "      <td>movie true fact see documentary day early movi...</td>\n",
       "      <td>0</td>\n",
       "    </tr>\n",
       "  </tbody>\n",
       "</table>\n",
       "</div>"
      ],
      "text/plain": [
       "                                        clean_review  label\n",
       "0  hear film till pop cable tv understand geena o...      1\n",
       "1  know film show local tv kid remember watch see...      0\n",
       "2  admire kiss mouth frankness  pubic hair cut m...      0\n",
       "3  see cure kid love year late get hold copy acci...      1\n",
       "4  movie true fact see documentary day early movi...      0"
      ]
     },
     "execution_count": 15,
     "metadata": {},
     "output_type": "execute_result"
    }
   ],
   "source": [
    "test_dataset.head()"
   ]
  },
  {
   "cell_type": "code",
   "execution_count": 17,
   "metadata": {},
   "outputs": [
    {
     "name": "stdout",
     "output_type": "stream",
     "text": [
      "Trimmed vocabulary using as minimum count threashold: count = 3.00\n",
      "13480/39104 tokens has been retained\n",
      "Trimmed input strings vocabulary\n",
      "Trimmed input sequences lengths to the length of: 187\n",
      "Mapped words to indices\n",
      "Batches created\n"
     ]
    }
   ],
   "source": [
    "test_iterator = BatchIterator(test_dataset, batch_size=256, vocab_created=False, vocab=None, target_col=None,\n",
    "                              word2index=train_iterator.word2index, sos_token='<SOS>', eos_token='<EOS>',\n",
    "                              unk_token='<UNK>', pad_token='<PAD>', min_word_count=3, max_vocab_size=None,\n",
    "                              max_seq_len=0.9, use_pretrained_vectors=False, glove_path='glove/',\n",
    "                              glove_name='glove.6B.100d.txt', weights_file_name='glove/weights.npy')"
   ]
  },
  {
   "cell_type": "code",
   "execution_count": 18,
   "metadata": {},
   "outputs": [
    {
     "data": {
      "application/vnd.jupyter.widget-view+json": {
       "model_id": "94b48c5d5a5c469da549f7c83cdb5172",
       "version_major": 2,
       "version_minor": 0
      },
      "text/plain": [
       "HBox(children=(IntProgress(value=0, description='Evaluation', max=20, style=ProgressStyle(description_width='i…"
      ]
     },
     "metadata": {},
     "output_type": "display_data"
    },
    {
     "name": "stdout",
     "output_type": "stream",
     "text": [
      "\n"
     ]
    }
   ],
   "source": [
    "_, test_avg_loss, test_accuracy, test_conf_matrix = model.evaluate_model(test_iterator)"
   ]
  },
  {
   "cell_type": "code",
   "execution_count": 19,
   "metadata": {},
   "outputs": [
    {
     "name": "stdout",
     "output_type": "stream",
     "text": [
      "Test accuracy: 0.880. Test error: 0.331\n"
     ]
    }
   ],
   "source": [
    "print('Test accuracy: {:.3f}. Test error: {:.3f}'.format(test_accuracy, test_avg_loss))"
   ]
  },
  {
   "cell_type": "code",
   "execution_count": 6,
   "metadata": {},
   "outputs": [
    {
     "data": {
      "image/png": "[encoded data removed]",
      "text/plain": [
       "<Figure size 432x432 with 2 Axes>"
      ]
     },
     "metadata": {
      "needs_background": "light"
     },
     "output_type": "display_data"
    }
   ],
   "source": [
    "# Confusion matrix\n",
    "plt.figure(figsize=(6,6))\n",
    "ax = sns.heatmap(test_conf_matrix, fmt='d', annot=True, linewidths=1, square=True)\n",
    "ax.set_xlabel('Predictions', size=12)\n",
    "ax.set_ylabel('True labels', size=12) \n",
    "ax.set_title('Confusion Matrix', size=12); \n",
    "ax.xaxis.set_ticklabels(['True', 'False'])\n",
    "ax.yaxis.set_ticklabels(['True', 'False'])\n",
    "ax.set_ylim(2,0)\n",
    "plt.show()"
   ]
  },
  {
   "cell_type": "markdown",
   "metadata": {},
   "source": [
    "The generalization accuracy of the biGRU model equals 0.880. As we can see on the above plot of the confusion matrix the both, positive and negative classes were similarly numerous, and the prediction mistakes amount (TN, FP) is also very similar, so model learned both classes in the same detail. "
   ]
  }
 ],
 "metadata": {
  "kernelspec": {
   "display_name": "Python 3",
   "language": "python",
   "name": "python3"
  },
  "language_info": {
   "codemirror_mode": {
    "name": "ipython",
    "version": 3
   },
   "file_extension": ".py",
   "mimetype": "text/x-python",
   "name": "python",
   "nbconvert_exporter": "python",
   "pygments_lexer": "ipython3",
   "version": "3.7.3"
  }
 },
 "nbformat": 4,
 "nbformat_minor": 2
}
