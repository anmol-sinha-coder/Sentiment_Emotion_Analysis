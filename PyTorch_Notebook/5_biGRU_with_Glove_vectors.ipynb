{
 "cells": [
  {
   "cell_type": "markdown",
   "metadata": {},
   "source": [
    "# Build a biGRU neural network model with Glove vectors\n",
    "\n",
    "In this notebook, we are going to build a bidirectional Gated Recurrent Unit neural network model, which will use pre-trained Glove word embeddings instead of training the word representations from scratch.\n",
    "\n",
    "Glove vectors can be downloaded from the following page: https://nlp.stanford.edu/projects/glove/ \n",
    "\n",
    "We will use the *glove.6B.100d* Glove vectors that have been trained on 6 billion tokens from *Wikipedia 2014* and *Gigaword 5* sets. Each embedding has the dimensionality of 100.\n",
    "\n",
    "In the end, the model will be evaluated on the test set to determine the generalization error.\n"
   ]
  },
  {
   "attachments": {},
   "cell_type": "markdown",
   "metadata": {},
   "source": [
    "### Model's architecture\n",
    "<br>\n",
    "<div>\n",
    "<img src=\"assets/BiGRU_glove_schema.png\" width=\"900\" />\n",
    "</div>"
   ]
  },
  {
   "cell_type": "markdown",
   "metadata": {},
   "source": [
    "The weight matrix will be created by *BatchIterator* class based on the Glove word vectors we want to use and vocabulary *word2index* dictionary. For each *word, index* pair from *word2index*, the weight matrix at the position equals *index* will be set with the Glove vector that represents given *word*. For words that haven't been found in the Glove mapping, the random vector will be initialized. Then the weight matrix will be passed to the embedding layer as its parameters. It is very important to set the *embedding_layer.weight.requires_grad = False* so that weights will be not updated during the training. We will also use additional features as in the previous model. After the GRU layer, extra features will be concatenated together with max-pooled, avg-pooled and last hidden size. The concatenated tensor will be next passed to the linear layer, so we have to set the input size to hidden_size * 3 + num_features."
   ]
  },
  {
   "cell_type": "markdown",
   "metadata": {},
   "source": [
    "### Building and training the model\n",
    "\n",
    "Let's start with importing all indispensable libraries."
   ]
  },
  {
   "cell_type": "code",
   "execution_count": 36,
   "metadata": {},
   "outputs": [],
   "source": [
    "from batch_iterator import BatchIterator\n",
    "from early_stopping import EarlyStopping\n",
    "import pandas as pd\n",
    "import torch\n",
    "import torch.nn as nn\n",
    "import torch.nn.functional as F\n",
    "from torch import device\n",
    "from tqdm import tqdm_notebook\n",
    "import numpy as np\n",
    "import matplotlib.pyplot as plt\n",
    "import seaborn as sns\n",
    "from sklearn.metrics import confusion_matrix\n",
    "from sklearn.preprocessing import StandardScaler"
   ]
  },
  {
   "cell_type": "markdown",
   "metadata": {},
   "source": [
    "Now, we are going to load the tarining and validation sets. We will import sets with all columns except the review column."
   ]
  },
  {
   "cell_type": "code",
   "execution_count": 2,
   "metadata": {},
   "outputs": [],
   "source": [
    "# Import the dataset. \n",
    "train_dataset = pd.read_csv('dataset/datasets_feat_clean/train_feat_clean.csv', \n",
    "                            usecols=['clean_review', 'polarity', 'subjectivity', 'word_count', 'UPPERCASE', 'DIGITS',\n",
    "                                      'PROPN', 'VERB', 'NOUN', 'PUNCT', 'ADJ', 'label'])\n",
    "\n",
    "# Change columns order\n",
    "train_dataset = train_dataset[['clean_review', 'polarity', 'subjectivity', 'word_count', 'UPPERCASE', 'DIGITS',\n",
    "                               'PROPN', 'VERB', 'NOUN', 'PUNCT', 'ADJ', 'label']]"
   ]
  },
  {
   "cell_type": "code",
   "execution_count": 3,
   "metadata": {},
   "outputs": [
    {
     "data": {
      "text/html": [
       "<div>\n",
       "<style scoped>\n",
       "    .dataframe tbody tr th:only-of-type {\n",
       "        vertical-align: middle;\n",
       "    }\n",
       "\n",
       "    .dataframe tbody tr th {\n",
       "        vertical-align: top;\n",
       "    }\n",
       "\n",
       "    .dataframe thead th {\n",
       "        text-align: right;\n",
       "    }\n",
       "</style>\n",
       "<table border=\"1\" class=\"dataframe\">\n",
       "  <thead>\n",
       "    <tr style=\"text-align: right;\">\n",
       "      <th></th>\n",
       "      <th>clean_review</th>\n",
       "      <th>polarity</th>\n",
       "      <th>subjectivity</th>\n",
       "      <th>word_count</th>\n",
       "      <th>UPPERCASE</th>\n",
       "      <th>DIGITS</th>\n",
       "      <th>PROPN</th>\n",
       "      <th>VERB</th>\n",
       "      <th>NOUN</th>\n",
       "      <th>PUNCT</th>\n",
       "      <th>ADJ</th>\n",
       "      <th>label</th>\n",
       "    </tr>\n",
       "  </thead>\n",
       "  <tbody>\n",
       "    <tr>\n",
       "      <td>0</td>\n",
       "      <td>amaze good wonderful film early ninety franchi...</td>\n",
       "      <td>0.2482</td>\n",
       "      <td>0.5293</td>\n",
       "      <td>391</td>\n",
       "      <td>0.01279</td>\n",
       "      <td>0.002558</td>\n",
       "      <td>0.10740</td>\n",
       "      <td>0.1791</td>\n",
       "      <td>0.2251</td>\n",
       "      <td>0.1381</td>\n",
       "      <td>0.10740</td>\n",
       "      <td>1</td>\n",
       "    </tr>\n",
       "    <tr>\n",
       "      <td>1</td>\n",
       "      <td>wrong end see tell chick go crazy eat old woma...</td>\n",
       "      <td>0.1763</td>\n",
       "      <td>0.5750</td>\n",
       "      <td>145</td>\n",
       "      <td>0.00000</td>\n",
       "      <td>0.020690</td>\n",
       "      <td>0.00000</td>\n",
       "      <td>0.2137</td>\n",
       "      <td>0.1724</td>\n",
       "      <td>0.0345</td>\n",
       "      <td>0.07587</td>\n",
       "      <td>0</td>\n",
       "    </tr>\n",
       "    <tr>\n",
       "      <td>2</td>\n",
       "      <td>guess emperor clothe see list pbs night hopefu...</td>\n",
       "      <td>0.1145</td>\n",
       "      <td>0.5557</td>\n",
       "      <td>165</td>\n",
       "      <td>0.07880</td>\n",
       "      <td>0.000000</td>\n",
       "      <td>0.13330</td>\n",
       "      <td>0.2303</td>\n",
       "      <td>0.0909</td>\n",
       "      <td>0.2060</td>\n",
       "      <td>0.07275</td>\n",
       "      <td>0</td>\n",
       "    </tr>\n",
       "    <tr>\n",
       "      <td>3</td>\n",
       "      <td>earth well movie funny sweet good plot unique ...</td>\n",
       "      <td>0.3810</td>\n",
       "      <td>0.5720</td>\n",
       "      <td>55</td>\n",
       "      <td>0.01819</td>\n",
       "      <td>0.000000</td>\n",
       "      <td>0.01819</td>\n",
       "      <td>0.1637</td>\n",
       "      <td>0.1637</td>\n",
       "      <td>0.1637</td>\n",
       "      <td>0.14550</td>\n",
       "      <td>1</td>\n",
       "    </tr>\n",
       "    <tr>\n",
       "      <td>4</td>\n",
       "      <td>doe eye high school student kathleen beller fi...</td>\n",
       "      <td>0.2095</td>\n",
       "      <td>0.4666</td>\n",
       "      <td>688</td>\n",
       "      <td>0.01163</td>\n",
       "      <td>0.001453</td>\n",
       "      <td>0.15550</td>\n",
       "      <td>0.2006</td>\n",
       "      <td>0.1831</td>\n",
       "      <td>0.1846</td>\n",
       "      <td>0.05524</td>\n",
       "      <td>1</td>\n",
       "    </tr>\n",
       "  </tbody>\n",
       "</table>\n",
       "</div>"
      ],
      "text/plain": [
       "                                        clean_review  polarity  subjectivity  \\\n",
       "0  amaze good wonderful film early ninety franchi...    0.2482        0.5293   \n",
       "1  wrong end see tell chick go crazy eat old woma...    0.1763        0.5750   \n",
       "2  guess emperor clothe see list pbs night hopefu...    0.1145        0.5557   \n",
       "3  earth well movie funny sweet good plot unique ...    0.3810        0.5720   \n",
       "4  doe eye high school student kathleen beller fi...    0.2095        0.4666   \n",
       "\n",
       "   word_count  UPPERCASE    DIGITS    PROPN    VERB    NOUN   PUNCT      ADJ  \\\n",
       "0         391    0.01279  0.002558  0.10740  0.1791  0.2251  0.1381  0.10740   \n",
       "1         145    0.00000  0.020690  0.00000  0.2137  0.1724  0.0345  0.07587   \n",
       "2         165    0.07880  0.000000  0.13330  0.2303  0.0909  0.2060  0.07275   \n",
       "3          55    0.01819  0.000000  0.01819  0.1637  0.1637  0.1637  0.14550   \n",
       "4         688    0.01163  0.001453  0.15550  0.2006  0.1831  0.1846  0.05524   \n",
       "\n",
       "   label  \n",
       "0      1  \n",
       "1      0  \n",
       "2      0  \n",
       "3      1  \n",
       "4      1  "
      ]
     },
     "execution_count": 3,
     "metadata": {},
     "output_type": "execute_result"
    }
   ],
   "source": [
    "# Depict the first 5 rows of the training set\n",
    "train_dataset.head()"
   ]
  },
  {
   "cell_type": "markdown",
   "metadata": {},
   "source": [
    "Before we create batches of our data, we have to normalize the numerical features so that we remove the possibility that one variable is the orders of magnitude greater than other variables, which might cause that the first one dominates other features in the dataset and this is something we don't want to happen in our model.\n",
    "\n",
    "The polarity is within the range [-1.0, 1.0], and the subjectivity is within the range [0.0, 1.0], thus these both features don't require the scaling."
   ]
  },
  {
   "cell_type": "code",
   "execution_count": 4,
   "metadata": {},
   "outputs": [],
   "source": [
    "# Instantiate the StandardScaler\n",
    "train_scaler = StandardScaler()\n",
    "# Scale the features\n",
    "train_dataset.iloc[:, 3:11] = train_scaler.fit_transform(train_dataset.iloc[:, 3:11])"
   ]
  },
  {
   "cell_type": "code",
   "execution_count": 5,
   "metadata": {},
   "outputs": [
    {
     "data": {
      "text/html": [
       "<div>\n",
       "<style scoped>\n",
       "    .dataframe tbody tr th:only-of-type {\n",
       "        vertical-align: middle;\n",
       "    }\n",
       "\n",
       "    .dataframe tbody tr th {\n",
       "        vertical-align: top;\n",
       "    }\n",
       "\n",
       "    .dataframe thead th {\n",
       "        text-align: right;\n",
       "    }\n",
       "</style>\n",
       "<table border=\"1\" class=\"dataframe\">\n",
       "  <thead>\n",
       "    <tr style=\"text-align: right;\">\n",
       "      <th></th>\n",
       "      <th>clean_review</th>\n",
       "      <th>polarity</th>\n",
       "      <th>subjectivity</th>\n",
       "      <th>word_count</th>\n",
       "      <th>UPPERCASE</th>\n",
       "      <th>DIGITS</th>\n",
       "      <th>PROPN</th>\n",
       "      <th>VERB</th>\n",
       "      <th>NOUN</th>\n",
       "      <th>PUNCT</th>\n",
       "      <th>ADJ</th>\n",
       "      <th>label</th>\n",
       "    </tr>\n",
       "  </thead>\n",
       "  <tbody>\n",
       "    <tr>\n",
       "      <td>0</td>\n",
       "      <td>amaze good wonderful film early ninety franchi...</td>\n",
       "      <td>0.2482</td>\n",
       "      <td>0.5293</td>\n",
       "      <td>0.925766</td>\n",
       "      <td>-0.466051</td>\n",
       "      <td>-0.029506</td>\n",
       "      <td>0.713005</td>\n",
       "      <td>-0.218791</td>\n",
       "      <td>0.986809</td>\n",
       "      <td>-0.090785</td>\n",
       "      <td>0.671761</td>\n",
       "      <td>1</td>\n",
       "    </tr>\n",
       "    <tr>\n",
       "      <td>1</td>\n",
       "      <td>wrong end see tell chick go crazy eat old woma...</td>\n",
       "      <td>0.1763</td>\n",
       "      <td>0.5750</td>\n",
       "      <td>-0.503381</td>\n",
       "      <td>-1.032507</td>\n",
       "      <td>3.306467</td>\n",
       "      <td>-1.496461</td>\n",
       "      <td>0.782012</td>\n",
       "      <td>-0.444239</td>\n",
       "      <td>-2.221886</td>\n",
       "      <td>-0.455286</td>\n",
       "      <td>0</td>\n",
       "    </tr>\n",
       "    <tr>\n",
       "      <td>2</td>\n",
       "      <td>guess emperor clothe see list pbs night hopefu...</td>\n",
       "      <td>0.1145</td>\n",
       "      <td>0.5557</td>\n",
       "      <td>-0.387190</td>\n",
       "      <td>2.457466</td>\n",
       "      <td>-0.500133</td>\n",
       "      <td>1.245828</td>\n",
       "      <td>1.262165</td>\n",
       "      <td>-2.657338</td>\n",
       "      <td>1.305950</td>\n",
       "      <td>-0.566812</td>\n",
       "      <td>0</td>\n",
       "    </tr>\n",
       "    <tr>\n",
       "      <td>3</td>\n",
       "      <td>earth well movie funny sweet good plot unique ...</td>\n",
       "      <td>0.3810</td>\n",
       "      <td>0.5720</td>\n",
       "      <td>-1.026239</td>\n",
       "      <td>-0.226890</td>\n",
       "      <td>-0.500133</td>\n",
       "      <td>-1.122251</td>\n",
       "      <td>-0.664234</td>\n",
       "      <td>-0.680484</td>\n",
       "      <td>0.435819</td>\n",
       "      <td>2.033656</td>\n",
       "      <td>1</td>\n",
       "    </tr>\n",
       "    <tr>\n",
       "      <td>4</td>\n",
       "      <td>doe eye high school student kathleen beller fi...</td>\n",
       "      <td>0.2095</td>\n",
       "      <td>0.4666</td>\n",
       "      <td>2.651199</td>\n",
       "      <td>-0.517426</td>\n",
       "      <td>-0.232807</td>\n",
       "      <td>1.702533</td>\n",
       "      <td>0.403095</td>\n",
       "      <td>-0.153684</td>\n",
       "      <td>0.865742</td>\n",
       "      <td>-1.192711</td>\n",
       "      <td>1</td>\n",
       "    </tr>\n",
       "  </tbody>\n",
       "</table>\n",
       "</div>"
      ],
      "text/plain": [
       "                                        clean_review  polarity  subjectivity  \\\n",
       "0  amaze good wonderful film early ninety franchi...    0.2482        0.5293   \n",
       "1  wrong end see tell chick go crazy eat old woma...    0.1763        0.5750   \n",
       "2  guess emperor clothe see list pbs night hopefu...    0.1145        0.5557   \n",
       "3  earth well movie funny sweet good plot unique ...    0.3810        0.5720   \n",
       "4  doe eye high school student kathleen beller fi...    0.2095        0.4666   \n",
       "\n",
       "   word_count  UPPERCASE    DIGITS     PROPN      VERB      NOUN     PUNCT  \\\n",
       "0    0.925766  -0.466051 -0.029506  0.713005 -0.218791  0.986809 -0.090785   \n",
       "1   -0.503381  -1.032507  3.306467 -1.496461  0.782012 -0.444239 -2.221886   \n",
       "2   -0.387190   2.457466 -0.500133  1.245828  1.262165 -2.657338  1.305950   \n",
       "3   -1.026239  -0.226890 -0.500133 -1.122251 -0.664234 -0.680484  0.435819   \n",
       "4    2.651199  -0.517426 -0.232807  1.702533  0.403095 -0.153684  0.865742   \n",
       "\n",
       "        ADJ  label  \n",
       "0  0.671761      1  \n",
       "1 -0.455286      0  \n",
       "2 -0.566812      0  \n",
       "3  2.033656      1  \n",
       "4 -1.192711      1  "
      ]
     },
     "execution_count": 5,
     "metadata": {},
     "output_type": "execute_result"
    }
   ],
   "source": [
    "train_dataset.head()"
   ]
  },
  {
   "cell_type": "code",
   "execution_count": 6,
   "metadata": {},
   "outputs": [],
   "source": [
    "# Import the dataset. Use clean_review and label columns\n",
    "val_dataset = pd.read_csv('dataset/datasets_feat_clean/val_feat_clean.csv',\n",
    "                          usecols=['clean_review', 'polarity', 'subjectivity', 'word_count', 'UPPERCASE', 'DIGITS',\n",
    "                                      'PROPN', 'VERB', 'NOUN', 'PUNCT', 'ADJ', 'label'])\n",
    "\n",
    "# Change columns order\n",
    "val_dataset = val_dataset[['clean_review', 'polarity', 'subjectivity', 'word_count', 'UPPERCASE', 'DIGITS',\n",
    "                           'PROPN', 'VERB', 'NOUN', 'PUNCT', 'ADJ', 'label']]"
   ]
  },
  {
   "cell_type": "code",
   "execution_count": 7,
   "metadata": {},
   "outputs": [
    {
     "data": {
      "text/html": [
       "<div>\n",
       "<style scoped>\n",
       "    .dataframe tbody tr th:only-of-type {\n",
       "        vertical-align: middle;\n",
       "    }\n",
       "\n",
       "    .dataframe tbody tr th {\n",
       "        vertical-align: top;\n",
       "    }\n",
       "\n",
       "    .dataframe thead th {\n",
       "        text-align: right;\n",
       "    }\n",
       "</style>\n",
       "<table border=\"1\" class=\"dataframe\">\n",
       "  <thead>\n",
       "    <tr style=\"text-align: right;\">\n",
       "      <th></th>\n",
       "      <th>clean_review</th>\n",
       "      <th>polarity</th>\n",
       "      <th>subjectivity</th>\n",
       "      <th>word_count</th>\n",
       "      <th>UPPERCASE</th>\n",
       "      <th>DIGITS</th>\n",
       "      <th>PROPN</th>\n",
       "      <th>VERB</th>\n",
       "      <th>NOUN</th>\n",
       "      <th>PUNCT</th>\n",
       "      <th>ADJ</th>\n",
       "      <th>label</th>\n",
       "    </tr>\n",
       "  </thead>\n",
       "  <tbody>\n",
       "    <tr>\n",
       "      <td>0</td>\n",
       "      <td>go movie twice week sum word normally use ligh...</td>\n",
       "      <td>0.272000</td>\n",
       "      <td>0.4656</td>\n",
       "      <td>155</td>\n",
       "      <td>0.01290</td>\n",
       "      <td>0.0</td>\n",
       "      <td>0.05160</td>\n",
       "      <td>0.1807</td>\n",
       "      <td>0.1807</td>\n",
       "      <td>0.1613</td>\n",
       "      <td>0.10320</td>\n",
       "      <td>1</td>\n",
       "    </tr>\n",
       "    <tr>\n",
       "      <td>1</td>\n",
       "      <td>year big fan park work old boy time favorite.w...</td>\n",
       "      <td>-0.056670</td>\n",
       "      <td>0.3833</td>\n",
       "      <td>119</td>\n",
       "      <td>0.02520</td>\n",
       "      <td>0.0</td>\n",
       "      <td>0.10080</td>\n",
       "      <td>0.1681</td>\n",
       "      <td>0.1932</td>\n",
       "      <td>0.2185</td>\n",
       "      <td>0.08405</td>\n",
       "      <td>0</td>\n",
       "    </tr>\n",
       "    <tr>\n",
       "      <td>2</td>\n",
       "      <td>movie potential handle differently need differ...</td>\n",
       "      <td>-0.012695</td>\n",
       "      <td>0.6560</td>\n",
       "      <td>152</td>\n",
       "      <td>0.03946</td>\n",
       "      <td>0.0</td>\n",
       "      <td>0.01316</td>\n",
       "      <td>0.3157</td>\n",
       "      <td>0.1250</td>\n",
       "      <td>0.1382</td>\n",
       "      <td>0.05920</td>\n",
       "      <td>0</td>\n",
       "    </tr>\n",
       "    <tr>\n",
       "      <td>3</td>\n",
       "      <td>movie difficult review give away plot suffice ...</td>\n",
       "      <td>0.148400</td>\n",
       "      <td>0.5910</td>\n",
       "      <td>173</td>\n",
       "      <td>0.01156</td>\n",
       "      <td>0.0</td>\n",
       "      <td>0.08093</td>\n",
       "      <td>0.1849</td>\n",
       "      <td>0.2196</td>\n",
       "      <td>0.1272</td>\n",
       "      <td>0.10406</td>\n",
       "      <td>1</td>\n",
       "    </tr>\n",
       "    <tr>\n",
       "      <td>4</td>\n",
       "      <td>plot worth discussion hint corruption murder p...</td>\n",
       "      <td>0.215300</td>\n",
       "      <td>0.5790</td>\n",
       "      <td>105</td>\n",
       "      <td>0.01904</td>\n",
       "      <td>0.0</td>\n",
       "      <td>0.04760</td>\n",
       "      <td>0.1333</td>\n",
       "      <td>0.2856</td>\n",
       "      <td>0.1619</td>\n",
       "      <td>0.16190</td>\n",
       "      <td>0</td>\n",
       "    </tr>\n",
       "  </tbody>\n",
       "</table>\n",
       "</div>"
      ],
      "text/plain": [
       "                                        clean_review  polarity  subjectivity  \\\n",
       "0  go movie twice week sum word normally use ligh...  0.272000        0.4656   \n",
       "1  year big fan park work old boy time favorite.w... -0.056670        0.3833   \n",
       "2  movie potential handle differently need differ... -0.012695        0.6560   \n",
       "3  movie difficult review give away plot suffice ...  0.148400        0.5910   \n",
       "4  plot worth discussion hint corruption murder p...  0.215300        0.5790   \n",
       "\n",
       "   word_count  UPPERCASE  DIGITS    PROPN    VERB    NOUN   PUNCT      ADJ  \\\n",
       "0         155    0.01290     0.0  0.05160  0.1807  0.1807  0.1613  0.10320   \n",
       "1         119    0.02520     0.0  0.10080  0.1681  0.1932  0.2185  0.08405   \n",
       "2         152    0.03946     0.0  0.01316  0.3157  0.1250  0.1382  0.05920   \n",
       "3         173    0.01156     0.0  0.08093  0.1849  0.2196  0.1272  0.10406   \n",
       "4         105    0.01904     0.0  0.04760  0.1333  0.2856  0.1619  0.16190   \n",
       "\n",
       "   label  \n",
       "0      1  \n",
       "1      0  \n",
       "2      0  \n",
       "3      1  \n",
       "4      0  "
      ]
     },
     "execution_count": 7,
     "metadata": {},
     "output_type": "execute_result"
    }
   ],
   "source": [
    "# Depict the first 5 rows of the validation set\n",
    "val_dataset.head()"
   ]
  },
  {
   "cell_type": "code",
   "execution_count": 8,
   "metadata": {},
   "outputs": [],
   "source": [
    "# Instantiate the StandardScaler\n",
    "val_scaler = StandardScaler()\n",
    "# Scale the features\n",
    "val_dataset.iloc[:, 3:11] = val_scaler.fit_transform(val_dataset.iloc[:, 3:11])"
   ]
  },
  {
   "cell_type": "code",
   "execution_count": 9,
   "metadata": {},
   "outputs": [
    {
     "data": {
      "text/html": [
       "<div>\n",
       "<style scoped>\n",
       "    .dataframe tbody tr th:only-of-type {\n",
       "        vertical-align: middle;\n",
       "    }\n",
       "\n",
       "    .dataframe tbody tr th {\n",
       "        vertical-align: top;\n",
       "    }\n",
       "\n",
       "    .dataframe thead th {\n",
       "        text-align: right;\n",
       "    }\n",
       "</style>\n",
       "<table border=\"1\" class=\"dataframe\">\n",
       "  <thead>\n",
       "    <tr style=\"text-align: right;\">\n",
       "      <th></th>\n",
       "      <th>clean_review</th>\n",
       "      <th>polarity</th>\n",
       "      <th>subjectivity</th>\n",
       "      <th>word_count</th>\n",
       "      <th>UPPERCASE</th>\n",
       "      <th>DIGITS</th>\n",
       "      <th>PROPN</th>\n",
       "      <th>VERB</th>\n",
       "      <th>NOUN</th>\n",
       "      <th>PUNCT</th>\n",
       "      <th>ADJ</th>\n",
       "      <th>label</th>\n",
       "    </tr>\n",
       "  </thead>\n",
       "  <tbody>\n",
       "    <tr>\n",
       "      <td>0</td>\n",
       "      <td>go movie twice week sum word normally use ligh...</td>\n",
       "      <td>0.272000</td>\n",
       "      <td>0.4656</td>\n",
       "      <td>-0.443496</td>\n",
       "      <td>-0.471182</td>\n",
       "      <td>-0.476247</td>\n",
       "      <td>-0.433351</td>\n",
       "      <td>-0.193510</td>\n",
       "      <td>-0.196521</td>\n",
       "      <td>0.377979</td>\n",
       "      <td>0.524956</td>\n",
       "      <td>1</td>\n",
       "    </tr>\n",
       "    <tr>\n",
       "      <td>1</td>\n",
       "      <td>year big fan park work old boy time favorite.w...</td>\n",
       "      <td>-0.056670</td>\n",
       "      <td>0.3833</td>\n",
       "      <td>-0.654306</td>\n",
       "      <td>0.091716</td>\n",
       "      <td>-0.476247</td>\n",
       "      <td>0.567055</td>\n",
       "      <td>-0.559484</td>\n",
       "      <td>0.142736</td>\n",
       "      <td>1.531346</td>\n",
       "      <td>-0.157714</td>\n",
       "      <td>0</td>\n",
       "    </tr>\n",
       "    <tr>\n",
       "      <td>2</td>\n",
       "      <td>movie potential handle differently need differ...</td>\n",
       "      <td>-0.012695</td>\n",
       "      <td>0.6560</td>\n",
       "      <td>-0.461063</td>\n",
       "      <td>0.744311</td>\n",
       "      <td>-0.476247</td>\n",
       "      <td>-1.214968</td>\n",
       "      <td>3.727638</td>\n",
       "      <td>-1.708251</td>\n",
       "      <td>-0.087803</td>\n",
       "      <td>-1.043581</td>\n",
       "      <td>0</td>\n",
       "    </tr>\n",
       "    <tr>\n",
       "      <td>3</td>\n",
       "      <td>movie difficult review give away plot suffice ...</td>\n",
       "      <td>0.148400</td>\n",
       "      <td>0.5910</td>\n",
       "      <td>-0.338090</td>\n",
       "      <td>-0.532506</td>\n",
       "      <td>-0.476247</td>\n",
       "      <td>0.163029</td>\n",
       "      <td>-0.071519</td>\n",
       "      <td>0.859248</td>\n",
       "      <td>-0.309605</td>\n",
       "      <td>0.555614</td>\n",
       "      <td>1</td>\n",
       "    </tr>\n",
       "    <tr>\n",
       "      <td>4</td>\n",
       "      <td>plot worth discussion hint corruption murder p...</td>\n",
       "      <td>0.215300</td>\n",
       "      <td>0.5790</td>\n",
       "      <td>-0.736288</td>\n",
       "      <td>-0.190191</td>\n",
       "      <td>-0.476247</td>\n",
       "      <td>-0.514684</td>\n",
       "      <td>-1.570269</td>\n",
       "      <td>2.650526</td>\n",
       "      <td>0.390078</td>\n",
       "      <td>2.617528</td>\n",
       "      <td>0</td>\n",
       "    </tr>\n",
       "  </tbody>\n",
       "</table>\n",
       "</div>"
      ],
      "text/plain": [
       "                                        clean_review  polarity  subjectivity  \\\n",
       "0  go movie twice week sum word normally use ligh...  0.272000        0.4656   \n",
       "1  year big fan park work old boy time favorite.w... -0.056670        0.3833   \n",
       "2  movie potential handle differently need differ... -0.012695        0.6560   \n",
       "3  movie difficult review give away plot suffice ...  0.148400        0.5910   \n",
       "4  plot worth discussion hint corruption murder p...  0.215300        0.5790   \n",
       "\n",
       "   word_count  UPPERCASE    DIGITS     PROPN      VERB      NOUN     PUNCT  \\\n",
       "0   -0.443496  -0.471182 -0.476247 -0.433351 -0.193510 -0.196521  0.377979   \n",
       "1   -0.654306   0.091716 -0.476247  0.567055 -0.559484  0.142736  1.531346   \n",
       "2   -0.461063   0.744311 -0.476247 -1.214968  3.727638 -1.708251 -0.087803   \n",
       "3   -0.338090  -0.532506 -0.476247  0.163029 -0.071519  0.859248 -0.309605   \n",
       "4   -0.736288  -0.190191 -0.476247 -0.514684 -1.570269  2.650526  0.390078   \n",
       "\n",
       "        ADJ  label  \n",
       "0  0.524956      1  \n",
       "1 -0.157714      0  \n",
       "2 -1.043581      0  \n",
       "3  0.555614      1  \n",
       "4  2.617528      0  "
      ]
     },
     "execution_count": 9,
     "metadata": {},
     "output_type": "execute_result"
    }
   ],
   "source": [
    "val_dataset.head()"
   ]
  },
  {
   "cell_type": "markdown",
   "metadata": {},
   "source": [
    "Below we will use the BatchIterator class defined in the *vocabulary* notebook to create the vocabulary, trim sequences in terms of the rare word occurrence and the length, map words to their numerical representation (word2index), furthermore BatchIterator sorts dataset examples, generates batches, performs sequence padding and enables to use it instance to iterate through all batches."
   ]
  },
  {
   "cell_type": "markdown",
   "metadata": {},
   "source": [
    "We use pre-trained embeddings instead of learning them during training process, thus we will create the weights matrix only for the training set.  \n",
    "\n",
    "To create the weights matrix we have to set use_pretrained_vectors=True and supply the weight file path, Glove vectors file name and the directory and the name of the file to which we will export the prepared weights matrix. To use different word embeddings, simply pass on their file to the BatchIterator class."
   ]
  },
  {
   "cell_type": "code",
   "execution_count": 16,
   "metadata": {},
   "outputs": [
    {
     "name": "stdout",
     "output_type": "stream",
     "text": [
      "Trimmed vocabulary using as minimum count threashold: count = 3.00\n",
      "35371/130416 tokens has been retained\n",
      "Trimmed input strings vocabulary\n",
      "Trimmed input sequences lengths to the length of: 198\n",
      "Mapped words to indices\n",
      "Start creating glove_word2vector dictionary\n",
      "Extracted 30905/35375 of pre-trained word vectors.\n",
      "4470 vectors initialized to random numbers\n",
      "Weights vectors saved into glove/weights.npy\n",
      "Batches created\n"
     ]
    }
   ],
   "source": [
    "train_iterator = BatchIterator(train_dataset, batch_size=64, vocab_created=False, vocab=None, target_col=None,\n",
    "                               word2index=None, sos_token='<SOS>', eos_token='<EOS>', unk_token='<UNK>',\n",
    "                               pad_token='<PAD>', min_word_count=3, max_vocab_size=None, max_seq_len=0.9,\n",
    "                               use_pretrained_vectors=True, glove_path='glove/', glove_name='glove.6B.100d.txt',\n",
    "                               weights_file_name='glove/weights-biGRU-glove.npy')"
   ]
  },
  {
   "cell_type": "code",
   "execution_count": 17,
   "metadata": {},
   "outputs": [
    {
     "name": "stdout",
     "output_type": "stream",
     "text": [
      "Trimmed vocabulary using as minimum count threashold: count = 3.00\n",
      "19357/59089 tokens has been retained\n",
      "Trimmed input strings vocabulary\n",
      "Trimmed input sequences lengths to the length of: 195\n",
      "Mapped words to indices\n",
      "Batches created\n"
     ]
    }
   ],
   "source": [
    "val_iterator = BatchIterator(val_dataset, batch_size=64, vocab_created=False, vocab=None, target_col=None,\n",
    "                             word2index=train_iterator.word2index, sos_token='<SOS>', eos_token='<EOS>',\n",
    "                             unk_token='<UNK>', pad_token='<PAD>', min_word_count=3, max_vocab_size=None,\n",
    "                             max_seq_len=0.9, use_pretrained_vectors=False, glove_path='glove/',\n",
    "                             glove_name='glove.6B.100d.txt', weights_file_name='glove/weights.npy')"
   ]
  },
  {
   "cell_type": "markdown",
   "metadata": {},
   "source": [
    "We have to check out how batches that we created look like before we pass them into the model. For the record, the set of batches for input and output variables is returned as a dictionary, thus we will just look at the dictionary keys to find out how to extract particular variables."
   ]
  },
  {
   "cell_type": "code",
   "execution_count": 18,
   "metadata": {},
   "outputs": [
    {
     "name": "stdout",
     "output_type": "stream",
     "text": [
      "dict_keys(['input_feat', 'input_seq', 'target', 'x_lengths'])\n"
     ]
    }
   ],
   "source": [
    "for batches in train_iterator:\n",
    "    print(batches.keys())\n",
    "    break"
   ]
  },
  {
   "cell_type": "markdown",
   "metadata": {},
   "source": [
    "As we can see above we can distinguish the following batches: *input_feat* that comprises all additional features, *input_seq* that contains cleaned reviews, *target batch* that includes target labels and *x_lengths* batch that encompasses input sequences lengths.\n",
    "\n",
    "Notice that the *input_seq* batch has the dimensions: (batch_size, seq_len), while *input_feat* batch has the shape of (batch_size, num_features)."
   ]
  },
  {
   "cell_type": "code",
   "execution_count": 19,
   "metadata": {},
   "outputs": [
    {
     "name": "stdout",
     "output_type": "stream",
     "text": [
      "input_seq shape:  torch.Size([64, 90])\n",
      "input_feat shape:  torch.Size([64, 10])\n",
      "target shape:  torch.Size([64])\n",
      "x_lengths shape:  torch.Size([64])\n"
     ]
    }
   ],
   "source": [
    "for batches in train_iterator:\n",
    "\n",
    "    # Unpack the dictionary of batches\n",
    "    input_seq, input_feat, target, x_lengths = batches['input_seq'], batches['input_feat'],\\\n",
    "                                               batches['target'], batches['x_lengths']\n",
    "        \n",
    "    print('input_seq shape: ', input_seq.size())\n",
    "    print('input_feat shape: ', input_feat.size())\n",
    "    print('target shape: ', target.size())\n",
    "    print('x_lengths shape: ', x_lengths.size())\n",
    "    break"
   ]
  },
  {
   "cell_type": "code",
   "execution_count": 20,
   "metadata": {},
   "outputs": [
    {
     "name": "stdout",
     "output_type": "stream",
     "text": [
      "input_seq shape:  torch.Size([64, 115])\n",
      "input_feat shape:  torch.Size([64, 10])\n",
      "target shape:  torch.Size([64])\n",
      "x_lengths shape:  torch.Size([64])\n"
     ]
    }
   ],
   "source": [
    "for batches in val_iterator:\n",
    "    # Unpack the dictionary of batches\n",
    "    input_seq, input_feat, target, x_lengths = batches['input_seq'], batches['input_feat'],\\\n",
    "                                               batches['target'], batches['x_lengths']\n",
    "    print('input_seq shape: ', input_seq.size())\n",
    "    print('input_feat shape: ', input_feat.size())\n",
    "    print('target shape: ', target.size())\n",
    "    print('x_lengths shape: ', x_lengths.size())\n",
    "    break"
   ]
  },
  {
   "cell_type": "markdown",
   "metadata": {},
   "source": [
    "Now we are going to build a biGRU model that will use the pre-trained word embeddings and *input_feat* batch as additional features vector. "
   ]
  },
  {
   "cell_type": "code",
   "execution_count": 26,
   "metadata": {},
   "outputs": [],
   "source": [
    "class BiGRU(nn.Module):\n",
    "    \"\"\"BiDirectional GRU neural network model with pre-trained word embeddings.\n",
    "        \n",
    "    Parameters\n",
    "    ----------\n",
    "    hidden_size: int\n",
    "        Number of features in the hidden state.\n",
    "    vocab_size: int\n",
    "        The size of the vocabulary.\n",
    "    n_extra_feat: int\n",
    "        Number of additional features.\n",
    "    weight_matrix: numpy.ndarray\n",
    "        Matrix of pre-trained word embeddings.\n",
    "    output_size: int\n",
    "        Number of classes.\n",
    "    n_layers: int, optional (default=1)\n",
    "        Number of stacked recurrent layers.\n",
    "    dropout: float, optional (default=0.2)\n",
    "        Probability of an element of the tensor to be zeroed.\n",
    "    spatial_dropout: boolean, optional (default=True)\n",
    "        Whether to use the spatial dropout.\n",
    "    bidirectional: boolean, optional (default=True)\n",
    "        Whether to use the bidirectional GRU.\n",
    "\n",
    "    \"\"\"\n",
    "    \n",
    "    def __init__(self, hidden_size, vocab_size, n_extra_feat, weights_matrix, output_size, n_layers=1, dropout=0.2,\n",
    "                 spatial_dropout=True, bidirectional=True):\n",
    "        \n",
    "        # Inherit everything from the nn.Module\n",
    "        super(BiGRU, self).__init__()\n",
    "        \n",
    "        # Initialize attributes\n",
    "        self.hidden_size = hidden_size\n",
    "        self.vocab_size = vocab_size\n",
    "        self.n_extra_feat = n_extra_feat\n",
    "        self.weights_matrix = weights_matrix\n",
    "        self.output_size = output_size\n",
    "        self.n_layers = n_layers\n",
    "        self.dropout_p = dropout\n",
    "        self.spatial_dropout = spatial_dropout\n",
    "        self.bidirectional = bidirectional\n",
    "        self.n_directions = 2 if self.bidirectional else 1\n",
    "        \n",
    "        self.vocab_size, self.embedding_dim = self.weights_matrix.shape\n",
    "        \n",
    "        # Initialize layers\n",
    "        self.embedding = nn.Embedding(self.vocab_size, self.embedding_dim)\n",
    "        \n",
    "        # Load the weights to the embedding layer\n",
    "        self.embedding.load_state_dict({'weight': torch.from_numpy(weights_matrix)})\n",
    "        self.embedding.weight.requires_grad = False\n",
    "        \n",
    "        self.dropout = nn.Dropout(self.dropout_p)\n",
    "        if self.spatial_dropout:\n",
    "            self.spatial_dropout1d = nn.Dropout2d(self.dropout_p)\n",
    "        self.gru = nn.GRU(self.embedding_dim, self.hidden_size, num_layers=self.n_layers, \n",
    "                          dropout=(0 if n_layers == 1 else self.dropout_p), batch_first=True,\n",
    "                          bidirectional=self.bidirectional)\n",
    "        # Linear layer input size is equal to hidden_size * 3 + n_extra_feat, becuase\n",
    "        # we will concatenate max_pooling ,avg_pooling, last hidden state and additional features\n",
    "        self.linear = nn.Linear(self.hidden_size * 3 + self.n_extra_feat, self.output_size)\n",
    "\n",
    "        \n",
    "    def forward(self, input_seq, input_feat, input_lengths, hidden=None):\n",
    "        \"\"\"Forward propagate through the neural network model.\n",
    "        \n",
    "        Parameters\n",
    "        ----------\n",
    "        input_seq: torch.Tensor\n",
    "            Batch of input sequences.\n",
    "        input_feat: torch.Tensor\n",
    "            Batch of additional features.\n",
    "        input_lengths: torch.LongTensor\n",
    "            Batch containing sequences lengths.\n",
    "        hidden: torch.FloatTensor, optional (default=None)\n",
    "            Tensor containing initial hidden state.\n",
    "            \n",
    "        Returns\n",
    "        -------\n",
    "        torch.Tensor\n",
    "            Logarithm of softmaxed input tensor.\n",
    "        \n",
    "        \"\"\"\n",
    "        # Extract batch_size\n",
    "        self.batch_size = input_seq.size(0)\n",
    "        \n",
    "        # Embeddings shapes\n",
    "        # Input: (batch_size,  seq_length)\n",
    "        # Output: (batch_size, seq_length, embedding_dim)\n",
    "        emb_out = self.embedding(input_seq)\n",
    "        \n",
    "        if self.spatial_dropout:\n",
    "            # Convert to (batch_size, embedding_dim, seq_length)\n",
    "            emb_out = emb_out.permute(0, 2, 1)\n",
    "            emb_out = self.spatial_dropout1d(emb_out)\n",
    "            # Convert back to (batch_size, seq_length, embedding_dim)\n",
    "            emb_out = emb_out.permute(0, 2, 1)\n",
    "        else:\n",
    "            emb_out = self.dropout(emb_out)\n",
    "        \n",
    "        # Pack padded batch of sequences for RNN module\n",
    "        packed_emb = nn.utils.rnn.pack_padded_sequence(emb_out, input_lengths, batch_first=True)\n",
    "                \n",
    "        # GRU input/output shapes, if batch_first=True\n",
    "        # Input: (batch_size, seq_len, embedding_dim)\n",
    "        # Output: (batch_size, seq_len, hidden_size*num_directions)\n",
    "        # Number of directions = 2 when used bidirectional, otherwise 1\n",
    "        # shape of hidden: (n_layers x num_directions, batch_size, hidden_size)\n",
    "        # Hidden state defaults to zero if not provided\n",
    "        gru_out, hidden = self.gru(packed_emb, hidden)\n",
    "        # gru_out: tensor containing the output features h_t from the last layer of the GRU\n",
    "        # gru_out comprises all the hidden states in the last layer (\"last\" depth-wise, not time-wise)\n",
    "        # For biGRu gru_out is the concatenation of a forward GRU representation and a backward GRU representation\n",
    "        # hidden (h_n) comprises the hidden states after the last timestep\n",
    "        \n",
    "        # Extract and sum last hidden state\n",
    "        # Input hidden shape: (n_layers x num_directions, batch_size, hidden_size)\n",
    "        # Separate hidden state layers\n",
    "        hidden = hidden.view(self.n_layers, self.n_directions, self.batch_size, self.hidden_size)\n",
    "        last_hidden = hidden[-1]\n",
    "        # last hidden shape (num_directions, batch_size, hidden_size)\n",
    "        # Sum the last hidden state of forward and backward layer\n",
    "        last_hidden = torch.sum(last_hidden, dim=0)\n",
    "        # Summed last hidden shape (batch_size, hidden_size)\n",
    "        \n",
    "        # Pad a packed batch\n",
    "        # gru_out output shape: (batch_size, seq_len, hidden_size*num_directions)\n",
    "        gru_out, lengths = nn.utils.rnn.pad_packed_sequence(gru_out, batch_first=True)\n",
    "              \n",
    "        # Sum the gru_out along the num_directions\n",
    "        if self.bidirectional:\n",
    "            gru_out = gru_out[:,:,:self.hidden_size] + gru_out[:,:,self.hidden_size:]\n",
    "        \n",
    "        # Select the maximum value over each dimension of the hidden representation (max pooling)\n",
    "        # Permute the input tensor to dimensions: (batch_size, hidden, seq_len)\n",
    "        # Output dimensions: (batch_size, hidden_size)\n",
    "        max_pool = F.adaptive_max_pool1d(gru_out.permute(0,2,1), (1,)).view(self.batch_size,-1)\n",
    "        \n",
    "        # Consider the average of the representations (mean pooling)\n",
    "        # Sum along the batch axis and divide by the corresponding lengths (FloatTensor)\n",
    "        # Output shape: (batch_size, hidden_size)\n",
    "        avg_pool = torch.sum(gru_out, dim=1) / lengths.view(-1,1).type(torch.FloatTensor) \n",
    "\n",
    "        # Concatenate max_pooling, avg_pooling, hidden state and input_feat tensor\n",
    "        concat_out = torch.cat([last_hidden, max_pool, avg_pool, input_feat], dim=1)\n",
    "\n",
    "        # concat_out = self.dropout(concat_out)\n",
    "        out = self.linear(concat_out)\n",
    "        return F.log_softmax(out, dim=-1)\n",
    "    \n",
    "    \n",
    "    def add_loss_fn(self, loss_fn):\n",
    "        \"\"\"Add loss function to the model.\n",
    "        \n",
    "        \"\"\"\n",
    "        self.loss_fn = loss_fn\n",
    "        \n",
    "\n",
    "    def add_optimizer(self, optimizer):\n",
    "        \"\"\"Add optimizer to the model.\n",
    "        \n",
    "        \"\"\"\n",
    "        self.optimizer = optimizer\n",
    "        \n",
    "        \n",
    "    def add_device(self, device=torch.device('cpu')):\n",
    "        \"\"\"Specify the device.\n",
    "        \n",
    "        \"\"\"\n",
    "        self.device = device\n",
    "    \n",
    "    \n",
    "    def train_model(self, train_iterator):\n",
    "        \"\"\"Perform single training epoch.\n",
    "        \n",
    "        Parameters\n",
    "        ----------\n",
    "        train_iterator: BatchIterator\n",
    "            BatchIterator class object containing training batches.\n",
    "            \n",
    "        Returns\n",
    "        -------\n",
    "        train_losses: list\n",
    "            List of the training average batch losses.\n",
    "        avg_loss: float\n",
    "            Average loss on the entire training set.\n",
    "        accuracy: float\n",
    "            Models accuracy on the entire training set.\n",
    "            \n",
    "        \"\"\"\n",
    "        self.train()\n",
    "        \n",
    "        train_losses = []\n",
    "        losses = []\n",
    "        losses_list = []\n",
    "        num_seq = 0\n",
    "        batch_correct = 0\n",
    "            \n",
    "        for i, batches in tqdm_notebook(enumerate(train_iterator, 1), total=len(train_iterator), desc='Training'):\n",
    "            input_seq, input_feat, target, x_lengths = batches['input_seq'], batches['input_feat'],\\\n",
    "                                                       batches['target'], batches['x_lengths']\n",
    "            \n",
    "            input_seq.to(self.device)\n",
    "            input_feat.to(self.device)\n",
    "            target.to(self.device)\n",
    "            x_lengths.to(self.device)\n",
    "            \n",
    "            self.optimizer.zero_grad()\n",
    "\n",
    "            pred = self.forward(input_seq, input_feat, x_lengths)\n",
    "            loss = self.loss_fn(pred, target)\n",
    "            loss.backward()\n",
    "            losses.append(loss.data.cpu().numpy())\n",
    "            self.optimizer.step()\n",
    "            \n",
    "            losses_list.append(loss.data.cpu().numpy())\n",
    "            \n",
    "            pred = torch.argmax(pred, 1)\n",
    "\n",
    "            if self.device.type == 'cpu':\n",
    "                batch_correct += (pred.cpu() == target.cpu()).sum().item()\n",
    "\n",
    "            else:\n",
    "                batch_correct += (pred == target).sum().item()\n",
    "\n",
    "            num_seq += len(input_seq)     \n",
    "    \n",
    "            if i % 100 == 0:\n",
    "                avg_train_loss = np.mean(losses)\n",
    "                train_losses.append(avg_train_loss)\n",
    "                \n",
    "                accuracy = batch_correct / num_seq\n",
    "                \n",
    "                print('Iteration: {}. Average training loss: {:.4f}. Accuracy: {:.3f}'\\\n",
    "                      .format(i, avg_train_loss, accuracy))\n",
    "                \n",
    "                losses = []\n",
    "                \n",
    "            avg_loss = np.mean(losses_list)\n",
    "            accuracy = batch_correct / num_seq\n",
    "                              \n",
    "        return train_losses, avg_loss, accuracy\n",
    "    \n",
    "    \n",
    "    def evaluate_model(self, eval_iterator, conf_mtx=False):\n",
    "        \"\"\"Perform the one evaluation epoch.\n",
    "        \n",
    "        Parameters\n",
    "        ----------\n",
    "        eval_iterator: BatchIterator\n",
    "            BatchIterator class object containing evaluation batches.\n",
    "        conf_mtx: boolean, optional (default=False)\n",
    "            Whether to print the confusion matrix at each epoch.\n",
    "            \n",
    "        Returns\n",
    "        -------\n",
    "        eval_losses: list\n",
    "            List of the evaluation average batch losses.\n",
    "        avg_loss: float\n",
    "            Average loss on the entire evaluation set.\n",
    "        accuracy: float\n",
    "            Models accuracy on the entire evaluation set.\n",
    "        conf_matrix: list\n",
    "            Confusion matrix.\n",
    "            \n",
    "        \"\"\"\n",
    "        self.eval()\n",
    "        \n",
    "        eval_losses = []\n",
    "        losses = []\n",
    "        losses_list = []\n",
    "        num_seq = 0\n",
    "        batch_correct = 0\n",
    "        pred_total = torch.LongTensor()\n",
    "        target_total = torch.LongTensor()\n",
    "        \n",
    "        with torch.no_grad():\n",
    "            for i, batches in tqdm_notebook(enumerate(eval_iterator, 1), total=len(eval_iterator), desc='Evaluation'):\n",
    "                input_seq, input_feat, target, x_lengths = batches['input_seq'], batches['input_feat'],\\\n",
    "                                                           batches['target'], batches['x_lengths']\n",
    "                \n",
    "                input_seq.to(self.device)\n",
    "                input_feat.to(self.device)\n",
    "                target.to(self.device)\n",
    "                x_lengths.to(self.device)\n",
    "\n",
    "                pred = self.forward(input_seq, input_feat, x_lengths)\n",
    "                loss = self.loss_fn(pred, target)\n",
    "                losses.append(loss.data.cpu().numpy())\n",
    "                losses_list.append(loss.data.cpu().numpy())\n",
    "                \n",
    "                pred = torch.argmax(pred, 1)\n",
    "                                \n",
    "                if self.device.type == 'cpu':\n",
    "                    batch_correct += (pred.cpu() == target.cpu()).sum().item()\n",
    "                    \n",
    "                else:\n",
    "                    batch_correct += (pred == target).sum().item()\n",
    "                    \n",
    "                num_seq += len(input_seq)     \n",
    "                \n",
    "                pred_total = torch.cat([pred_total, pred], dim=0)\n",
    "                target_total = torch.cat([target_total, target], dim=0)\n",
    "                \n",
    "                if i % 100 == 0:\n",
    "                    avg_batch_eval_loss = np.mean(losses)\n",
    "                    eval_losses.append(avg_batch_eval_loss)\n",
    "                    \n",
    "                    accuracy = batch_correct / num_seq\n",
    "                    \n",
    "                    print('Iteration: {}. Average evaluation loss: {:.4f}. Accuracy: {:.2f}'\\\n",
    "                          .format(i, avg_batch_eval_loss, accuracy))\n",
    "\n",
    "                    losses = []\n",
    "                    \n",
    "            avg_loss_list = []\n",
    "                    \n",
    "            avg_loss = np.mean(losses_list)\n",
    "            accuracy = batch_correct / num_seq\n",
    "            \n",
    "            conf_matrix = confusion_matrix(target_total.view(-1), pred_total.view(-1))\n",
    "        \n",
    "        if conf_mtx:\n",
    "            print('\\tConfusion matrix: ', conf_matrix)\n",
    "            \n",
    "        return eval_losses, avg_loss, accuracy, conf_matrix\n"
   ]
  },
  {
   "cell_type": "markdown",
   "metadata": {},
   "source": [
    "Now we will instantiate the model, add loss function, optimizer, and device to it and begin the training."
   ]
  },
  {
   "cell_type": "code",
   "execution_count": 31,
   "metadata": {},
   "outputs": [
    {
     "name": "stdout",
     "output_type": "stream",
     "text": [
      "\n",
      "Start epoch [1/40]\n"
     ]
    },
    {
     "data": {
      "application/vnd.jupyter.widget-view+json": {
       "model_id": "633d577f88f049a28a68aadcefb89877",
       "version_major": 2,
       "version_minor": 0
      },
      "text/plain": [
       "HBox(children=(IntProgress(value=0, description='Training', max=543, style=ProgressStyle(description_width='in…"
      ]
     },
     "metadata": {},
     "output_type": "display_data"
    },
    {
     "name": "stdout",
     "output_type": "stream",
     "text": [
      "Iteration: 100. Average training loss: 0.7065. Accuracy: 0.503\n",
      "Iteration: 200. Average training loss: 0.6630. Accuracy: 0.554\n",
      "Iteration: 300. Average training loss: 0.6311. Accuracy: 0.587\n",
      "Iteration: 400. Average training loss: 0.5909. Accuracy: 0.614\n",
      "Iteration: 500. Average training loss: 0.5668. Accuracy: 0.634\n"
     ]
    },
    {
     "data": {
      "application/vnd.jupyter.widget-view+json": {
       "model_id": "4d1f05e6fb2f4fd99208c6a518c362fd",
       "version_major": 2,
       "version_minor": 0
      },
      "text/plain": [
       "HBox(children=(IntProgress(value=0, description='Evaluation', max=155, style=ProgressStyle(description_width='…"
      ]
     },
     "metadata": {},
     "output_type": "display_data"
    },
    {
     "name": "stdout",
     "output_type": "stream",
     "text": [
      "Iteration: 100. Average evaluation loss: 0.4823. Accuracy: 0.77\n",
      "\n",
      "Epoch [1/40]: Train accuracy: 0.642. Train loss: 0.6239. Evaluation accuracy: 0.776. Evaluation loss: 0.4794\n",
      "\n",
      "Start epoch [2/40]\n"
     ]
    },
    {
     "data": {
      "application/vnd.jupyter.widget-view+json": {
       "model_id": "eb160299c6fa4faf8ababb1a32312f07",
       "version_major": 2,
       "version_minor": 0
      },
      "text/plain": [
       "HBox(children=(IntProgress(value=0, description='Training', max=543, style=ProgressStyle(description_width='in…"
      ]
     },
     "metadata": {},
     "output_type": "display_data"
    },
    {
     "name": "stdout",
     "output_type": "stream",
     "text": [
      "Iteration: 100. Average training loss: 0.5319. Accuracy: 0.740\n",
      "Iteration: 200. Average training loss: 0.5005. Accuracy: 0.749\n",
      "Iteration: 300. Average training loss: 0.4981. Accuracy: 0.754\n",
      "Iteration: 400. Average training loss: 0.4877. Accuracy: 0.757\n",
      "Iteration: 500. Average training loss: 0.4828. Accuracy: 0.760\n"
     ]
    },
    {
     "data": {
      "application/vnd.jupyter.widget-view+json": {
       "model_id": "06880f47ba104e6db2046aa3626bca1a",
       "version_major": 2,
       "version_minor": 0
      },
      "text/plain": [
       "HBox(children=(IntProgress(value=0, description='Evaluation', max=155, style=ProgressStyle(description_width='…"
      ]
     },
     "metadata": {},
     "output_type": "display_data"
    },
    {
     "name": "stdout",
     "output_type": "stream",
     "text": [
      "Iteration: 100. Average evaluation loss: 0.4308. Accuracy: 0.80\n",
      "\n",
      "Epoch [2/40]: Train accuracy: 0.762. Train loss: 0.4971. Evaluation accuracy: 0.805. Evaluation loss: 0.4251\n",
      "\n",
      "Start epoch [3/40]\n"
     ]
    },
    {
     "data": {
      "application/vnd.jupyter.widget-view+json": {
       "model_id": "4b6882981de74ec586e5af260fa256f9",
       "version_major": 2,
       "version_minor": 0
      },
      "text/plain": [
       "HBox(children=(IntProgress(value=0, description='Training', max=543, style=ProgressStyle(description_width='in…"
      ]
     },
     "metadata": {},
     "output_type": "display_data"
    },
    {
     "name": "stdout",
     "output_type": "stream",
     "text": [
      "Iteration: 100. Average training loss: 0.4852. Accuracy: 0.772\n",
      "Iteration: 200. Average training loss: 0.4696. Accuracy: 0.775\n",
      "Iteration: 300. Average training loss: 0.4612. Accuracy: 0.777\n",
      "Iteration: 400. Average training loss: 0.4520. Accuracy: 0.780\n",
      "Iteration: 500. Average training loss: 0.4558. Accuracy: 0.781\n"
     ]
    },
    {
     "data": {
      "application/vnd.jupyter.widget-view+json": {
       "model_id": "4ee6bbd4882b47f08295d7a8b64123c8",
       "version_major": 2,
       "version_minor": 0
      },
      "text/plain": [
       "HBox(children=(IntProgress(value=0, description='Evaluation', max=155, style=ProgressStyle(description_width='…"
      ]
     },
     "metadata": {},
     "output_type": "display_data"
    },
    {
     "name": "stdout",
     "output_type": "stream",
     "text": [
      "Iteration: 100. Average evaluation loss: 0.4073. Accuracy: 0.81\n",
      "\n",
      "Epoch [3/40]: Train accuracy: 0.783. Train loss: 0.4630. Evaluation accuracy: 0.818. Evaluation loss: 0.4017\n",
      "\n",
      "Start epoch [4/40]\n"
     ]
    },
    {
     "data": {
      "application/vnd.jupyter.widget-view+json": {
       "model_id": "8740d0e769aa4ed3aac254df379b389e",
       "version_major": 2,
       "version_minor": 0
      },
      "text/plain": [
       "HBox(children=(IntProgress(value=0, description='Training', max=543, style=ProgressStyle(description_width='in…"
      ]
     },
     "metadata": {},
     "output_type": "display_data"
    },
    {
     "name": "stdout",
     "output_type": "stream",
     "text": [
      "Iteration: 100. Average training loss: 0.4565. Accuracy: 0.784\n",
      "Iteration: 200. Average training loss: 0.4406. Accuracy: 0.789\n",
      "Iteration: 300. Average training loss: 0.4465. Accuracy: 0.791\n",
      "Iteration: 400. Average training loss: 0.4349. Accuracy: 0.793\n",
      "Iteration: 500. Average training loss: 0.4416. Accuracy: 0.793\n"
     ]
    },
    {
     "data": {
      "application/vnd.jupyter.widget-view+json": {
       "model_id": "72707d31552b46f2867a848392dbdae3",
       "version_major": 2,
       "version_minor": 0
      },
      "text/plain": [
       "HBox(children=(IntProgress(value=0, description='Evaluation', max=155, style=ProgressStyle(description_width='…"
      ]
     },
     "metadata": {},
     "output_type": "display_data"
    },
    {
     "name": "stdout",
     "output_type": "stream",
     "text": [
      "Iteration: 100. Average evaluation loss: 0.3928. Accuracy: 0.82\n",
      "\n",
      "Epoch [4/40]: Train accuracy: 0.793. Train loss: 0.4431. Evaluation accuracy: 0.825. Evaluation loss: 0.3877\n",
      "\n",
      "Start epoch [5/40]\n"
     ]
    },
    {
     "data": {
      "application/vnd.jupyter.widget-view+json": {
       "model_id": "5d2bbc0ca9e741a0bf1fa443dd7911f5",
       "version_major": 2,
       "version_minor": 0
      },
      "text/plain": [
       "HBox(children=(IntProgress(value=0, description='Training', max=543, style=ProgressStyle(description_width='in…"
      ]
     },
     "metadata": {},
     "output_type": "display_data"
    },
    {
     "name": "stdout",
     "output_type": "stream",
     "text": [
      "Iteration: 100. Average training loss: 0.4432. Accuracy: 0.796\n",
      "Iteration: 200. Average training loss: 0.4313. Accuracy: 0.797\n",
      "Iteration: 300. Average training loss: 0.4274. Accuracy: 0.800\n",
      "Iteration: 400. Average training loss: 0.4211. Accuracy: 0.802\n",
      "Iteration: 500. Average training loss: 0.4304. Accuracy: 0.803\n"
     ]
    },
    {
     "data": {
      "application/vnd.jupyter.widget-view+json": {
       "model_id": "1a7993277062463da0a3e7e3492a0842",
       "version_major": 2,
       "version_minor": 0
      },
      "text/plain": [
       "HBox(children=(IntProgress(value=0, description='Evaluation', max=155, style=ProgressStyle(description_width='…"
      ]
     },
     "metadata": {},
     "output_type": "display_data"
    },
    {
     "name": "stdout",
     "output_type": "stream",
     "text": [
      "Iteration: 100. Average evaluation loss: 0.3801. Accuracy: 0.83\n",
      "\n",
      "Epoch [5/40]: Train accuracy: 0.803. Train loss: 0.4299. Evaluation accuracy: 0.832. Evaluation loss: 0.3759\n",
      "\n",
      "Start epoch [6/40]\n"
     ]
    },
    {
     "data": {
      "application/vnd.jupyter.widget-view+json": {
       "model_id": "eeb6aad2e4e1458d9e59e6be93e5f5ae",
       "version_major": 2,
       "version_minor": 0
      },
      "text/plain": [
       "HBox(children=(IntProgress(value=0, description='Training', max=543, style=ProgressStyle(description_width='in…"
      ]
     },
     "metadata": {},
     "output_type": "display_data"
    },
    {
     "name": "stdout",
     "output_type": "stream",
     "text": [
      "Iteration: 100. Average training loss: 0.4319. Accuracy: 0.802\n",
      "Iteration: 200. Average training loss: 0.4278. Accuracy: 0.800\n",
      "Iteration: 300. Average training loss: 0.4114. Accuracy: 0.806\n",
      "Iteration: 400. Average training loss: 0.4125. Accuracy: 0.809\n",
      "Iteration: 500. Average training loss: 0.4199. Accuracy: 0.809\n"
     ]
    },
    {
     "data": {
      "application/vnd.jupyter.widget-view+json": {
       "model_id": "bb5d65e57ea04a81a9d53c58bec8cbb9",
       "version_major": 2,
       "version_minor": 0
      },
      "text/plain": [
       "HBox(children=(IntProgress(value=0, description='Evaluation', max=155, style=ProgressStyle(description_width='…"
      ]
     },
     "metadata": {},
     "output_type": "display_data"
    },
    {
     "name": "stdout",
     "output_type": "stream",
     "text": [
      "Iteration: 100. Average evaluation loss: 0.3728. Accuracy: 0.83\n",
      "\n",
      "Epoch [6/40]: Train accuracy: 0.809. Train loss: 0.4197. Evaluation accuracy: 0.836. Evaluation loss: 0.3692\n",
      "\n",
      "Start epoch [7/40]\n"
     ]
    },
    {
     "data": {
      "application/vnd.jupyter.widget-view+json": {
       "model_id": "028cb7727dba4a98bd8104d450539a80",
       "version_major": 2,
       "version_minor": 0
      },
      "text/plain": [
       "HBox(children=(IntProgress(value=0, description='Training', max=543, style=ProgressStyle(description_width='in…"
      ]
     },
     "metadata": {},
     "output_type": "display_data"
    },
    {
     "name": "stdout",
     "output_type": "stream",
     "text": [
      "Iteration: 100. Average training loss: 0.4223. Accuracy: 0.805\n",
      "Iteration: 200. Average training loss: 0.4150. Accuracy: 0.807\n",
      "Iteration: 300. Average training loss: 0.4098. Accuracy: 0.808\n",
      "Iteration: 400. Average training loss: 0.4074. Accuracy: 0.810\n",
      "Iteration: 500. Average training loss: 0.4039. Accuracy: 0.812\n"
     ]
    },
    {
     "data": {
      "application/vnd.jupyter.widget-view+json": {
       "model_id": "098a166c47814bda8573d78e739372c9",
       "version_major": 2,
       "version_minor": 0
      },
      "text/plain": [
       "HBox(children=(IntProgress(value=0, description='Evaluation', max=155, style=ProgressStyle(description_width='…"
      ]
     },
     "metadata": {},
     "output_type": "display_data"
    },
    {
     "name": "stdout",
     "output_type": "stream",
     "text": [
      "Iteration: 100. Average evaluation loss: 0.3644. Accuracy: 0.84\n",
      "\n",
      "Epoch [7/40]: Train accuracy: 0.813. Train loss: 0.4108. Evaluation accuracy: 0.842. Evaluation loss: 0.3615\n",
      "\n",
      "Start epoch [8/40]\n"
     ]
    },
    {
     "data": {
      "application/vnd.jupyter.widget-view+json": {
       "model_id": "27738ea175b24ae582cb93bbace39081",
       "version_major": 2,
       "version_minor": 0
      },
      "text/plain": [
       "HBox(children=(IntProgress(value=0, description='Training', max=543, style=ProgressStyle(description_width='in…"
      ]
     },
     "metadata": {},
     "output_type": "display_data"
    },
    {
     "name": "stdout",
     "output_type": "stream",
     "text": [
      "Iteration: 100. Average training loss: 0.4160. Accuracy: 0.811\n",
      "Iteration: 200. Average training loss: 0.4077. Accuracy: 0.813\n",
      "Iteration: 300. Average training loss: 0.4018. Accuracy: 0.814\n",
      "Iteration: 400. Average training loss: 0.3995. Accuracy: 0.816\n",
      "Iteration: 500. Average training loss: 0.3942. Accuracy: 0.819\n"
     ]
    },
    {
     "data": {
      "application/vnd.jupyter.widget-view+json": {
       "model_id": "7051a73ee9284f039035db9a4f3ec0bd",
       "version_major": 2,
       "version_minor": 0
      },
      "text/plain": [
       "HBox(children=(IntProgress(value=0, description='Evaluation', max=155, style=ProgressStyle(description_width='…"
      ]
     },
     "metadata": {},
     "output_type": "display_data"
    },
    {
     "name": "stdout",
     "output_type": "stream",
     "text": [
      "Iteration: 100. Average evaluation loss: 0.3586. Accuracy: 0.84\n",
      "\n",
      "Epoch [8/40]: Train accuracy: 0.819. Train loss: 0.4024. Evaluation accuracy: 0.844. Evaluation loss: 0.3557\n",
      "\n",
      "Start epoch [9/40]\n"
     ]
    },
    {
     "data": {
      "application/vnd.jupyter.widget-view+json": {
       "model_id": "e96eb6c3e4b149e694306788bf531319",
       "version_major": 2,
       "version_minor": 0
      },
      "text/plain": [
       "HBox(children=(IntProgress(value=0, description='Training', max=543, style=ProgressStyle(description_width='in…"
      ]
     },
     "metadata": {},
     "output_type": "display_data"
    },
    {
     "name": "stdout",
     "output_type": "stream",
     "text": [
      "Iteration: 100. Average training loss: 0.4096. Accuracy: 0.818\n",
      "Iteration: 200. Average training loss: 0.4042. Accuracy: 0.815\n",
      "Iteration: 300. Average training loss: 0.3950. Accuracy: 0.817\n",
      "Iteration: 400. Average training loss: 0.3927. Accuracy: 0.819\n",
      "Iteration: 500. Average training loss: 0.3969. Accuracy: 0.820\n"
     ]
    },
    {
     "data": {
      "application/vnd.jupyter.widget-view+json": {
       "model_id": "c4e0dbd04a4d4d2899472424d16d1b03",
       "version_major": 2,
       "version_minor": 0
      },
      "text/plain": [
       "HBox(children=(IntProgress(value=0, description='Evaluation', max=155, style=ProgressStyle(description_width='…"
      ]
     },
     "metadata": {},
     "output_type": "display_data"
    },
    {
     "name": "stdout",
     "output_type": "stream",
     "text": [
      "Iteration: 100. Average evaluation loss: 0.3534. Accuracy: 0.85\n",
      "\n",
      "Epoch [9/40]: Train accuracy: 0.820. Train loss: 0.3993. Evaluation accuracy: 0.847. Evaluation loss: 0.3514\n",
      "\n",
      "Start epoch [10/40]\n"
     ]
    },
    {
     "data": {
      "application/vnd.jupyter.widget-view+json": {
       "model_id": "ba3674a6c4754f77b35730f8554fde20",
       "version_major": 2,
       "version_minor": 0
      },
      "text/plain": [
       "HBox(children=(IntProgress(value=0, description='Training', max=543, style=ProgressStyle(description_width='in…"
      ]
     },
     "metadata": {},
     "output_type": "display_data"
    },
    {
     "name": "stdout",
     "output_type": "stream",
     "text": [
      "Iteration: 100. Average training loss: 0.4018. Accuracy: 0.819\n",
      "Iteration: 200. Average training loss: 0.3959. Accuracy: 0.818\n",
      "Iteration: 300. Average training loss: 0.3953. Accuracy: 0.819\n",
      "Iteration: 400. Average training loss: 0.3917. Accuracy: 0.820\n",
      "Iteration: 500. Average training loss: 0.3968. Accuracy: 0.821\n"
     ]
    },
    {
     "data": {
      "application/vnd.jupyter.widget-view+json": {
       "model_id": "7de8723e87d84d68821a8803bfa543c1",
       "version_major": 2,
       "version_minor": 0
      },
      "text/plain": [
       "HBox(children=(IntProgress(value=0, description='Evaluation', max=155, style=ProgressStyle(description_width='…"
      ]
     },
     "metadata": {},
     "output_type": "display_data"
    },
    {
     "name": "stdout",
     "output_type": "stream",
     "text": [
      "Iteration: 100. Average evaluation loss: 0.3501. Accuracy: 0.85\n",
      "\n",
      "Epoch [10/40]: Train accuracy: 0.821. Train loss: 0.3957. Evaluation accuracy: 0.849. Evaluation loss: 0.3474\n",
      "\n",
      "Start epoch [11/40]\n"
     ]
    },
    {
     "data": {
      "application/vnd.jupyter.widget-view+json": {
       "model_id": "308380495bb14cc18ecc577263be61bd",
       "version_major": 2,
       "version_minor": 0
      },
      "text/plain": [
       "HBox(children=(IntProgress(value=0, description='Training', max=543, style=ProgressStyle(description_width='in…"
      ]
     },
     "metadata": {},
     "output_type": "display_data"
    },
    {
     "name": "stdout",
     "output_type": "stream",
     "text": [
      "Iteration: 100. Average training loss: 0.3988. Accuracy: 0.817\n",
      "Iteration: 200. Average training loss: 0.3924. Accuracy: 0.819\n",
      "Iteration: 300. Average training loss: 0.3912. Accuracy: 0.822\n",
      "Iteration: 400. Average training loss: 0.3876. Accuracy: 0.824\n",
      "Iteration: 500. Average training loss: 0.3893. Accuracy: 0.825\n"
     ]
    },
    {
     "data": {
      "application/vnd.jupyter.widget-view+json": {
       "model_id": "e2ec19ad3ae0495aba9893e98fee5519",
       "version_major": 2,
       "version_minor": 0
      },
      "text/plain": [
       "HBox(children=(IntProgress(value=0, description='Evaluation', max=155, style=ProgressStyle(description_width='…"
      ]
     },
     "metadata": {},
     "output_type": "display_data"
    },
    {
     "name": "stdout",
     "output_type": "stream",
     "text": [
      "Iteration: 100. Average evaluation loss: 0.3470. Accuracy: 0.85\n",
      "\n",
      "Epoch [11/40]: Train accuracy: 0.826. Train loss: 0.3906. Evaluation accuracy: 0.851. Evaluation loss: 0.3446\n",
      "\n",
      "Start epoch [12/40]\n"
     ]
    },
    {
     "data": {
      "application/vnd.jupyter.widget-view+json": {
       "model_id": "f98e2bc34d064f91bbf8d67e41907b6b",
       "version_major": 2,
       "version_minor": 0
      },
      "text/plain": [
       "HBox(children=(IntProgress(value=0, description='Training', max=543, style=ProgressStyle(description_width='in…"
      ]
     },
     "metadata": {},
     "output_type": "display_data"
    },
    {
     "name": "stdout",
     "output_type": "stream",
     "text": [
      "Iteration: 100. Average training loss: 0.4014. Accuracy: 0.817\n",
      "Iteration: 200. Average training loss: 0.3924. Accuracy: 0.820\n",
      "Iteration: 300. Average training loss: 0.3898. Accuracy: 0.824\n",
      "Iteration: 400. Average training loss: 0.3801. Accuracy: 0.825\n",
      "Iteration: 500. Average training loss: 0.3818. Accuracy: 0.826\n"
     ]
    },
    {
     "data": {
      "application/vnd.jupyter.widget-view+json": {
       "model_id": "2c32c90e9b764834bc6a3326f018bcf3",
       "version_major": 2,
       "version_minor": 0
      },
      "text/plain": [
       "HBox(children=(IntProgress(value=0, description='Evaluation', max=155, style=ProgressStyle(description_width='…"
      ]
     },
     "metadata": {},
     "output_type": "display_data"
    },
    {
     "name": "stdout",
     "output_type": "stream",
     "text": [
      "Iteration: 100. Average evaluation loss: 0.3436. Accuracy: 0.85\n",
      "\n",
      "Epoch [12/40]: Train accuracy: 0.827. Train loss: 0.3880. Evaluation accuracy: 0.853. Evaluation loss: 0.3411\n",
      "\n",
      "Start epoch [13/40]\n"
     ]
    },
    {
     "data": {
      "application/vnd.jupyter.widget-view+json": {
       "model_id": "cc95e86458914c25895160d74a35785d",
       "version_major": 2,
       "version_minor": 0
      },
      "text/plain": [
       "HBox(children=(IntProgress(value=0, description='Training', max=543, style=ProgressStyle(description_width='in…"
      ]
     },
     "metadata": {},
     "output_type": "display_data"
    },
    {
     "name": "stdout",
     "output_type": "stream",
     "text": [
      "Iteration: 100. Average training loss: 0.3948. Accuracy: 0.820\n",
      "Iteration: 200. Average training loss: 0.3868. Accuracy: 0.824\n",
      "Iteration: 300. Average training loss: 0.3805. Accuracy: 0.826\n",
      "Iteration: 400. Average training loss: 0.3804. Accuracy: 0.828\n",
      "Iteration: 500. Average training loss: 0.3853. Accuracy: 0.829\n"
     ]
    },
    {
     "data": {
      "application/vnd.jupyter.widget-view+json": {
       "model_id": "39cb5dd5d55d4d289065a584ce520cb7",
       "version_major": 2,
       "version_minor": 0
      },
      "text/plain": [
       "HBox(children=(IntProgress(value=0, description='Evaluation', max=155, style=ProgressStyle(description_width='…"
      ]
     },
     "metadata": {},
     "output_type": "display_data"
    },
    {
     "name": "stdout",
     "output_type": "stream",
     "text": [
      "Iteration: 100. Average evaluation loss: 0.3434. Accuracy: 0.85\n",
      "\n",
      "Epoch [13/40]: Train accuracy: 0.829. Train loss: 0.3843. Evaluation accuracy: 0.852. Evaluation loss: 0.3404\n",
      "\n",
      "Start epoch [14/40]\n"
     ]
    },
    {
     "data": {
      "application/vnd.jupyter.widget-view+json": {
       "model_id": "8100d13c0da14098a80a08f60eab140c",
       "version_major": 2,
       "version_minor": 0
      },
      "text/plain": [
       "HBox(children=(IntProgress(value=0, description='Training', max=543, style=ProgressStyle(description_width='in…"
      ]
     },
     "metadata": {},
     "output_type": "display_data"
    },
    {
     "name": "stdout",
     "output_type": "stream",
     "text": [
      "Iteration: 100. Average training loss: 0.3953. Accuracy: 0.823\n",
      "Iteration: 200. Average training loss: 0.3850. Accuracy: 0.824\n",
      "Iteration: 300. Average training loss: 0.3831. Accuracy: 0.827\n",
      "Iteration: 400. Average training loss: 0.3756. Accuracy: 0.829\n",
      "Iteration: 500. Average training loss: 0.3755. Accuracy: 0.830\n"
     ]
    },
    {
     "data": {
      "application/vnd.jupyter.widget-view+json": {
       "model_id": "0b6ecb21792c4edc9ef1dbbc5fafc660",
       "version_major": 2,
       "version_minor": 0
      },
      "text/plain": [
       "HBox(children=(IntProgress(value=0, description='Evaluation', max=155, style=ProgressStyle(description_width='…"
      ]
     },
     "metadata": {},
     "output_type": "display_data"
    },
    {
     "name": "stdout",
     "output_type": "stream",
     "text": [
      "Iteration: 100. Average evaluation loss: 0.3427. Accuracy: 0.85\n",
      "\n",
      "Epoch [14/40]: Train accuracy: 0.831. Train loss: 0.3818. Evaluation accuracy: 0.852. Evaluation loss: 0.3395\n",
      "\n",
      "Start epoch [15/40]\n"
     ]
    },
    {
     "data": {
      "application/vnd.jupyter.widget-view+json": {
       "model_id": "6adca8bec1c149fab9908a92456bdc5a",
       "version_major": 2,
       "version_minor": 0
      },
      "text/plain": [
       "HBox(children=(IntProgress(value=0, description='Training', max=543, style=ProgressStyle(description_width='in…"
      ]
     },
     "metadata": {},
     "output_type": "display_data"
    },
    {
     "name": "stdout",
     "output_type": "stream",
     "text": [
      "Iteration: 100. Average training loss: 0.3859. Accuracy: 0.820\n",
      "Iteration: 200. Average training loss: 0.3860. Accuracy: 0.824\n",
      "Iteration: 300. Average training loss: 0.3833. Accuracy: 0.826\n",
      "Iteration: 400. Average training loss: 0.3791. Accuracy: 0.828\n",
      "Iteration: 500. Average training loss: 0.3767. Accuracy: 0.829\n"
     ]
    },
    {
     "data": {
      "application/vnd.jupyter.widget-view+json": {
       "model_id": "393ab89e48974b97971a431cc6b41cf4",
       "version_major": 2,
       "version_minor": 0
      },
      "text/plain": [
       "HBox(children=(IntProgress(value=0, description='Evaluation', max=155, style=ProgressStyle(description_width='…"
      ]
     },
     "metadata": {},
     "output_type": "display_data"
    },
    {
     "name": "stdout",
     "output_type": "stream",
     "text": [
      "Iteration: 100. Average evaluation loss: 0.3402. Accuracy: 0.85\n",
      "\n",
      "Epoch [15/40]: Train accuracy: 0.829. Train loss: 0.3823. Evaluation accuracy: 0.853. Evaluation loss: 0.3373\n",
      "\n",
      "Start epoch [16/40]\n"
     ]
    },
    {
     "data": {
      "application/vnd.jupyter.widget-view+json": {
       "model_id": "fd461daf2309475cb7f2489d2da571ea",
       "version_major": 2,
       "version_minor": 0
      },
      "text/plain": [
       "HBox(children=(IntProgress(value=0, description='Training', max=543, style=ProgressStyle(description_width='in…"
      ]
     },
     "metadata": {},
     "output_type": "display_data"
    },
    {
     "name": "stdout",
     "output_type": "stream",
     "text": [
      "Iteration: 100. Average training loss: 0.3862. Accuracy: 0.826\n",
      "Iteration: 200. Average training loss: 0.3804. Accuracy: 0.825\n",
      "Iteration: 300. Average training loss: 0.3798. Accuracy: 0.828\n",
      "Iteration: 400. Average training loss: 0.3697. Accuracy: 0.829\n",
      "Iteration: 500. Average training loss: 0.3744. Accuracy: 0.830\n"
     ]
    },
    {
     "data": {
      "application/vnd.jupyter.widget-view+json": {
       "model_id": "283c83cee61646128b5d29705ae26ab0",
       "version_major": 2,
       "version_minor": 0
      },
      "text/plain": [
       "HBox(children=(IntProgress(value=0, description='Evaluation', max=155, style=ProgressStyle(description_width='…"
      ]
     },
     "metadata": {},
     "output_type": "display_data"
    },
    {
     "name": "stdout",
     "output_type": "stream",
     "text": [
      "Iteration: 100. Average evaluation loss: 0.3360. Accuracy: 0.85\n",
      "\n",
      "Epoch [16/40]: Train accuracy: 0.831. Train loss: 0.3772. Evaluation accuracy: 0.855. Evaluation loss: 0.3333\n",
      "\n",
      "Start epoch [17/40]\n"
     ]
    },
    {
     "data": {
      "application/vnd.jupyter.widget-view+json": {
       "model_id": "3e3e0072f7f646d19d48667e4ecb38ff",
       "version_major": 2,
       "version_minor": 0
      },
      "text/plain": [
       "HBox(children=(IntProgress(value=0, description='Training', max=543, style=ProgressStyle(description_width='in…"
      ]
     },
     "metadata": {},
     "output_type": "display_data"
    },
    {
     "name": "stdout",
     "output_type": "stream",
     "text": [
      "Iteration: 100. Average training loss: 0.3858. Accuracy: 0.823\n",
      "Iteration: 200. Average training loss: 0.3799. Accuracy: 0.825\n",
      "Iteration: 300. Average training loss: 0.3708. Accuracy: 0.829\n",
      "Iteration: 400. Average training loss: 0.3716. Accuracy: 0.831\n",
      "Iteration: 500. Average training loss: 0.3767. Accuracy: 0.832\n"
     ]
    },
    {
     "data": {
      "application/vnd.jupyter.widget-view+json": {
       "model_id": "3f27f548a4c74ce8b844469680c833fc",
       "version_major": 2,
       "version_minor": 0
      },
      "text/plain": [
       "HBox(children=(IntProgress(value=0, description='Evaluation', max=155, style=ProgressStyle(description_width='…"
      ]
     },
     "metadata": {},
     "output_type": "display_data"
    },
    {
     "name": "stdout",
     "output_type": "stream",
     "text": [
      "Iteration: 100. Average evaluation loss: 0.3336. Accuracy: 0.85\n",
      "\n",
      "Epoch [17/40]: Train accuracy: 0.832. Train loss: 0.3759. Evaluation accuracy: 0.855. Evaluation loss: 0.3311\n",
      "\n",
      "Start epoch [18/40]\n"
     ]
    },
    {
     "data": {
      "application/vnd.jupyter.widget-view+json": {
       "model_id": "39396ef45ed24facb041de5a2d3367c1",
       "version_major": 2,
       "version_minor": 0
      },
      "text/plain": [
       "HBox(children=(IntProgress(value=0, description='Training', max=543, style=ProgressStyle(description_width='in…"
      ]
     },
     "metadata": {},
     "output_type": "display_data"
    },
    {
     "name": "stdout",
     "output_type": "stream",
     "text": [
      "Iteration: 100. Average training loss: 0.3823. Accuracy: 0.831\n",
      "Iteration: 200. Average training loss: 0.3767. Accuracy: 0.830\n",
      "Iteration: 300. Average training loss: 0.3733. Accuracy: 0.831\n",
      "Iteration: 400. Average training loss: 0.3716. Accuracy: 0.832\n",
      "Iteration: 500. Average training loss: 0.3778. Accuracy: 0.834\n"
     ]
    },
    {
     "data": {
      "application/vnd.jupyter.widget-view+json": {
       "model_id": "e5491a983be042148d939063dc6611d1",
       "version_major": 2,
       "version_minor": 0
      },
      "text/plain": [
       "HBox(children=(IntProgress(value=0, description='Evaluation', max=155, style=ProgressStyle(description_width='…"
      ]
     },
     "metadata": {},
     "output_type": "display_data"
    },
    {
     "name": "stdout",
     "output_type": "stream",
     "text": [
      "Iteration: 100. Average evaluation loss: 0.3335. Accuracy: 0.86\n",
      "\n",
      "Epoch [18/40]: Train accuracy: 0.834. Train loss: 0.3754. Evaluation accuracy: 0.856. Evaluation loss: 0.3309\n",
      "\n",
      "Start epoch [19/40]\n"
     ]
    },
    {
     "data": {
      "application/vnd.jupyter.widget-view+json": {
       "model_id": "4596d9d8b1ce49709b69ce02b6b45637",
       "version_major": 2,
       "version_minor": 0
      },
      "text/plain": [
       "HBox(children=(IntProgress(value=0, description='Training', max=543, style=ProgressStyle(description_width='in…"
      ]
     },
     "metadata": {},
     "output_type": "display_data"
    },
    {
     "name": "stdout",
     "output_type": "stream",
     "text": [
      "Iteration: 100. Average training loss: 0.3814. Accuracy: 0.829\n",
      "Iteration: 200. Average training loss: 0.3791. Accuracy: 0.831\n",
      "Iteration: 300. Average training loss: 0.3687. Accuracy: 0.833\n",
      "Iteration: 400. Average training loss: 0.3659. Accuracy: 0.834\n",
      "Iteration: 500. Average training loss: 0.3685. Accuracy: 0.836\n"
     ]
    },
    {
     "data": {
      "application/vnd.jupyter.widget-view+json": {
       "model_id": "09a84762bb664291a1286585ce2778dd",
       "version_major": 2,
       "version_minor": 0
      },
      "text/plain": [
       "HBox(children=(IntProgress(value=0, description='Evaluation', max=155, style=ProgressStyle(description_width='…"
      ]
     },
     "metadata": {},
     "output_type": "display_data"
    },
    {
     "name": "stdout",
     "output_type": "stream",
     "text": [
      "Iteration: 100. Average evaluation loss: 0.3334. Accuracy: 0.86\n",
      "\n",
      "Epoch [19/40]: Train accuracy: 0.837. Train loss: 0.3717. Evaluation accuracy: 0.857. Evaluation loss: 0.3306\n",
      "\n",
      "Start epoch [20/40]\n"
     ]
    },
    {
     "data": {
      "application/vnd.jupyter.widget-view+json": {
       "model_id": "920e306d6dea4e8693141015e2ec0941",
       "version_major": 2,
       "version_minor": 0
      },
      "text/plain": [
       "HBox(children=(IntProgress(value=0, description='Training', max=543, style=ProgressStyle(description_width='in…"
      ]
     },
     "metadata": {},
     "output_type": "display_data"
    },
    {
     "name": "stdout",
     "output_type": "stream",
     "text": [
      "Iteration: 100. Average training loss: 0.3731. Accuracy: 0.838\n",
      "Iteration: 200. Average training loss: 0.3818. Accuracy: 0.833\n",
      "Iteration: 300. Average training loss: 0.3660. Accuracy: 0.836\n",
      "Iteration: 400. Average training loss: 0.3675. Accuracy: 0.836\n",
      "Iteration: 500. Average training loss: 0.3734. Accuracy: 0.836\n"
     ]
    },
    {
     "data": {
      "application/vnd.jupyter.widget-view+json": {
       "model_id": "8d295dfbf48447efb4b5b191a7035ac5",
       "version_major": 2,
       "version_minor": 0
      },
      "text/plain": [
       "HBox(children=(IntProgress(value=0, description='Evaluation', max=155, style=ProgressStyle(description_width='…"
      ]
     },
     "metadata": {},
     "output_type": "display_data"
    },
    {
     "name": "stdout",
     "output_type": "stream",
     "text": [
      "Iteration: 100. Average evaluation loss: 0.3305. Accuracy: 0.86\n",
      "\n",
      "Epoch [20/40]: Train accuracy: 0.837. Train loss: 0.3718. Evaluation accuracy: 0.858. Evaluation loss: 0.3286\n",
      "\n",
      "Start epoch [21/40]\n"
     ]
    },
    {
     "data": {
      "application/vnd.jupyter.widget-view+json": {
       "model_id": "a66f24a6ffca4690a7e9f88b73af93a7",
       "version_major": 2,
       "version_minor": 0
      },
      "text/plain": [
       "HBox(children=(IntProgress(value=0, description='Training', max=543, style=ProgressStyle(description_width='in…"
      ]
     },
     "metadata": {},
     "output_type": "display_data"
    },
    {
     "name": "stdout",
     "output_type": "stream",
     "text": [
      "Iteration: 100. Average training loss: 0.3804. Accuracy: 0.830\n",
      "Iteration: 200. Average training loss: 0.3730. Accuracy: 0.833\n",
      "Iteration: 300. Average training loss: 0.3678. Accuracy: 0.833\n",
      "Iteration: 400. Average training loss: 0.3642. Accuracy: 0.835\n",
      "Iteration: 500. Average training loss: 0.3727. Accuracy: 0.836\n"
     ]
    },
    {
     "data": {
      "application/vnd.jupyter.widget-view+json": {
       "model_id": "77e17af1f3a146699302a43e01168b61",
       "version_major": 2,
       "version_minor": 0
      },
      "text/plain": [
       "HBox(children=(IntProgress(value=0, description='Evaluation', max=155, style=ProgressStyle(description_width='…"
      ]
     },
     "metadata": {},
     "output_type": "display_data"
    },
    {
     "name": "stdout",
     "output_type": "stream",
     "text": [
      "Iteration: 100. Average evaluation loss: 0.3291. Accuracy: 0.86\n",
      "\n",
      "Epoch [21/40]: Train accuracy: 0.836. Train loss: 0.3710. Evaluation accuracy: 0.859. Evaluation loss: 0.3272\n",
      "\n",
      "Start epoch [22/40]\n"
     ]
    },
    {
     "data": {
      "application/vnd.jupyter.widget-view+json": {
       "model_id": "d9f2d056fbb647e0acaaca9b0bde4b06",
       "version_major": 2,
       "version_minor": 0
      },
      "text/plain": [
       "HBox(children=(IntProgress(value=0, description='Training', max=543, style=ProgressStyle(description_width='in…"
      ]
     },
     "metadata": {},
     "output_type": "display_data"
    },
    {
     "name": "stdout",
     "output_type": "stream",
     "text": [
      "Iteration: 100. Average training loss: 0.3803. Accuracy: 0.830\n",
      "Iteration: 200. Average training loss: 0.3755. Accuracy: 0.830\n",
      "Iteration: 300. Average training loss: 0.3678. Accuracy: 0.833\n",
      "Iteration: 400. Average training loss: 0.3584. Accuracy: 0.835\n",
      "Iteration: 500. Average training loss: 0.3657. Accuracy: 0.836\n"
     ]
    },
    {
     "data": {
      "application/vnd.jupyter.widget-view+json": {
       "model_id": "fe7709e69a2b4a4ea41b7149a308b495",
       "version_major": 2,
       "version_minor": 0
      },
      "text/plain": [
       "HBox(children=(IntProgress(value=0, description='Evaluation', max=155, style=ProgressStyle(description_width='…"
      ]
     },
     "metadata": {},
     "output_type": "display_data"
    },
    {
     "name": "stdout",
     "output_type": "stream",
     "text": [
      "Iteration: 100. Average evaluation loss: 0.3279. Accuracy: 0.86\n",
      "\n",
      "Epoch [22/40]: Train accuracy: 0.837. Train loss: 0.3687. Evaluation accuracy: 0.860. Evaluation loss: 0.3260\n",
      "\n",
      "Start epoch [23/40]\n"
     ]
    },
    {
     "data": {
      "application/vnd.jupyter.widget-view+json": {
       "model_id": "adf09e6ffbd14aa2ae0b6dc44840ff12",
       "version_major": 2,
       "version_minor": 0
      },
      "text/plain": [
       "HBox(children=(IntProgress(value=0, description='Training', max=543, style=ProgressStyle(description_width='in…"
      ]
     },
     "metadata": {},
     "output_type": "display_data"
    },
    {
     "name": "stdout",
     "output_type": "stream",
     "text": [
      "Iteration: 100. Average training loss: 0.3818. Accuracy: 0.828\n",
      "Iteration: 200. Average training loss: 0.3722. Accuracy: 0.832\n",
      "Iteration: 300. Average training loss: 0.3636. Accuracy: 0.836\n",
      "Iteration: 400. Average training loss: 0.3599. Accuracy: 0.836\n",
      "Iteration: 500. Average training loss: 0.3644. Accuracy: 0.838\n"
     ]
    },
    {
     "data": {
      "application/vnd.jupyter.widget-view+json": {
       "model_id": "6af0a2b065de4394b755ee9c444e4c3c",
       "version_major": 2,
       "version_minor": 0
      },
      "text/plain": [
       "HBox(children=(IntProgress(value=0, description='Evaluation', max=155, style=ProgressStyle(description_width='…"
      ]
     },
     "metadata": {},
     "output_type": "display_data"
    },
    {
     "name": "stdout",
     "output_type": "stream",
     "text": [
      "Iteration: 100. Average evaluation loss: 0.3250. Accuracy: 0.86\n",
      "\n",
      "Epoch [23/40]: Train accuracy: 0.838. Train loss: 0.3676. Evaluation accuracy: 0.861. Evaluation loss: 0.3234\n",
      "\n",
      "Start epoch [24/40]\n"
     ]
    },
    {
     "data": {
      "application/vnd.jupyter.widget-view+json": {
       "model_id": "a1e66f8aab684329bb2dc40d88a52301",
       "version_major": 2,
       "version_minor": 0
      },
      "text/plain": [
       "HBox(children=(IntProgress(value=0, description='Training', max=543, style=ProgressStyle(description_width='in…"
      ]
     },
     "metadata": {},
     "output_type": "display_data"
    },
    {
     "name": "stdout",
     "output_type": "stream",
     "text": [
      "Iteration: 100. Average training loss: 0.3804. Accuracy: 0.827\n",
      "Iteration: 200. Average training loss: 0.3648. Accuracy: 0.835\n",
      "Iteration: 300. Average training loss: 0.3690. Accuracy: 0.836\n",
      "Iteration: 400. Average training loss: 0.3570. Accuracy: 0.838\n",
      "Iteration: 500. Average training loss: 0.3679. Accuracy: 0.838\n"
     ]
    },
    {
     "data": {
      "application/vnd.jupyter.widget-view+json": {
       "model_id": "6623844710b544f6a06bcc88e67499c1",
       "version_major": 2,
       "version_minor": 0
      },
      "text/plain": [
       "HBox(children=(IntProgress(value=0, description='Evaluation', max=155, style=ProgressStyle(description_width='…"
      ]
     },
     "metadata": {},
     "output_type": "display_data"
    },
    {
     "name": "stdout",
     "output_type": "stream",
     "text": [
      "Iteration: 100. Average evaluation loss: 0.3246. Accuracy: 0.86\n",
      "\n",
      "Epoch [24/40]: Train accuracy: 0.839. Train loss: 0.3668. Evaluation accuracy: 0.861. Evaluation loss: 0.3224\n",
      "\n",
      "Start epoch [25/40]\n"
     ]
    },
    {
     "data": {
      "application/vnd.jupyter.widget-view+json": {
       "model_id": "1bc17ad969a04aad8293e590fcab699c",
       "version_major": 2,
       "version_minor": 0
      },
      "text/plain": [
       "HBox(children=(IntProgress(value=0, description='Training', max=543, style=ProgressStyle(description_width='in…"
      ]
     },
     "metadata": {},
     "output_type": "display_data"
    },
    {
     "name": "stdout",
     "output_type": "stream",
     "text": [
      "Iteration: 100. Average training loss: 0.3807. Accuracy: 0.829\n",
      "Iteration: 200. Average training loss: 0.3642. Accuracy: 0.834\n",
      "Iteration: 300. Average training loss: 0.3642. Accuracy: 0.836\n",
      "Iteration: 400. Average training loss: 0.3617. Accuracy: 0.837\n",
      "Iteration: 500. Average training loss: 0.3615. Accuracy: 0.837\n"
     ]
    },
    {
     "data": {
      "application/vnd.jupyter.widget-view+json": {
       "model_id": "4849e518bee9420da6126ebb01670583",
       "version_major": 2,
       "version_minor": 0
      },
      "text/plain": [
       "HBox(children=(IntProgress(value=0, description='Evaluation', max=155, style=ProgressStyle(description_width='…"
      ]
     },
     "metadata": {},
     "output_type": "display_data"
    },
    {
     "name": "stdout",
     "output_type": "stream",
     "text": [
      "Iteration: 100. Average evaluation loss: 0.3238. Accuracy: 0.86\n",
      "\n",
      "Epoch [25/40]: Train accuracy: 0.838. Train loss: 0.3657. Evaluation accuracy: 0.861. Evaluation loss: 0.3221\n",
      "\n",
      "Start epoch [26/40]\n"
     ]
    },
    {
     "data": {
      "application/vnd.jupyter.widget-view+json": {
       "model_id": "447f6839efa544528f61df3a11fbf6ab",
       "version_major": 2,
       "version_minor": 0
      },
      "text/plain": [
       "HBox(children=(IntProgress(value=0, description='Training', max=543, style=ProgressStyle(description_width='in…"
      ]
     },
     "metadata": {},
     "output_type": "display_data"
    },
    {
     "name": "stdout",
     "output_type": "stream",
     "text": [
      "Iteration: 100. Average training loss: 0.3760. Accuracy: 0.834\n",
      "Iteration: 200. Average training loss: 0.3752. Accuracy: 0.835\n",
      "Iteration: 300. Average training loss: 0.3661. Accuracy: 0.837\n",
      "Iteration: 400. Average training loss: 0.3574. Accuracy: 0.838\n",
      "Iteration: 500. Average training loss: 0.3592. Accuracy: 0.838\n"
     ]
    },
    {
     "data": {
      "application/vnd.jupyter.widget-view+json": {
       "model_id": "9a7bf475d32c48f9a50cea881d36dd03",
       "version_major": 2,
       "version_minor": 0
      },
      "text/plain": [
       "HBox(children=(IntProgress(value=0, description='Evaluation', max=155, style=ProgressStyle(description_width='…"
      ]
     },
     "metadata": {},
     "output_type": "display_data"
    },
    {
     "name": "stdout",
     "output_type": "stream",
     "text": [
      "Iteration: 100. Average evaluation loss: 0.3227. Accuracy: 0.86\n",
      "\n",
      "Epoch [26/40]: Train accuracy: 0.839. Train loss: 0.3660. Evaluation accuracy: 0.863. Evaluation loss: 0.3206\n",
      "\n",
      "Start epoch [27/40]\n"
     ]
    },
    {
     "data": {
      "application/vnd.jupyter.widget-view+json": {
       "model_id": "8fa5ae62a97e4bb3abd36ebafeef4df8",
       "version_major": 2,
       "version_minor": 0
      },
      "text/plain": [
       "HBox(children=(IntProgress(value=0, description='Training', max=543, style=ProgressStyle(description_width='in…"
      ]
     },
     "metadata": {},
     "output_type": "display_data"
    },
    {
     "name": "stdout",
     "output_type": "stream",
     "text": [
      "Iteration: 100. Average training loss: 0.3768. Accuracy: 0.831\n",
      "Iteration: 200. Average training loss: 0.3706. Accuracy: 0.832\n",
      "Iteration: 300. Average training loss: 0.3622. Accuracy: 0.834\n",
      "Iteration: 400. Average training loss: 0.3611. Accuracy: 0.836\n",
      "Iteration: 500. Average training loss: 0.3582. Accuracy: 0.837\n"
     ]
    },
    {
     "data": {
      "application/vnd.jupyter.widget-view+json": {
       "model_id": "5cf9afb3313d4d93955da0078c6f47f0",
       "version_major": 2,
       "version_minor": 0
      },
      "text/plain": [
       "HBox(children=(IntProgress(value=0, description='Evaluation', max=155, style=ProgressStyle(description_width='…"
      ]
     },
     "metadata": {},
     "output_type": "display_data"
    },
    {
     "name": "stdout",
     "output_type": "stream",
     "text": [
      "Iteration: 100. Average evaluation loss: 0.3215. Accuracy: 0.86\n",
      "\n",
      "Epoch [27/40]: Train accuracy: 0.838. Train loss: 0.3649. Evaluation accuracy: 0.861. Evaluation loss: 0.3202\n",
      "\n",
      "Start epoch [28/40]\n"
     ]
    },
    {
     "data": {
      "application/vnd.jupyter.widget-view+json": {
       "model_id": "d86b6400a1704f529952a9f085e7f404",
       "version_major": 2,
       "version_minor": 0
      },
      "text/plain": [
       "HBox(children=(IntProgress(value=0, description='Training', max=543, style=ProgressStyle(description_width='in…"
      ]
     },
     "metadata": {},
     "output_type": "display_data"
    },
    {
     "name": "stdout",
     "output_type": "stream",
     "text": [
      "Iteration: 100. Average training loss: 0.3747. Accuracy: 0.835\n",
      "Iteration: 200. Average training loss: 0.3698. Accuracy: 0.835\n",
      "Iteration: 300. Average training loss: 0.3645. Accuracy: 0.836\n",
      "Iteration: 400. Average training loss: 0.3589. Accuracy: 0.837\n",
      "Iteration: 500. Average training loss: 0.3584. Accuracy: 0.839\n"
     ]
    },
    {
     "data": {
      "application/vnd.jupyter.widget-view+json": {
       "model_id": "fafa27131aec48d4a4af3548bfacf920",
       "version_major": 2,
       "version_minor": 0
      },
      "text/plain": [
       "HBox(children=(IntProgress(value=0, description='Evaluation', max=155, style=ProgressStyle(description_width='…"
      ]
     },
     "metadata": {},
     "output_type": "display_data"
    },
    {
     "name": "stdout",
     "output_type": "stream",
     "text": [
      "Iteration: 100. Average evaluation loss: 0.3241. Accuracy: 0.86\n",
      "\n",
      "Epoch [28/40]: Train accuracy: 0.840. Train loss: 0.3638. Evaluation accuracy: 0.859. Evaluation loss: 0.3216\n",
      "\n",
      "Start epoch [29/40]\n"
     ]
    },
    {
     "data": {
      "application/vnd.jupyter.widget-view+json": {
       "model_id": "ffd36a41f7e043789dc1231a53ec5055",
       "version_major": 2,
       "version_minor": 0
      },
      "text/plain": [
       "HBox(children=(IntProgress(value=0, description='Training', max=543, style=ProgressStyle(description_width='in…"
      ]
     },
     "metadata": {},
     "output_type": "display_data"
    },
    {
     "name": "stdout",
     "output_type": "stream",
     "text": [
      "Iteration: 100. Average training loss: 0.3708. Accuracy: 0.836\n",
      "Iteration: 200. Average training loss: 0.3646. Accuracy: 0.838\n",
      "Iteration: 300. Average training loss: 0.3663. Accuracy: 0.839\n",
      "Iteration: 400. Average training loss: 0.3591. Accuracy: 0.840\n",
      "Iteration: 500. Average training loss: 0.3595. Accuracy: 0.841\n"
     ]
    },
    {
     "data": {
      "application/vnd.jupyter.widget-view+json": {
       "model_id": "16aaaeb6becb4a238d9f3a882268c40b",
       "version_major": 2,
       "version_minor": 0
      },
      "text/plain": [
       "HBox(children=(IntProgress(value=0, description='Evaluation', max=155, style=ProgressStyle(description_width='…"
      ]
     },
     "metadata": {},
     "output_type": "display_data"
    },
    {
     "name": "stdout",
     "output_type": "stream",
     "text": [
      "Iteration: 100. Average evaluation loss: 0.3223. Accuracy: 0.86\n",
      "\n",
      "Epoch [29/40]: Train accuracy: 0.841. Train loss: 0.3627. Evaluation accuracy: 0.862. Evaluation loss: 0.3201\n",
      "\n",
      "Start epoch [30/40]\n"
     ]
    },
    {
     "data": {
      "application/vnd.jupyter.widget-view+json": {
       "model_id": "be608713ef2d4d3795b8bb8e3eb60706",
       "version_major": 2,
       "version_minor": 0
      },
      "text/plain": [
       "HBox(children=(IntProgress(value=0, description='Training', max=543, style=ProgressStyle(description_width='in…"
      ]
     },
     "metadata": {},
     "output_type": "display_data"
    },
    {
     "name": "stdout",
     "output_type": "stream",
     "text": [
      "Iteration: 100. Average training loss: 0.3773. Accuracy: 0.837\n",
      "Iteration: 200. Average training loss: 0.3613. Accuracy: 0.839\n",
      "Iteration: 300. Average training loss: 0.3663. Accuracy: 0.839\n",
      "Iteration: 400. Average training loss: 0.3586. Accuracy: 0.840\n",
      "Iteration: 500. Average training loss: 0.3591. Accuracy: 0.842\n"
     ]
    },
    {
     "data": {
      "application/vnd.jupyter.widget-view+json": {
       "model_id": "5a623a681339436b95985e82e1aa5482",
       "version_major": 2,
       "version_minor": 0
      },
      "text/plain": [
       "HBox(children=(IntProgress(value=0, description='Evaluation', max=155, style=ProgressStyle(description_width='…"
      ]
     },
     "metadata": {},
     "output_type": "display_data"
    },
    {
     "name": "stdout",
     "output_type": "stream",
     "text": [
      "Iteration: 100. Average evaluation loss: 0.3226. Accuracy: 0.86\n",
      "\n",
      "Epoch [30/40]: Train accuracy: 0.841. Train loss: 0.3642. Evaluation accuracy: 0.861. Evaluation loss: 0.3201\n",
      "\n",
      "Start epoch [31/40]\n"
     ]
    },
    {
     "data": {
      "application/vnd.jupyter.widget-view+json": {
       "model_id": "9d0a6af8fdcc46ee91c818d8f24ec53a",
       "version_major": 2,
       "version_minor": 0
      },
      "text/plain": [
       "HBox(children=(IntProgress(value=0, description='Training', max=543, style=ProgressStyle(description_width='in…"
      ]
     },
     "metadata": {},
     "output_type": "display_data"
    },
    {
     "name": "stdout",
     "output_type": "stream",
     "text": [
      "Iteration: 100. Average training loss: 0.3694. Accuracy: 0.836\n",
      "Iteration: 200. Average training loss: 0.3604. Accuracy: 0.836\n",
      "Iteration: 300. Average training loss: 0.3635. Accuracy: 0.837\n",
      "Iteration: 400. Average training loss: 0.3577. Accuracy: 0.837\n",
      "Iteration: 500. Average training loss: 0.3540. Accuracy: 0.838\n"
     ]
    },
    {
     "data": {
      "application/vnd.jupyter.widget-view+json": {
       "model_id": "1482f3b48b5d478b8db197755fb326e0",
       "version_major": 2,
       "version_minor": 0
      },
      "text/plain": [
       "HBox(children=(IntProgress(value=0, description='Evaluation', max=155, style=ProgressStyle(description_width='…"
      ]
     },
     "metadata": {},
     "output_type": "display_data"
    },
    {
     "name": "stdout",
     "output_type": "stream",
     "text": [
      "Iteration: 100. Average evaluation loss: 0.3210. Accuracy: 0.86\n",
      "\n",
      "Epoch [31/40]: Train accuracy: 0.839. Train loss: 0.3609. Evaluation accuracy: 0.862. Evaluation loss: 0.3186\n",
      "\n",
      "Start epoch [32/40]\n"
     ]
    },
    {
     "data": {
      "application/vnd.jupyter.widget-view+json": {
       "model_id": "1d34a994f6a34340bb159f5729718c2c",
       "version_major": 2,
       "version_minor": 0
      },
      "text/plain": [
       "HBox(children=(IntProgress(value=0, description='Training', max=543, style=ProgressStyle(description_width='in…"
      ]
     },
     "metadata": {},
     "output_type": "display_data"
    },
    {
     "name": "stdout",
     "output_type": "stream",
     "text": [
      "Iteration: 100. Average training loss: 0.3751. Accuracy: 0.833\n",
      "Iteration: 200. Average training loss: 0.3692. Accuracy: 0.835\n",
      "Iteration: 300. Average training loss: 0.3637. Accuracy: 0.837\n",
      "Iteration: 400. Average training loss: 0.3562. Accuracy: 0.839\n",
      "Iteration: 500. Average training loss: 0.3555. Accuracy: 0.840\n"
     ]
    },
    {
     "data": {
      "application/vnd.jupyter.widget-view+json": {
       "model_id": "0c3b1998b2c94717bcb9d6609700c208",
       "version_major": 2,
       "version_minor": 0
      },
      "text/plain": [
       "HBox(children=(IntProgress(value=0, description='Evaluation', max=155, style=ProgressStyle(description_width='…"
      ]
     },
     "metadata": {},
     "output_type": "display_data"
    },
    {
     "name": "stdout",
     "output_type": "stream",
     "text": [
      "Iteration: 100. Average evaluation loss: 0.3213. Accuracy: 0.86\n",
      "\n",
      "Epoch [32/40]: Train accuracy: 0.841. Train loss: 0.3629. Evaluation accuracy: 0.863. Evaluation loss: 0.3185\n",
      "\n",
      "Start epoch [33/40]\n"
     ]
    },
    {
     "data": {
      "application/vnd.jupyter.widget-view+json": {
       "model_id": "74689d6858f94164b1d934dd404b842e",
       "version_major": 2,
       "version_minor": 0
      },
      "text/plain": [
       "HBox(children=(IntProgress(value=0, description='Training', max=543, style=ProgressStyle(description_width='in…"
      ]
     },
     "metadata": {},
     "output_type": "display_data"
    },
    {
     "name": "stdout",
     "output_type": "stream",
     "text": [
      "Iteration: 100. Average training loss: 0.3745. Accuracy: 0.831\n",
      "Iteration: 200. Average training loss: 0.3595. Accuracy: 0.836\n",
      "Iteration: 300. Average training loss: 0.3620. Accuracy: 0.837\n",
      "Iteration: 400. Average training loss: 0.3613. Accuracy: 0.837\n",
      "Iteration: 500. Average training loss: 0.3558. Accuracy: 0.839\n"
     ]
    },
    {
     "data": {
      "application/vnd.jupyter.widget-view+json": {
       "model_id": "36ed42d8cd1d469fb31cb3d03a08d411",
       "version_major": 2,
       "version_minor": 0
      },
      "text/plain": [
       "HBox(children=(IntProgress(value=0, description='Evaluation', max=155, style=ProgressStyle(description_width='…"
      ]
     },
     "metadata": {},
     "output_type": "display_data"
    },
    {
     "name": "stdout",
     "output_type": "stream",
     "text": [
      "Iteration: 100. Average evaluation loss: 0.3209. Accuracy: 0.86\n",
      "\n",
      "Epoch [33/40]: Train accuracy: 0.841. Train loss: 0.3616. Evaluation accuracy: 0.862. Evaluation loss: 0.3187\n",
      "\n",
      "Start epoch [34/40]\n"
     ]
    },
    {
     "data": {
      "application/vnd.jupyter.widget-view+json": {
       "model_id": "5f02a6fa1cc8428bb961e326684309e0",
       "version_major": 2,
       "version_minor": 0
      },
      "text/plain": [
       "HBox(children=(IntProgress(value=0, description='Training', max=543, style=ProgressStyle(description_width='in…"
      ]
     },
     "metadata": {},
     "output_type": "display_data"
    },
    {
     "name": "stdout",
     "output_type": "stream",
     "text": [
      "Iteration: 100. Average training loss: 0.3672. Accuracy: 0.837\n",
      "Iteration: 200. Average training loss: 0.3647. Accuracy: 0.835\n",
      "Iteration: 300. Average training loss: 0.3591. Accuracy: 0.838\n",
      "Iteration: 400. Average training loss: 0.3565. Accuracy: 0.839\n",
      "Iteration: 500. Average training loss: 0.3591. Accuracy: 0.839\n"
     ]
    },
    {
     "data": {
      "application/vnd.jupyter.widget-view+json": {
       "model_id": "1358f9c41c4d4b1490c69351e733872d",
       "version_major": 2,
       "version_minor": 0
      },
      "text/plain": [
       "HBox(children=(IntProgress(value=0, description='Evaluation', max=155, style=ProgressStyle(description_width='…"
      ]
     },
     "metadata": {},
     "output_type": "display_data"
    },
    {
     "name": "stdout",
     "output_type": "stream",
     "text": [
      "Iteration: 100. Average evaluation loss: 0.3211. Accuracy: 0.86\n",
      "\n",
      "Epoch [34/40]: Train accuracy: 0.840. Train loss: 0.3597. Evaluation accuracy: 0.861. Evaluation loss: 0.3183\n",
      "\n",
      "Start epoch [35/40]\n"
     ]
    },
    {
     "data": {
      "application/vnd.jupyter.widget-view+json": {
       "model_id": "1fffb20983374d4290df7090eee0a846",
       "version_major": 2,
       "version_minor": 0
      },
      "text/plain": [
       "HBox(children=(IntProgress(value=0, description='Training', max=543, style=ProgressStyle(description_width='in…"
      ]
     },
     "metadata": {},
     "output_type": "display_data"
    },
    {
     "name": "stdout",
     "output_type": "stream",
     "text": [
      "Iteration: 100. Average training loss: 0.3730. Accuracy: 0.832\n",
      "Iteration: 200. Average training loss: 0.3674. Accuracy: 0.833\n",
      "Iteration: 300. Average training loss: 0.3615. Accuracy: 0.836\n",
      "Iteration: 400. Average training loss: 0.3550. Accuracy: 0.838\n",
      "Iteration: 500. Average training loss: 0.3627. Accuracy: 0.838\n"
     ]
    },
    {
     "data": {
      "application/vnd.jupyter.widget-view+json": {
       "model_id": "5d8541eeb7744b549c44c1c91395b20e",
       "version_major": 2,
       "version_minor": 0
      },
      "text/plain": [
       "HBox(children=(IntProgress(value=0, description='Evaluation', max=155, style=ProgressStyle(description_width='…"
      ]
     },
     "metadata": {},
     "output_type": "display_data"
    },
    {
     "name": "stdout",
     "output_type": "stream",
     "text": [
      "Iteration: 100. Average evaluation loss: 0.3191. Accuracy: 0.86\n",
      "\n",
      "Epoch [35/40]: Train accuracy: 0.839. Train loss: 0.3622. Evaluation accuracy: 0.862. Evaluation loss: 0.3166\n",
      "\n",
      "Start epoch [36/40]\n"
     ]
    },
    {
     "data": {
      "application/vnd.jupyter.widget-view+json": {
       "model_id": "8549e9fc484a4b2cab009f507aa4c7da",
       "version_major": 2,
       "version_minor": 0
      },
      "text/plain": [
       "HBox(children=(IntProgress(value=0, description='Training', max=543, style=ProgressStyle(description_width='in…"
      ]
     },
     "metadata": {},
     "output_type": "display_data"
    },
    {
     "name": "stdout",
     "output_type": "stream",
     "text": [
      "Iteration: 100. Average training loss: 0.3699. Accuracy: 0.837\n",
      "Iteration: 200. Average training loss: 0.3655. Accuracy: 0.837\n",
      "Iteration: 300. Average training loss: 0.3514. Accuracy: 0.841\n",
      "Iteration: 400. Average training loss: 0.3537. Accuracy: 0.843\n",
      "Iteration: 500. Average training loss: 0.3583. Accuracy: 0.843\n"
     ]
    },
    {
     "data": {
      "application/vnd.jupyter.widget-view+json": {
       "model_id": "480829bc55dd4d23a6248afff7ca9d32",
       "version_major": 2,
       "version_minor": 0
      },
      "text/plain": [
       "HBox(children=(IntProgress(value=0, description='Evaluation', max=155, style=ProgressStyle(description_width='…"
      ]
     },
     "metadata": {},
     "output_type": "display_data"
    },
    {
     "name": "stdout",
     "output_type": "stream",
     "text": [
      "Iteration: 100. Average evaluation loss: 0.3195. Accuracy: 0.86\n",
      "\n",
      "Epoch [36/40]: Train accuracy: 0.843. Train loss: 0.3586. Evaluation accuracy: 0.863. Evaluation loss: 0.3169\n",
      "\n",
      "Start epoch [37/40]\n"
     ]
    },
    {
     "data": {
      "application/vnd.jupyter.widget-view+json": {
       "model_id": "0eea801743ba4e5abd6d5465cbaf5d4f",
       "version_major": 2,
       "version_minor": 0
      },
      "text/plain": [
       "HBox(children=(IntProgress(value=0, description='Training', max=543, style=ProgressStyle(description_width='in…"
      ]
     },
     "metadata": {},
     "output_type": "display_data"
    },
    {
     "name": "stdout",
     "output_type": "stream",
     "text": [
      "Iteration: 100. Average training loss: 0.3700. Accuracy: 0.838\n",
      "Iteration: 200. Average training loss: 0.3627. Accuracy: 0.839\n",
      "Iteration: 300. Average training loss: 0.3568. Accuracy: 0.841\n",
      "Iteration: 400. Average training loss: 0.3538. Accuracy: 0.842\n",
      "Iteration: 500. Average training loss: 0.3550. Accuracy: 0.843\n"
     ]
    },
    {
     "data": {
      "application/vnd.jupyter.widget-view+json": {
       "model_id": "a9fff17f943846c28202cfd7aab56e73",
       "version_major": 2,
       "version_minor": 0
      },
      "text/plain": [
       "HBox(children=(IntProgress(value=0, description='Evaluation', max=155, style=ProgressStyle(description_width='…"
      ]
     },
     "metadata": {},
     "output_type": "display_data"
    },
    {
     "name": "stdout",
     "output_type": "stream",
     "text": [
      "Iteration: 100. Average evaluation loss: 0.3203. Accuracy: 0.86\n",
      "\n",
      "Epoch [37/40]: Train accuracy: 0.844. Train loss: 0.3590. Evaluation accuracy: 0.862. Evaluation loss: 0.3176\n",
      "\n",
      "Start epoch [38/40]\n"
     ]
    },
    {
     "data": {
      "application/vnd.jupyter.widget-view+json": {
       "model_id": "782db8dfe8934cb18f4841c00f242192",
       "version_major": 2,
       "version_minor": 0
      },
      "text/plain": [
       "HBox(children=(IntProgress(value=0, description='Training', max=543, style=ProgressStyle(description_width='in…"
      ]
     },
     "metadata": {},
     "output_type": "display_data"
    },
    {
     "name": "stdout",
     "output_type": "stream",
     "text": [
      "Iteration: 100. Average training loss: 0.3690. Accuracy: 0.835\n",
      "Iteration: 200. Average training loss: 0.3605. Accuracy: 0.839\n",
      "Iteration: 300. Average training loss: 0.3587. Accuracy: 0.840\n",
      "Iteration: 400. Average training loss: 0.3509. Accuracy: 0.841\n",
      "Iteration: 500. Average training loss: 0.3556. Accuracy: 0.842\n"
     ]
    },
    {
     "data": {
      "application/vnd.jupyter.widget-view+json": {
       "model_id": "884939c13146444cbaba27cb29a20b7a",
       "version_major": 2,
       "version_minor": 0
      },
      "text/plain": [
       "HBox(children=(IntProgress(value=0, description='Evaluation', max=155, style=ProgressStyle(description_width='…"
      ]
     },
     "metadata": {},
     "output_type": "display_data"
    },
    {
     "name": "stdout",
     "output_type": "stream",
     "text": [
      "Iteration: 100. Average evaluation loss: 0.3191. Accuracy: 0.86\n",
      "\n",
      "Epoch [38/40]: Train accuracy: 0.842. Train loss: 0.3586. Evaluation accuracy: 0.862. Evaluation loss: 0.3171\n",
      "\n",
      "Start epoch [39/40]\n"
     ]
    },
    {
     "data": {
      "application/vnd.jupyter.widget-view+json": {
       "model_id": "8b1c2871a9f8405c93bd8b4bf9e07efd",
       "version_major": 2,
       "version_minor": 0
      },
      "text/plain": [
       "HBox(children=(IntProgress(value=0, description='Training', max=543, style=ProgressStyle(description_width='in…"
      ]
     },
     "metadata": {},
     "output_type": "display_data"
    },
    {
     "name": "stdout",
     "output_type": "stream",
     "text": [
      "Iteration: 100. Average training loss: 0.3690. Accuracy: 0.838\n",
      "Iteration: 200. Average training loss: 0.3595. Accuracy: 0.837\n",
      "Iteration: 300. Average training loss: 0.3580. Accuracy: 0.840\n",
      "Iteration: 400. Average training loss: 0.3527. Accuracy: 0.841\n",
      "Iteration: 500. Average training loss: 0.3526. Accuracy: 0.842\n"
     ]
    },
    {
     "data": {
      "application/vnd.jupyter.widget-view+json": {
       "model_id": "f08fce8a01b34095940200fdcd036ab7",
       "version_major": 2,
       "version_minor": 0
      },
      "text/plain": [
       "HBox(children=(IntProgress(value=0, description='Evaluation', max=155, style=ProgressStyle(description_width='…"
      ]
     },
     "metadata": {},
     "output_type": "display_data"
    },
    {
     "name": "stdout",
     "output_type": "stream",
     "text": [
      "Iteration: 100. Average evaluation loss: 0.3193. Accuracy: 0.86\n",
      "\n",
      "Epoch [39/40]: Train accuracy: 0.843. Train loss: 0.3574. Evaluation accuracy: 0.864. Evaluation loss: 0.3170\n",
      "\n",
      "Start epoch [40/40]\n"
     ]
    },
    {
     "data": {
      "application/vnd.jupyter.widget-view+json": {
       "model_id": "709499744802492bb0804822636b4b3a",
       "version_major": 2,
       "version_minor": 0
      },
      "text/plain": [
       "HBox(children=(IntProgress(value=0, description='Training', max=543, style=ProgressStyle(description_width='in…"
      ]
     },
     "metadata": {},
     "output_type": "display_data"
    },
    {
     "name": "stdout",
     "output_type": "stream",
     "text": [
      "Iteration: 100. Average training loss: 0.3682. Accuracy: 0.841\n",
      "Iteration: 200. Average training loss: 0.3669. Accuracy: 0.840\n",
      "Iteration: 300. Average training loss: 0.3553. Accuracy: 0.841\n",
      "Iteration: 400. Average training loss: 0.3551. Accuracy: 0.842\n",
      "Iteration: 500. Average training loss: 0.3483. Accuracy: 0.843\n"
     ]
    },
    {
     "data": {
      "application/vnd.jupyter.widget-view+json": {
       "model_id": "b4e4d28d31134be8ba8c62bc7f0abbb2",
       "version_major": 2,
       "version_minor": 0
      },
      "text/plain": [
       "HBox(children=(IntProgress(value=0, description='Evaluation', max=155, style=ProgressStyle(description_width='…"
      ]
     },
     "metadata": {},
     "output_type": "display_data"
    },
    {
     "name": "stdout",
     "output_type": "stream",
     "text": [
      "Iteration: 100. Average evaluation loss: 0.3213. Accuracy: 0.86\n",
      "\n",
      "Epoch [40/40]: Train accuracy: 0.842. Train loss: 0.3584. Evaluation accuracy: 0.862. Evaluation loss: 0.3181\n"
     ]
    }
   ],
   "source": [
    "# Initialize parameters\n",
    "hidden_size = 8\n",
    "vocab_size = len(train_iterator.word2index)\n",
    "n_extra_feat = 10\n",
    "output_size = 2\n",
    "n_layers = 1\n",
    "dropout = 0.5\n",
    "learning_rate = 0.001\n",
    "epochs = 40\n",
    "spatial_dropout = True\n",
    "\n",
    "# Load the weights matrix\n",
    "weights = np.load('glove/weights-biRGU-glove.npy')\n",
    "\n",
    "# Check whether system supports CUDA\n",
    "CUDA = torch.cuda.is_available()\n",
    "\n",
    "model = BiGRU(hidden_size, vocab_size, n_extra_feat, weights, output_size, n_layers, dropout,\n",
    "              spatial_dropout, bidirectional=True)\n",
    "\n",
    "# Move the model to GPU if possible\n",
    "if CUDA:\n",
    "    model.cuda()\n",
    "\n",
    "model.add_loss_fn(nn.NLLLoss())\n",
    "\n",
    "optimizer = torch.optim.Adam(model.parameters(), lr=learning_rate)\n",
    "model.add_optimizer(optimizer)\n",
    "\n",
    "device = torch.device('cuda' if CUDA else 'cpu')\n",
    "\n",
    "model.add_device(device)\n",
    "\n",
    "# Instantiate the EarlyStopping\n",
    "early_stop = EarlyStopping(wait_epochs=2)\n",
    "\n",
    "train_losses_list, train_avg_loss_list, train_accuracy_list = [], [], []\n",
    "eval_avg_loss_list, eval_accuracy_list, conf_matrix_list = [], [], []\n",
    "\n",
    "\n",
    "for epoch in range(epochs):\n",
    "    \n",
    "    print('\\nStart epoch [{}/{}]'.format(epoch+1, epochs))\n",
    "    \n",
    "    train_losses, train_avg_loss, train_accuracy = model.train_model(train_iterator)\n",
    "    \n",
    "    train_losses_list.append(train_losses)\n",
    "    train_avg_loss_list.append(train_avg_loss)\n",
    "    train_accuracy_list.append(train_accuracy)\n",
    "    \n",
    "    _, eval_avg_loss, eval_accuracy, conf_matrix = model.evaluate_model(val_iterator)\n",
    "    \n",
    "    eval_avg_loss_list.append(eval_avg_loss)\n",
    "    eval_accuracy_list.append(eval_accuracy)\n",
    "    conf_matrix_list.append(conf_matrix)\n",
    "    \n",
    "    print('\\nEpoch [{}/{}]: Train accuracy: {:.3f}. Train loss: {:.4f}. Evaluation accuracy: {:.3f}. Evaluation loss: {:.4f}'\\\n",
    "          .format(epoch+1, epochs, train_accuracy, train_avg_loss, eval_accuracy, eval_avg_loss))\n",
    "    \n",
    "    if early_stop.stop(eval_avg_loss, model, delta=0.003):\n",
    "        break\n",
    "\n",
    "    "
   ]
  },
  {
   "cell_type": "markdown",
   "metadata": {},
   "source": [
    "The model's improvement during training went so slowly that we had to use 40 epochs to train the model. As we can see, for the last epochs the changes of the validation and training losses began to fluctuate near the same value, thus the performance will likely not improve if we continue training. The validation accuracy of the model with pre-trained vectors is 0.862.  "
   ]
  },
  {
   "cell_type": "code",
   "execution_count": 32,
   "metadata": {},
   "outputs": [],
   "source": [
    "# Add the dataset initial loss\n",
    "train_avg_loss_list.insert(0, train_losses_list[0][0])\n",
    "eval_avg_loss_list.insert(0, train_losses_list[0][0])"
   ]
  },
  {
   "cell_type": "code",
   "execution_count": 34,
   "metadata": {},
   "outputs": [
    {
     "data": {
      "image/png": "[encoded data removed]",
      "text/plain": [
       "<Figure size 576x360 with 1 Axes>"
      ]
     },
     "metadata": {
      "needs_background": "light"
     },
     "output_type": "display_data"
    }
   ],
   "source": [
    "# Plot the training and the validation learning curve\n",
    "plt.figure(figsize=(8,5))\n",
    "plt.plot(train_avg_loss_list, label='Training loss')\n",
    "plt.plot(eval_avg_loss_list, label='Evaluation loss')\n",
    "plt.xlabel('Epoch', size=12)\n",
    "plt.ylabel('Loss', size=12)\n",
    "plt.title('biGRU with pre-trained vectors learning curves')\n",
    "plt.xticks(ticks=range(0, 41, 2))\n",
    "plt.legend()\n",
    "plt.show()"
   ]
  },
  {
   "cell_type": "code",
   "execution_count": 44,
   "metadata": {},
   "outputs": [
    {
     "data": {
      "image/png": "[encoded data removed]",
      "text/plain": [
       "<Figure size 432x432 with 2 Axes>"
      ]
     },
     "metadata": {
      "needs_background": "light"
     },
     "output_type": "display_data"
    }
   ],
   "source": [
    "# Confusion matrix\n",
    "plt.figure(figsize=(6,6))\n",
    "ax = sns.heatmap(conf_matrix, fmt='d', annot=True, linewidths=1, square=True)\n",
    "ax.set_xlabel('Predictions', size=12)\n",
    "ax.set_ylabel('True labels', size=12) \n",
    "ax.set_title('Confusion Matrix', size=12); \n",
    "ax.xaxis.set_ticklabels(['True', 'False'])\n",
    "ax.yaxis.set_ticklabels(['True', 'False'])\n",
    "ax.set_ylim(2,0)\n",
    "plt.show()"
   ]
  },
  {
   "cell_type": "markdown",
   "metadata": {},
   "source": [
    "### The generalization error"
   ]
  },
  {
   "cell_type": "code",
   "execution_count": 52,
   "metadata": {},
   "outputs": [],
   "source": [
    "# Import the dataset. Use clean_review and label columns\n",
    "test_dataset = pd.read_csv('dataset/datasets_feat_clean/test_feat_clean.csv',\n",
    "                            usecols=['clean_review', 'polarity', 'subjectivity', 'word_count', 'UPPERCASE', 'DIGITS',\n",
    "                                     'PROPN', 'VERB', 'NOUN', 'PUNCT', 'ADJ', 'label'])\n",
    "\n",
    "# Change columns order\n",
    "test_dataset = test_dataset[['clean_review', 'polarity', 'subjectivity', 'word_count', 'UPPERCASE', 'DIGITS',\n",
    "                             'PROPN', 'VERB', 'NOUN', 'PUNCT', 'ADJ', 'label']]"
   ]
  },
  {
   "cell_type": "code",
   "execution_count": 53,
   "metadata": {},
   "outputs": [
    {
     "data": {
      "text/html": [
       "<div>\n",
       "<style scoped>\n",
       "    .dataframe tbody tr th:only-of-type {\n",
       "        vertical-align: middle;\n",
       "    }\n",
       "\n",
       "    .dataframe tbody tr th {\n",
       "        vertical-align: top;\n",
       "    }\n",
       "\n",
       "    .dataframe thead th {\n",
       "        text-align: right;\n",
       "    }\n",
       "</style>\n",
       "<table border=\"1\" class=\"dataframe\">\n",
       "  <thead>\n",
       "    <tr style=\"text-align: right;\">\n",
       "      <th></th>\n",
       "      <th>clean_review</th>\n",
       "      <th>polarity</th>\n",
       "      <th>subjectivity</th>\n",
       "      <th>word_count</th>\n",
       "      <th>UPPERCASE</th>\n",
       "      <th>DIGITS</th>\n",
       "      <th>PROPN</th>\n",
       "      <th>VERB</th>\n",
       "      <th>NOUN</th>\n",
       "      <th>PUNCT</th>\n",
       "      <th>ADJ</th>\n",
       "      <th>label</th>\n",
       "    </tr>\n",
       "  </thead>\n",
       "  <tbody>\n",
       "    <tr>\n",
       "      <td>0</td>\n",
       "      <td>hear film till pop cable tv understand geena o...</td>\n",
       "      <td>-0.01698</td>\n",
       "      <td>0.4990</td>\n",
       "      <td>226</td>\n",
       "      <td>0.01770</td>\n",
       "      <td>0.004425</td>\n",
       "      <td>0.08405</td>\n",
       "      <td>0.1991</td>\n",
       "      <td>0.1903</td>\n",
       "      <td>0.0929</td>\n",
       "      <td>0.05310</td>\n",
       "      <td>1</td>\n",
       "    </tr>\n",
       "    <tr>\n",
       "      <td>1</td>\n",
       "      <td>know film show local tv kid remember watch see...</td>\n",
       "      <td>0.03116</td>\n",
       "      <td>0.4822</td>\n",
       "      <td>418</td>\n",
       "      <td>0.09810</td>\n",
       "      <td>0.000000</td>\n",
       "      <td>0.14830</td>\n",
       "      <td>0.1459</td>\n",
       "      <td>0.1698</td>\n",
       "      <td>0.2057</td>\n",
       "      <td>0.06940</td>\n",
       "      <td>0</td>\n",
       "    </tr>\n",
       "    <tr>\n",
       "      <td>2</td>\n",
       "      <td>admire kiss mouth frankness  pubic hair cut m...</td>\n",
       "      <td>-0.05817</td>\n",
       "      <td>0.5215</td>\n",
       "      <td>298</td>\n",
       "      <td>0.01342</td>\n",
       "      <td>0.000000</td>\n",
       "      <td>0.03693</td>\n",
       "      <td>0.1544</td>\n",
       "      <td>0.2214</td>\n",
       "      <td>0.1913</td>\n",
       "      <td>0.12760</td>\n",
       "      <td>0</td>\n",
       "    </tr>\n",
       "    <tr>\n",
       "      <td>3</td>\n",
       "      <td>see cure kid love year late get hold copy acci...</td>\n",
       "      <td>0.08920</td>\n",
       "      <td>0.5264</td>\n",
       "      <td>757</td>\n",
       "      <td>0.03568</td>\n",
       "      <td>0.000000</td>\n",
       "      <td>0.04755</td>\n",
       "      <td>0.1770</td>\n",
       "      <td>0.1783</td>\n",
       "      <td>0.1625</td>\n",
       "      <td>0.07135</td>\n",
       "      <td>1</td>\n",
       "    </tr>\n",
       "    <tr>\n",
       "      <td>4</td>\n",
       "      <td>movie true fact see documentary day early movi...</td>\n",
       "      <td>0.12930</td>\n",
       "      <td>0.4688</td>\n",
       "      <td>186</td>\n",
       "      <td>0.01613</td>\n",
       "      <td>0.000000</td>\n",
       "      <td>0.02689</td>\n",
       "      <td>0.1774</td>\n",
       "      <td>0.1720</td>\n",
       "      <td>0.0914</td>\n",
       "      <td>0.08060</td>\n",
       "      <td>0</td>\n",
       "    </tr>\n",
       "  </tbody>\n",
       "</table>\n",
       "</div>"
      ],
      "text/plain": [
       "                                        clean_review  polarity  subjectivity  \\\n",
       "0  hear film till pop cable tv understand geena o...  -0.01698        0.4990   \n",
       "1  know film show local tv kid remember watch see...   0.03116        0.4822   \n",
       "2  admire kiss mouth frankness  pubic hair cut m...  -0.05817        0.5215   \n",
       "3  see cure kid love year late get hold copy acci...   0.08920        0.5264   \n",
       "4  movie true fact see documentary day early movi...   0.12930        0.4688   \n",
       "\n",
       "   word_count  UPPERCASE    DIGITS    PROPN    VERB    NOUN   PUNCT      ADJ  \\\n",
       "0         226    0.01770  0.004425  0.08405  0.1991  0.1903  0.0929  0.05310   \n",
       "1         418    0.09810  0.000000  0.14830  0.1459  0.1698  0.2057  0.06940   \n",
       "2         298    0.01342  0.000000  0.03693  0.1544  0.2214  0.1913  0.12760   \n",
       "3         757    0.03568  0.000000  0.04755  0.1770  0.1783  0.1625  0.07135   \n",
       "4         186    0.01613  0.000000  0.02689  0.1774  0.1720  0.0914  0.08060   \n",
       "\n",
       "   label  \n",
       "0      1  \n",
       "1      0  \n",
       "2      0  \n",
       "3      1  \n",
       "4      0  "
      ]
     },
     "execution_count": 53,
     "metadata": {},
     "output_type": "execute_result"
    }
   ],
   "source": [
    "test_dataset.head()"
   ]
  },
  {
   "cell_type": "code",
   "execution_count": 54,
   "metadata": {},
   "outputs": [],
   "source": [
    "# Instantiate the StandardScaler\n",
    "test_scaler = StandardScaler()\n",
    "# Scale the features\n",
    "test_dataset.iloc[:, 3:11] = test_scaler.fit_transform(test_dataset.iloc[:, 3:11])"
   ]
  },
  {
   "cell_type": "code",
   "execution_count": 55,
   "metadata": {},
   "outputs": [
    {
     "name": "stdout",
     "output_type": "stream",
     "text": [
      "Trimmed vocabulary using as minimum count threashold: count = 3.00\n",
      "13480/39104 tokens has been retained\n",
      "Trimmed input strings vocabulary\n",
      "Trimmed input sequences lengths to the length of: 187\n",
      "Mapped words to indices\n",
      "Batches created\n"
     ]
    }
   ],
   "source": [
    "test_iterator = BatchIterator(test_dataset, batch_size=256, vocab_created=False, vocab=None, target_col=None,\n",
    "                              word2index=train_iterator.word2index, sos_token='<SOS>', eos_token='<EOS>',\n",
    "                              unk_token='<UNK>', pad_token='<PAD>', min_word_count=3, max_vocab_size=None,\n",
    "                              max_seq_len=0.9, use_pretrained_vectors=False, glove_path='glove/',\n",
    "                              glove_name='glove.6B.100d.txt', weights_file_name='glove/weights.npy')"
   ]
  },
  {
   "cell_type": "code",
   "execution_count": 56,
   "metadata": {},
   "outputs": [
    {
     "data": {
      "application/vnd.jupyter.widget-view+json": {
       "model_id": "adfb8557637f4939ab23fe65a56e6a83",
       "version_major": 2,
       "version_minor": 0
      },
      "text/plain": [
       "HBox(children=(IntProgress(value=0, description='Evaluation', max=20, style=ProgressStyle(description_width='i…"
      ]
     },
     "metadata": {},
     "output_type": "display_data"
    }
   ],
   "source": [
    "_, test_avg_loss, test_accuracy, test_conf_matrix = model.evaluate_model(test_iterator)"
   ]
  },
  {
   "cell_type": "code",
   "execution_count": 57,
   "metadata": {},
   "outputs": [
    {
     "name": "stdout",
     "output_type": "stream",
     "text": [
      "Test accuracy: 0.862. Test error: 0.319\n"
     ]
    }
   ],
   "source": [
    "print('Test accuracy: {:.3f}. Test error: {:.3f}'.format(test_accuracy, test_avg_loss))"
   ]
  },
  {
   "cell_type": "code",
   "execution_count": 58,
   "metadata": {},
   "outputs": [
    {
     "data": {
      "image/png": "[encoded data removed]",
      "text/plain": [
       "<Figure size 432x432 with 2 Axes>"
      ]
     },
     "metadata": {
      "needs_background": "light"
     },
     "output_type": "display_data"
    }
   ],
   "source": [
    "# Confusion matrix\n",
    "plt.figure(figsize=(6,6))\n",
    "ax = sns.heatmap(test_conf_matrix, fmt='d', annot=True, linewidths=1, square=True)\n",
    "ax.set_xlabel('Predictions', size=12)\n",
    "ax.set_ylabel('True labels', size=12) \n",
    "ax.set_title('Confusion Matrix', size=12); \n",
    "ax.xaxis.set_ticklabels(['True', 'False'])\n",
    "ax.yaxis.set_ticklabels(['True', 'False'])\n",
    "ax.set_ylim(2,0)\n",
    "plt.show()"
   ]
  },
  {
   "cell_type": "markdown",
   "metadata": {},
   "source": [
    "The model with pre-trained word embeddings achieved worse result than the previous models. The generalization accuracy equals 0.862. The confusion matrix depicted above shows that the model misclassified the positive examples (377) more times than negative examples (308)."
   ]
  }
 ],
 "metadata": {
  "kernelspec": {
   "display_name": "Python 3",
   "language": "python",
   "name": "python3"
  },
  "language_info": {
   "codemirror_mode": {
    "name": "ipython",
    "version": 3
   },
   "file_extension": ".py",
   "mimetype": "text/x-python",
   "name": "python",
   "nbconvert_exporter": "python",
   "pygments_lexer": "ipython3",
   "version": "3.7.3"
  }
 },
 "nbformat": 4,
 "nbformat_minor": 2
}
